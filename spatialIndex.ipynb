{
    "cells": [
        {
            "cell_type": "markdown",
            "metadata": {},
            "source": [
                "\n"
            ]
        },
        {
            "cell_type": "code",
            "execution_count": 1,
            "metadata": {},
            "outputs": [],
            "source": [
                "knitr::opts_chunk$set(echo = TRUE)\n",
                "\n"
            ]
        },
        {
            "cell_type": "markdown",
            "metadata": {},
            "source": [
                "# Spatial integration\n",
                "\n",
                "The following functions were used to create a spatial integration dataset.\n"
            ]
        },
        {
            "cell_type": "code",
            "execution_count": 2,
            "metadata": {},
            "outputs": [
                {
                    "name": "stderr",
                    "output_type": "stream",
                    "text": [
                        "Linking to GEOS 3.9.1, GDAL 3.2.3, PROJ 7.2.1\n",
                        "\n",
                        "── \u001b[1mAttaching packages\u001b[22m ─────────────────────────────────────── tidyverse 1.3.1 ──\n",
                        "\n",
                        "\u001b[32m✔\u001b[39m \u001b[34mggplot2\u001b[39m 3.3.5     \u001b[32m✔\u001b[39m \u001b[34mpurrr  \u001b[39m 0.3.4\n",
                        "\u001b[32m✔\u001b[39m \u001b[34mtibble \u001b[39m 3.1.5     \u001b[32m✔\u001b[39m \u001b[34mdplyr  \u001b[39m 1.0.7\n",
                        "\u001b[32m✔\u001b[39m \u001b[34mtidyr  \u001b[39m 1.1.4     \u001b[32m✔\u001b[39m \u001b[34mstringr\u001b[39m 1.4.0\n",
                        "\u001b[32m✔\u001b[39m \u001b[34mreadr  \u001b[39m 2.0.2     \u001b[32m✔\u001b[39m \u001b[34mforcats\u001b[39m 0.5.1\n",
                        "\n",
                        "── \u001b[1mConflicts\u001b[22m ────────────────────────────────────────── tidyverse_conflicts() ──\n",
                        "\u001b[31m✖\u001b[39m \u001b[34mdplyr\u001b[39m::\u001b[32mfilter()\u001b[39m masks \u001b[34mstats\u001b[39m::filter()\n",
                        "\u001b[31m✖\u001b[39m \u001b[34mdplyr\u001b[39m::\u001b[32mlag()\u001b[39m    masks \u001b[34mstats\u001b[39m::lag()\n",
                        "\n"
                    ]
                }
            ],
            "source": [
                "#libraries\n",
                "library(sf)\n",
                "library(tidyverse)\n",
                "library(feather)"
            ]
        },
        {
            "cell_type": "code",
            "execution_count": 3,
            "metadata": {},
            "outputs": [],
            "source": [
                "spatialIndex = function(){\n",
                "  # read the shapefiles, crs = 2193 NZGD200/NZTM200 \n",
                "  # -> WARNING pretty big files <-\n",
                "  #map.mesh = st_read(\"spatialData/statsnzmeshblock-2021-generalised-SHP/meshblock-2021-generalised.shp\")\n",
                "  map.sa2 = st_read(\"spatialData/statsnzstatistical-area-2-2020-generalised-SHP/statistical-area-2-2020-generalised.shp\")\n",
                "  map.fenz = st_read(\"spatialData/lds-fire-and-emergency-nz-localities-SHP/fire-and-emergency-nz-localities.shp\")\n",
                "  map.lds = st_read(\"spatialData/lds-nz-land-districts-SHP/nz-land-districts.shp\")\n",
                "  \n",
                "  #intersect\n",
                "  #index1 = st_intersection(map.mesh, map.sa2) %>% st_drop_geometry() #left out at this stage\n",
                "  urbanIndex = st_nearest_feature(map.sa2, map.fenz) #get closest FENZ locality to SA2 -> urban\n",
                "  ruralIndex = st_nearest_feature(map.fenz, map.sa2) #get closest SA2 to FENZ locality ->rural\n",
                "  \n",
                "  #filter urban and rural areas\n",
                "  urbanSpatialIndex = cbind(map.sa2 %>% st_drop_geometry(), map.fenz[urbanIndex,] %>% st_drop_geometry()) %>% \n",
                "    filter(type == \"SUBURB\") # urban part\n",
                "  ruralSpatialIndex = cbind(map.sa2[ruralIndex,] %>% st_drop_geometry(), map.fenz %>% st_drop_geometry()) %>% \n",
                "    filter(type != \"SUBURB\") # rural part\n",
                "  \n",
                "  #add region by intersection\n",
                "  regionIndex = st_intersection(map.fenz, map.lds) %>% st_drop_geometry()\n",
                "  \n",
                "  #join urban and rural\n",
                "  fullSpatialIndex = rbind(urbanSpatialIndex, ruralSpatialIndex)\n",
                "  fullSpatialIndex = left_join(fullSpatialIndex, regionIndex)\n",
                "  \n",
                "  #write\n",
                "  write_feather(fullSpatialIndex, \"outputData/spatialIndexFull.feather\")\n",
                "}\n"
            ]
        },
        {
            "cell_type": "markdown",
            "metadata": {},
            "source": [
                "\n"
            ]
        },
        {
            "cell_type": "code",
            "execution_count": 4,
            "metadata": {},
            "outputs": [],
            "source": [
                "cleanUp.export.SpatialIndex = function(){\n",
                "  index = read_feather(\"outputData/spatialIndexFull.feather\")\n",
                "  index = index %>% \n",
                "  select(\n",
                "    name, id.1,\n",
                "    city_name, city_id,\n",
                "    suburb_4th, id,\n",
                "    SA22020__2, SA22020_V1\n",
                "  ) %>% \n",
                "  rename(\n",
                "    RegionName = name, regionID = id.1,\n",
                "    TownCity = city_name, cityID = city_id,\n",
                "    SuburbName = suburb_4th, SuburbID = id,\n",
                "    SA2Name = SA22020__2, SA2ID = SA22020_V1\n",
                "  ) \n",
                "  \n",
                "  #write\n",
                "  write_feather(index, \"outputData/spatialIndexTrimmed.feather\")\n",
                "  write.csv(index, \"outputData/spatialIndexTrimmed.csv\")\n",
                "  print(index)\n",
                "}\n"
            ]
        },
        {
            "cell_type": "markdown",
            "metadata": {},
            "source": [
                "\n"
            ]
        },
        {
            "cell_type": "code",
            "execution_count": 5,
            "metadata": {},
            "outputs": [
                {
                    "name": "stdout",
                    "output_type": "stream",
                    "text": [
                        "Reading layer `statistical-area-2-2020-generalised' from data source \n",
                        "  `/Users/ll/Documents/MADS/DATA422/AOJCCYDPLL_Data422GroupProject/spatialData/statsnzstatistical-area-2-2020-generalised-SHP/statistical-area-2-2020-generalised.shp' \n",
                        "  using driver `ESRI Shapefile'\n",
                        "Simple feature collection with 2255 features and 6 fields (with 16 geometries empty)\n",
                        "Geometry type: MULTIPOLYGON\n",
                        "Dimension:     XY\n",
                        "Bounding box:  xmin: 1067061 ymin: 4701317 xmax: 2523320 ymax: 6242140\n",
                        "Projected CRS: NZGD2000 / New Zealand Transverse Mercator 2000\n",
                        "Reading layer `fire-and-emergency-nz-localities' from data source \n",
                        "  `/Users/ll/Documents/MADS/DATA422/AOJCCYDPLL_Data422GroupProject/spatialData/lds-fire-and-emergency-nz-localities-SHP/fire-and-emergency-nz-localities.shp' \n",
                        "  using driver `ESRI Shapefile'\n",
                        "Simple feature collection with 7375 features and 15 fields\n",
                        "Geometry type: MULTIPOLYGON\n",
                        "Dimension:     XY\n",
                        "Bounding box:  xmin: 1089971 ymin: 4747979 xmax: 2470566 ymax: 6223164\n",
                        "Projected CRS: NZGD2000 / New Zealand Transverse Mercator 2000\n",
                        "Reading layer `nz-land-districts' from data source \n",
                        "  `/Users/ll/Documents/MADS/DATA422/AOJCCYDPLL_Data422GroupProject/spatialData/lds-nz-land-districts-SHP/nz-land-districts.shp' \n",
                        "  using driver `ESRI Shapefile'\n",
                        "Simple feature collection with 12 features and 2 fields\n",
                        "Geometry type: MULTIPOLYGON\n",
                        "Dimension:     XY\n",
                        "Bounding box:  xmin: 1066764 ymin: 4700195 xmax: 2523319 ymax: 6237682\n",
                        "Projected CRS: NZGD2000 / New Zealand Transverse Mercator 2000\n"
                    ]
                },
                {
                    "name": "stderr",
                    "output_type": "stream",
                    "text": [
                        "Warning message:\n",
                        "“attribute variables are assumed to be spatially constant throughout all geometries”\n",
                        "Joining, by = c(\"id\", \"parent_id\", \"suburb_4th\", \"suburb_3rd\", \"suburb_2nd\", \"suburb_1st\", \"type_order\", \"type\", \"city_id\", \"city_name\", \"has_addres\", \"start_date\", \"end_date\", \"majorlocal\", \"majorloc_1\")\n",
                        "\n"
                    ]
                },
                {
                    "name": "stdout",
                    "output_type": "stream",
                    "text": [
                        "\u001b[90m# A tibble: 7,912 × 8\u001b[39m\n",
                        "   RegionName     regionID TownCity  cityID SuburbName  SuburbID SA2Name   SA2ID\n",
                        "   \u001b[3m\u001b[90m<chr>\u001b[39m\u001b[23m             \u001b[3m\u001b[90m<int>\u001b[39m\u001b[23m \u001b[3m\u001b[90m<chr>\u001b[39m\u001b[23m      \u001b[3m\u001b[90m<int>\u001b[39m\u001b[23m \u001b[3m\u001b[90m<chr>\u001b[39m\u001b[23m          \u001b[3m\u001b[90m<int>\u001b[39m\u001b[23m \u001b[3m\u001b[90m<chr>\u001b[39m\u001b[23m     \u001b[3m\u001b[90m<chr>\u001b[39m\u001b[23m\n",
                        "\u001b[90m 1\u001b[39m North Auckland     \u001b[4m1\u001b[24m001 Kaitaia   \u001b[4m1\u001b[24m\u001b[4m0\u001b[24m\u001b[4m0\u001b[24m041 Ahipara         \u001b[4m2\u001b[24m793 Rangaunu… 1002…\n",
                        "\u001b[90m 2\u001b[39m North Auckland     \u001b[4m1\u001b[24m001 Kaitaia   \u001b[4m1\u001b[24m\u001b[4m0\u001b[24m\u001b[4m0\u001b[24m041 Ahipara         \u001b[4m2\u001b[24m793 Rangitihi 1009…\n",
                        "\u001b[90m 3\u001b[39m North Auckland     \u001b[4m1\u001b[24m001 Taipa     \u001b[4m1\u001b[24m\u001b[4m0\u001b[24m\u001b[4m0\u001b[24m099 Taipa           \u001b[4m2\u001b[24m806 Oruru-Pa… 1010…\n",
                        "\u001b[90m 4\u001b[39m North Auckland     \u001b[4m1\u001b[24m001 Moerewa   \u001b[4m1\u001b[24m\u001b[4m0\u001b[24m\u001b[4m4\u001b[24m074 Moerewa         \u001b[4m2\u001b[24m287 Pakaraka  1036…\n",
                        "\u001b[90m 5\u001b[39m North Auckland     \u001b[4m1\u001b[24m001 Hikurangi \u001b[4m1\u001b[24m\u001b[4m0\u001b[24m\u001b[4m0\u001b[24m165 Glenbervie…     \u001b[4m8\u001b[24m666 Kauri     1053…\n",
                        "\u001b[90m 6\u001b[39m North Auckland     \u001b[4m1\u001b[24m001 Whangarei \u001b[4m1\u001b[24m\u001b[4m0\u001b[24m\u001b[4m0\u001b[24m137 Otangarei       \u001b[4m1\u001b[24m153 Kamo Cen… 1060…\n",
                        "\u001b[90m 7\u001b[39m North Auckland     \u001b[4m1\u001b[24m001 Whangarei \u001b[4m1\u001b[24m\u001b[4m0\u001b[24m\u001b[4m0\u001b[24m137 Onerahi         \u001b[4m2\u001b[24m838 Abbey Ca… 1067…\n",
                        "\u001b[90m 8\u001b[39m North Auckland     \u001b[4m1\u001b[24m001 Whangarei \u001b[4m1\u001b[24m\u001b[4m0\u001b[24m\u001b[4m0\u001b[24m137 Whau Valley     \u001b[4m2\u001b[24m251 Mairtown  1068…\n",
                        "\u001b[90m 9\u001b[39m North Auckland     \u001b[4m1\u001b[24m001 Whangarei \u001b[4m1\u001b[24m\u001b[4m0\u001b[24m\u001b[4m0\u001b[24m137 Raumanga        \u001b[4m2\u001b[24m843 Woodhill… 1070…\n",
                        "\u001b[90m10\u001b[39m North Auckland     \u001b[4m1\u001b[24m001 Whangarei \u001b[4m1\u001b[24m\u001b[4m0\u001b[24m\u001b[4m0\u001b[24m137 Port Whang…     \u001b[4m2\u001b[24m845 Tarewa    1074…\n",
                        "\u001b[90m# … with 7,902 more rows\u001b[39m\n"
                    ]
                }
            ],
            "source": [
                "main = function(){\n",
                "  spatialIndex() #this will take some time\n",
                "  cleanUp.export.SpatialIndex()\n",
                "}\n",
                "main()\n"
            ]
        }
    ],
    "metadata": {
        "anaconda-cloud": "",
        "kernelspec": {
            "display_name": "R",
            "langauge": "R",
            "language": "R",
            "name": "ir"
        },
        "language_info": {
            "codemirror_mode": "r",
            "file_extension": ".r",
            "mimetype": "text/x-r-source",
            "name": "R",
            "pygments_lexer": "r",
            "version": "4.1.1"
        }
    },
    "nbformat": 4,
    "nbformat_minor": 1
}

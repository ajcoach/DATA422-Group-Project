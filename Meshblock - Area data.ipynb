{
 "cells": [
  {
   "cell_type": "markdown",
   "id": "34ae4444",
   "metadata": {},
   "source": [
    "***\n",
    "R program that takes the 2013-mb-dataset-Canterbury-Region-dwelling.xlsx dataset from Stats NZ and tranforms them to two csv datasets, meshblock.csv and area.csv\n",
    "***"
   ]
  },
  {
   "cell_type": "markdown",
   "id": "d6b60afa",
   "metadata": {},
   "source": [
    "***\n",
    "*imports tidyverse library so we can use packages like ggplot, tibble, tidyr, readr, dplyr, etc.*"
   ]
  },
  {
   "cell_type": "code",
   "execution_count": 1,
   "id": "29100d47",
   "metadata": {
    "scrolled": true
   },
   "outputs": [
    {
     "name": "stderr",
     "output_type": "stream",
     "text": [
      "Warning message:\n",
      "\"package 'tidyverse' was built under R version 4.0.5\"\n",
      "-- \u001b[1mAttaching packages\u001b[22m ------------------------------------------------------------------------------- tidyverse 1.3.1 --\n",
      "\n",
      "\u001b[32mv\u001b[39m \u001b[34mggplot2\u001b[39m 3.3.5     \u001b[32mv\u001b[39m \u001b[34mpurrr  \u001b[39m 0.3.4\n",
      "\u001b[32mv\u001b[39m \u001b[34mtibble \u001b[39m 3.1.1     \u001b[32mv\u001b[39m \u001b[34mdplyr  \u001b[39m 1.0.7\n",
      "\u001b[32mv\u001b[39m \u001b[34mtidyr  \u001b[39m 1.1.3     \u001b[32mv\u001b[39m \u001b[34mstringr\u001b[39m 1.4.0\n",
      "\u001b[32mv\u001b[39m \u001b[34mreadr  \u001b[39m 1.4.0     \u001b[32mv\u001b[39m \u001b[34mforcats\u001b[39m 0.5.1\n",
      "\n",
      "Warning message:\n",
      "\"package 'ggplot2' was built under R version 4.0.5\"\n",
      "Warning message:\n",
      "\"package 'tibble' was built under R version 4.0.5\"\n",
      "Warning message:\n",
      "\"package 'tidyr' was built under R version 4.0.5\"\n",
      "Warning message:\n",
      "\"package 'readr' was built under R version 4.0.5\"\n",
      "Warning message:\n",
      "\"package 'purrr' was built under R version 4.0.5\"\n",
      "Warning message:\n",
      "\"package 'dplyr' was built under R version 4.0.5\"\n",
      "Warning message:\n",
      "\"package 'forcats' was built under R version 4.0.5\"\n",
      "-- \u001b[1mConflicts\u001b[22m ---------------------------------------------------------------------------------- tidyverse_conflicts() --\n",
      "\u001b[31mx\u001b[39m \u001b[34mdplyr\u001b[39m::\u001b[32mfilter()\u001b[39m masks \u001b[34mstats\u001b[39m::filter()\n",
      "\u001b[31mx\u001b[39m \u001b[34mdplyr\u001b[39m::\u001b[32mlag()\u001b[39m    masks \u001b[34mstats\u001b[39m::lag()\n",
      "\n"
     ]
    }
   ],
   "source": [
    "library(tidyverse)"
   ]
  },
  {
   "cell_type": "markdown",
   "id": "5f5f6e22",
   "metadata": {},
   "source": [
    "***\n",
    "*installs readxl package to read Microsoft Excel files*"
   ]
  },
  {
   "cell_type": "code",
   "execution_count": 2,
   "id": "cb65d08c",
   "metadata": {},
   "outputs": [
    {
     "name": "stderr",
     "output_type": "stream",
     "text": [
      "Installing package into 'C:/Users/coach/Documents/R/win-library/4.0'\n",
      "(as 'lib' is unspecified)\n",
      "\n"
     ]
    },
    {
     "name": "stdout",
     "output_type": "stream",
     "text": [
      "package 'readxl' successfully unpacked and MD5 sums checked\n"
     ]
    },
    {
     "name": "stderr",
     "output_type": "stream",
     "text": [
      "Warning message:\n",
      "\"cannot remove prior installation of package 'readxl'\"\n",
      "Warning message in file.copy(savedcopy, lib, recursive = TRUE):\n",
      "\"problem copying C:\\Users\\coach\\Documents\\R\\win-library\\4.0\\00LOCK\\readxl\\libs\\x64\\readxl.dll to C:\\Users\\coach\\Documents\\R\\win-library\\4.0\\readxl\\libs\\x64\\readxl.dll: Permission denied\"\n",
      "Warning message:\n",
      "\"restored 'readxl'\"\n"
     ]
    },
    {
     "name": "stdout",
     "output_type": "stream",
     "text": [
      "\n",
      "The downloaded binary packages are in\n",
      "\tC:\\Users\\coach\\AppData\\Local\\Temp\\RtmpqeIXnT\\downloaded_packages\n"
     ]
    }
   ],
   "source": [
    "install.packages(\"readxl\")"
   ]
  },
  {
   "cell_type": "markdown",
   "id": "e977fa25",
   "metadata": {},
   "source": [
    "***\n",
    "*imports readxl package to read Microsoft Excel files*"
   ]
  },
  {
   "cell_type": "code",
   "execution_count": 3,
   "id": "0151287f",
   "metadata": {
    "scrolled": true
   },
   "outputs": [
    {
     "name": "stderr",
     "output_type": "stream",
     "text": [
      "Warning message:\n",
      "\"package 'readxl' was built under R version 4.0.5\"\n"
     ]
    }
   ],
   "source": [
    "library(readxl)"
   ]
  },
  {
   "cell_type": "markdown",
   "id": "653fdd57",
   "metadata": {},
   "source": [
    "***\n",
    "*Reads the 2013-mb-dataset-Canterbury-Region-dwelling.xlsx file*"
   ]
  },
  {
   "cell_type": "code",
   "execution_count": 26,
   "id": "2d2b2c1f",
   "metadata": {},
   "outputs": [],
   "source": [
    "excel_file <- \"2013-mb-dataset-Canterbury-Region-dwelling.xlsx\""
   ]
  },
  {
   "cell_type": "code",
   "execution_count": 27,
   "id": "100a3bb1",
   "metadata": {},
   "outputs": [
    {
     "name": "stderr",
     "output_type": "stream",
     "text": [
      "New names:\n",
      "* `` -> ...2\n",
      "* `` -> ...3\n",
      "* `` -> ...4\n",
      "* `` -> ...5\n",
      "\n"
     ]
    },
    {
     "data": {
      "text/html": [
       "<table class=\"dataframe\">\n",
       "<caption>A tibble: 36 × 5</caption>\n",
       "<thead>\n",
       "\t<tr><th scope=col>2013 Census meshblock dataset</th><th scope=col>...2</th><th scope=col>...3</th><th scope=col>...4</th><th scope=col>...5</th></tr>\n",
       "\t<tr><th scope=col>&lt;chr&gt;</th><th scope=col>&lt;chr&gt;</th><th scope=col>&lt;chr&gt;</th><th scope=col>&lt;dbl&gt;</th><th scope=col>&lt;dbl&gt;</th></tr>\n",
       "</thead>\n",
       "<tbody>\n",
       "\t<tr><td>Tables about dwellings in the Canterbury Region</td><td>NA                                                                                 </td><td>NA                   </td><td>  NA</td><td>  NA</td></tr>\n",
       "\t<tr><td>NA                                             </td><td>NA                                                                                 </td><td>NA                   </td><td>  NA</td><td>  NA</td></tr>\n",
       "\t<tr><td>1                                              </td><td>Meshblock                                                                          </td><td>Census data available</td><td>  NA</td><td>  NA</td></tr>\n",
       "\t<tr><td>NA                                             </td><td>Occupied private dwelling type                                                     </td><td>2001                 </td><td>2006</td><td>2013</td></tr>\n",
       "\t<tr><td>NA                                             </td><td>Dwelling record type for occupied dwellings                                        </td><td>2001                 </td><td>2006</td><td>2013</td></tr>\n",
       "\t<tr><td>NA                                             </td><td>Number of rooms, for occupied private dwellings                                    </td><td>2001                 </td><td>2006</td><td>2013</td></tr>\n",
       "\t<tr><td>NA                                             </td><td>Number of bedrooms, for occupied private dwellings                                 </td><td>2001                 </td><td>2006</td><td>2013</td></tr>\n",
       "\t<tr><td>NA                                             </td><td>Fuel types used to heat dwellings (total responses), for occupied private dwellings</td><td>2001                 </td><td>2006</td><td>2013</td></tr>\n",
       "\t<tr><td>NA                                             </td><td>NA                                                                                 </td><td>NA                   </td><td>  NA</td><td>  NA</td></tr>\n",
       "\t<tr><td>2                                              </td><td>Area unit                                                                          </td><td>NA                   </td><td>  NA</td><td>  NA</td></tr>\n",
       "\t<tr><td>NA                                             </td><td>Occupied private dwelling type                                                     </td><td>2001                 </td><td>2006</td><td>2013</td></tr>\n",
       "\t<tr><td>NA                                             </td><td>Dwelling record type for occupied dwellings                                        </td><td>2001                 </td><td>2006</td><td>2013</td></tr>\n",
       "\t<tr><td>NA                                             </td><td>Number of rooms, for occupied private dwellings                                    </td><td>2001                 </td><td>2006</td><td>2013</td></tr>\n",
       "\t<tr><td>NA                                             </td><td>Number of bedrooms, for occupied private dwellings                                 </td><td>2001                 </td><td>2006</td><td>2013</td></tr>\n",
       "\t<tr><td>NA                                             </td><td>Fuel types used to heat dwellings (total responses), for occupied private dwellings</td><td>2001                 </td><td>2006</td><td>2013</td></tr>\n",
       "\t<tr><td>NA                                             </td><td>NA                                                                                 </td><td>NA                   </td><td>  NA</td><td>  NA</td></tr>\n",
       "\t<tr><td>3                                              </td><td>Ward                                                                               </td><td>NA                   </td><td>  NA</td><td>  NA</td></tr>\n",
       "\t<tr><td>NA                                             </td><td>Occupied private dwelling type                                                     </td><td>2001                 </td><td>2006</td><td>2013</td></tr>\n",
       "\t<tr><td>NA                                             </td><td>Dwelling record type for occupied dwellings                                        </td><td>2001                 </td><td>2006</td><td>2013</td></tr>\n",
       "\t<tr><td>NA                                             </td><td>Number of rooms, for occupied private dwellings                                    </td><td>2001                 </td><td>2006</td><td>2013</td></tr>\n",
       "\t<tr><td>NA                                             </td><td>Number of bedrooms, for occupied private dwellings                                 </td><td>2001                 </td><td>2006</td><td>2013</td></tr>\n",
       "\t<tr><td>NA                                             </td><td>Fuel types used to heat dwellings (total responses), for occupied private dwellings</td><td>2001                 </td><td>2006</td><td>2013</td></tr>\n",
       "\t<tr><td>NA                                             </td><td>NA                                                                                 </td><td>NA                   </td><td>  NA</td><td>  NA</td></tr>\n",
       "\t<tr><td>4                                              </td><td>Territorial authority area                                                         </td><td>NA                   </td><td>  NA</td><td>  NA</td></tr>\n",
       "\t<tr><td>NA                                             </td><td>Occupied private dwelling type                                                     </td><td>2001                 </td><td>2006</td><td>2013</td></tr>\n",
       "\t<tr><td>NA                                             </td><td>Dwelling record type for occupied dwellings                                        </td><td>2001                 </td><td>2006</td><td>2013</td></tr>\n",
       "\t<tr><td>NA                                             </td><td>Number of rooms, for occupied private dwellings                                    </td><td>2001                 </td><td>2006</td><td>2013</td></tr>\n",
       "\t<tr><td>NA                                             </td><td>Number of bedrooms, for occupied private dwellings                                 </td><td>2001                 </td><td>2006</td><td>2013</td></tr>\n",
       "\t<tr><td>NA                                             </td><td>Fuel types used to heat dwellings (total responses), for occupied private dwellings</td><td>2001                 </td><td>2006</td><td>2013</td></tr>\n",
       "\t<tr><td>NA                                             </td><td>NA                                                                                 </td><td>NA                   </td><td>  NA</td><td>  NA</td></tr>\n",
       "\t<tr><td>5                                              </td><td>Regional council area                                                              </td><td>NA                   </td><td>  NA</td><td>  NA</td></tr>\n",
       "\t<tr><td>NA                                             </td><td>Occupied private dwelling type                                                     </td><td>2001                 </td><td>2006</td><td>2013</td></tr>\n",
       "\t<tr><td>NA                                             </td><td>Dwelling record type for occupied dwellings                                        </td><td>2001                 </td><td>2006</td><td>2013</td></tr>\n",
       "\t<tr><td>NA                                             </td><td>Number of rooms, for occupied private dwellings                                    </td><td>2001                 </td><td>2006</td><td>2013</td></tr>\n",
       "\t<tr><td>NA                                             </td><td>Number of bedrooms, for occupied private dwellings                                 </td><td>2001                 </td><td>2006</td><td>2013</td></tr>\n",
       "\t<tr><td>NA                                             </td><td>Fuel types used to heat dwellings (total responses), for occupied private dwellings</td><td>2001                 </td><td>2006</td><td>2013</td></tr>\n",
       "</tbody>\n",
       "</table>\n"
      ],
      "text/latex": [
       "A tibble: 36 × 5\n",
       "\\begin{tabular}{lllll}\n",
       " 2013 Census meshblock dataset & ...2 & ...3 & ...4 & ...5\\\\\n",
       " <chr> & <chr> & <chr> & <dbl> & <dbl>\\\\\n",
       "\\hline\n",
       "\t Tables about dwellings in the Canterbury Region & NA                                                                                  & NA                    &   NA &   NA\\\\\n",
       "\t NA                                              & NA                                                                                  & NA                    &   NA &   NA\\\\\n",
       "\t 1                                               & Meshblock                                                                           & Census data available &   NA &   NA\\\\\n",
       "\t NA                                              & Occupied private dwelling type                                                      & 2001                  & 2006 & 2013\\\\\n",
       "\t NA                                              & Dwelling record type for occupied dwellings                                         & 2001                  & 2006 & 2013\\\\\n",
       "\t NA                                              & Number of rooms, for occupied private dwellings                                     & 2001                  & 2006 & 2013\\\\\n",
       "\t NA                                              & Number of bedrooms, for occupied private dwellings                                  & 2001                  & 2006 & 2013\\\\\n",
       "\t NA                                              & Fuel types used to heat dwellings (total responses), for occupied private dwellings & 2001                  & 2006 & 2013\\\\\n",
       "\t NA                                              & NA                                                                                  & NA                    &   NA &   NA\\\\\n",
       "\t 2                                               & Area unit                                                                           & NA                    &   NA &   NA\\\\\n",
       "\t NA                                              & Occupied private dwelling type                                                      & 2001                  & 2006 & 2013\\\\\n",
       "\t NA                                              & Dwelling record type for occupied dwellings                                         & 2001                  & 2006 & 2013\\\\\n",
       "\t NA                                              & Number of rooms, for occupied private dwellings                                     & 2001                  & 2006 & 2013\\\\\n",
       "\t NA                                              & Number of bedrooms, for occupied private dwellings                                  & 2001                  & 2006 & 2013\\\\\n",
       "\t NA                                              & Fuel types used to heat dwellings (total responses), for occupied private dwellings & 2001                  & 2006 & 2013\\\\\n",
       "\t NA                                              & NA                                                                                  & NA                    &   NA &   NA\\\\\n",
       "\t 3                                               & Ward                                                                                & NA                    &   NA &   NA\\\\\n",
       "\t NA                                              & Occupied private dwelling type                                                      & 2001                  & 2006 & 2013\\\\\n",
       "\t NA                                              & Dwelling record type for occupied dwellings                                         & 2001                  & 2006 & 2013\\\\\n",
       "\t NA                                              & Number of rooms, for occupied private dwellings                                     & 2001                  & 2006 & 2013\\\\\n",
       "\t NA                                              & Number of bedrooms, for occupied private dwellings                                  & 2001                  & 2006 & 2013\\\\\n",
       "\t NA                                              & Fuel types used to heat dwellings (total responses), for occupied private dwellings & 2001                  & 2006 & 2013\\\\\n",
       "\t NA                                              & NA                                                                                  & NA                    &   NA &   NA\\\\\n",
       "\t 4                                               & Territorial authority area                                                          & NA                    &   NA &   NA\\\\\n",
       "\t NA                                              & Occupied private dwelling type                                                      & 2001                  & 2006 & 2013\\\\\n",
       "\t NA                                              & Dwelling record type for occupied dwellings                                         & 2001                  & 2006 & 2013\\\\\n",
       "\t NA                                              & Number of rooms, for occupied private dwellings                                     & 2001                  & 2006 & 2013\\\\\n",
       "\t NA                                              & Number of bedrooms, for occupied private dwellings                                  & 2001                  & 2006 & 2013\\\\\n",
       "\t NA                                              & Fuel types used to heat dwellings (total responses), for occupied private dwellings & 2001                  & 2006 & 2013\\\\\n",
       "\t NA                                              & NA                                                                                  & NA                    &   NA &   NA\\\\\n",
       "\t 5                                               & Regional council area                                                               & NA                    &   NA &   NA\\\\\n",
       "\t NA                                              & Occupied private dwelling type                                                      & 2001                  & 2006 & 2013\\\\\n",
       "\t NA                                              & Dwelling record type for occupied dwellings                                         & 2001                  & 2006 & 2013\\\\\n",
       "\t NA                                              & Number of rooms, for occupied private dwellings                                     & 2001                  & 2006 & 2013\\\\\n",
       "\t NA                                              & Number of bedrooms, for occupied private dwellings                                  & 2001                  & 2006 & 2013\\\\\n",
       "\t NA                                              & Fuel types used to heat dwellings (total responses), for occupied private dwellings & 2001                  & 2006 & 2013\\\\\n",
       "\\end{tabular}\n"
      ],
      "text/markdown": [
       "\n",
       "A tibble: 36 × 5\n",
       "\n",
       "| 2013 Census meshblock dataset &lt;chr&gt; | ...2 &lt;chr&gt; | ...3 &lt;chr&gt; | ...4 &lt;dbl&gt; | ...5 &lt;dbl&gt; |\n",
       "|---|---|---|---|---|\n",
       "| Tables about dwellings in the Canterbury Region | NA                                                                                  | NA                    |   NA |   NA |\n",
       "| NA                                              | NA                                                                                  | NA                    |   NA |   NA |\n",
       "| 1                                               | Meshblock                                                                           | Census data available |   NA |   NA |\n",
       "| NA                                              | Occupied private dwelling type                                                      | 2001                  | 2006 | 2013 |\n",
       "| NA                                              | Dwelling record type for occupied dwellings                                         | 2001                  | 2006 | 2013 |\n",
       "| NA                                              | Number of rooms, for occupied private dwellings                                     | 2001                  | 2006 | 2013 |\n",
       "| NA                                              | Number of bedrooms, for occupied private dwellings                                  | 2001                  | 2006 | 2013 |\n",
       "| NA                                              | Fuel types used to heat dwellings (total responses), for occupied private dwellings | 2001                  | 2006 | 2013 |\n",
       "| NA                                              | NA                                                                                  | NA                    |   NA |   NA |\n",
       "| 2                                               | Area unit                                                                           | NA                    |   NA |   NA |\n",
       "| NA                                              | Occupied private dwelling type                                                      | 2001                  | 2006 | 2013 |\n",
       "| NA                                              | Dwelling record type for occupied dwellings                                         | 2001                  | 2006 | 2013 |\n",
       "| NA                                              | Number of rooms, for occupied private dwellings                                     | 2001                  | 2006 | 2013 |\n",
       "| NA                                              | Number of bedrooms, for occupied private dwellings                                  | 2001                  | 2006 | 2013 |\n",
       "| NA                                              | Fuel types used to heat dwellings (total responses), for occupied private dwellings | 2001                  | 2006 | 2013 |\n",
       "| NA                                              | NA                                                                                  | NA                    |   NA |   NA |\n",
       "| 3                                               | Ward                                                                                | NA                    |   NA |   NA |\n",
       "| NA                                              | Occupied private dwelling type                                                      | 2001                  | 2006 | 2013 |\n",
       "| NA                                              | Dwelling record type for occupied dwellings                                         | 2001                  | 2006 | 2013 |\n",
       "| NA                                              | Number of rooms, for occupied private dwellings                                     | 2001                  | 2006 | 2013 |\n",
       "| NA                                              | Number of bedrooms, for occupied private dwellings                                  | 2001                  | 2006 | 2013 |\n",
       "| NA                                              | Fuel types used to heat dwellings (total responses), for occupied private dwellings | 2001                  | 2006 | 2013 |\n",
       "| NA                                              | NA                                                                                  | NA                    |   NA |   NA |\n",
       "| 4                                               | Territorial authority area                                                          | NA                    |   NA |   NA |\n",
       "| NA                                              | Occupied private dwelling type                                                      | 2001                  | 2006 | 2013 |\n",
       "| NA                                              | Dwelling record type for occupied dwellings                                         | 2001                  | 2006 | 2013 |\n",
       "| NA                                              | Number of rooms, for occupied private dwellings                                     | 2001                  | 2006 | 2013 |\n",
       "| NA                                              | Number of bedrooms, for occupied private dwellings                                  | 2001                  | 2006 | 2013 |\n",
       "| NA                                              | Fuel types used to heat dwellings (total responses), for occupied private dwellings | 2001                  | 2006 | 2013 |\n",
       "| NA                                              | NA                                                                                  | NA                    |   NA |   NA |\n",
       "| 5                                               | Regional council area                                                               | NA                    |   NA |   NA |\n",
       "| NA                                              | Occupied private dwelling type                                                      | 2001                  | 2006 | 2013 |\n",
       "| NA                                              | Dwelling record type for occupied dwellings                                         | 2001                  | 2006 | 2013 |\n",
       "| NA                                              | Number of rooms, for occupied private dwellings                                     | 2001                  | 2006 | 2013 |\n",
       "| NA                                              | Number of bedrooms, for occupied private dwellings                                  | 2001                  | 2006 | 2013 |\n",
       "| NA                                              | Fuel types used to heat dwellings (total responses), for occupied private dwellings | 2001                  | 2006 | 2013 |\n",
       "\n"
      ],
      "text/plain": [
       "   2013 Census meshblock dataset                  \n",
       "1  Tables about dwellings in the Canterbury Region\n",
       "2  NA                                             \n",
       "3  1                                              \n",
       "4  NA                                             \n",
       "5  NA                                             \n",
       "6  NA                                             \n",
       "7  NA                                             \n",
       "8  NA                                             \n",
       "9  NA                                             \n",
       "10 2                                              \n",
       "11 NA                                             \n",
       "12 NA                                             \n",
       "13 NA                                             \n",
       "14 NA                                             \n",
       "15 NA                                             \n",
       "16 NA                                             \n",
       "17 3                                              \n",
       "18 NA                                             \n",
       "19 NA                                             \n",
       "20 NA                                             \n",
       "21 NA                                             \n",
       "22 NA                                             \n",
       "23 NA                                             \n",
       "24 4                                              \n",
       "25 NA                                             \n",
       "26 NA                                             \n",
       "27 NA                                             \n",
       "28 NA                                             \n",
       "29 NA                                             \n",
       "30 NA                                             \n",
       "31 5                                              \n",
       "32 NA                                             \n",
       "33 NA                                             \n",
       "34 NA                                             \n",
       "35 NA                                             \n",
       "36 NA                                             \n",
       "   ...2                                                                               \n",
       "1  NA                                                                                 \n",
       "2  NA                                                                                 \n",
       "3  Meshblock                                                                          \n",
       "4  Occupied private dwelling type                                                     \n",
       "5  Dwelling record type for occupied dwellings                                        \n",
       "6  Number of rooms, for occupied private dwellings                                    \n",
       "7  Number of bedrooms, for occupied private dwellings                                 \n",
       "8  Fuel types used to heat dwellings (total responses), for occupied private dwellings\n",
       "9  NA                                                                                 \n",
       "10 Area unit                                                                          \n",
       "11 Occupied private dwelling type                                                     \n",
       "12 Dwelling record type for occupied dwellings                                        \n",
       "13 Number of rooms, for occupied private dwellings                                    \n",
       "14 Number of bedrooms, for occupied private dwellings                                 \n",
       "15 Fuel types used to heat dwellings (total responses), for occupied private dwellings\n",
       "16 NA                                                                                 \n",
       "17 Ward                                                                               \n",
       "18 Occupied private dwelling type                                                     \n",
       "19 Dwelling record type for occupied dwellings                                        \n",
       "20 Number of rooms, for occupied private dwellings                                    \n",
       "21 Number of bedrooms, for occupied private dwellings                                 \n",
       "22 Fuel types used to heat dwellings (total responses), for occupied private dwellings\n",
       "23 NA                                                                                 \n",
       "24 Territorial authority area                                                         \n",
       "25 Occupied private dwelling type                                                     \n",
       "26 Dwelling record type for occupied dwellings                                        \n",
       "27 Number of rooms, for occupied private dwellings                                    \n",
       "28 Number of bedrooms, for occupied private dwellings                                 \n",
       "29 Fuel types used to heat dwellings (total responses), for occupied private dwellings\n",
       "30 NA                                                                                 \n",
       "31 Regional council area                                                              \n",
       "32 Occupied private dwelling type                                                     \n",
       "33 Dwelling record type for occupied dwellings                                        \n",
       "34 Number of rooms, for occupied private dwellings                                    \n",
       "35 Number of bedrooms, for occupied private dwellings                                 \n",
       "36 Fuel types used to heat dwellings (total responses), for occupied private dwellings\n",
       "   ...3                  ...4 ...5\n",
       "1  NA                      NA   NA\n",
       "2  NA                      NA   NA\n",
       "3  Census data available   NA   NA\n",
       "4  2001                  2006 2013\n",
       "5  2001                  2006 2013\n",
       "6  2001                  2006 2013\n",
       "7  2001                  2006 2013\n",
       "8  2001                  2006 2013\n",
       "9  NA                      NA   NA\n",
       "10 NA                      NA   NA\n",
       "11 2001                  2006 2013\n",
       "12 2001                  2006 2013\n",
       "13 2001                  2006 2013\n",
       "14 2001                  2006 2013\n",
       "15 2001                  2006 2013\n",
       "16 NA                      NA   NA\n",
       "17 NA                      NA   NA\n",
       "18 2001                  2006 2013\n",
       "19 2001                  2006 2013\n",
       "20 2001                  2006 2013\n",
       "21 2001                  2006 2013\n",
       "22 2001                  2006 2013\n",
       "23 NA                      NA   NA\n",
       "24 NA                      NA   NA\n",
       "25 2001                  2006 2013\n",
       "26 2001                  2006 2013\n",
       "27 2001                  2006 2013\n",
       "28 2001                  2006 2013\n",
       "29 2001                  2006 2013\n",
       "30 NA                      NA   NA\n",
       "31 NA                      NA   NA\n",
       "32 2001                  2006 2013\n",
       "33 2001                  2006 2013\n",
       "34 2001                  2006 2013\n",
       "35 2001                  2006 2013\n",
       "36 2001                  2006 2013"
      ]
     },
     "metadata": {},
     "output_type": "display_data"
    }
   ],
   "source": [
    "read_excel(excel_file)\n"
   ]
  },
  {
   "cell_type": "markdown",
   "id": "4ee7bd84",
   "metadata": {},
   "source": [
    "***\n",
    "*Displays sheets contained in the Excel file*"
   ]
  },
  {
   "cell_type": "code",
   "execution_count": 28,
   "id": "6d7b4a7e",
   "metadata": {},
   "outputs": [
    {
     "data": {
      "text/html": [
       "<style>\n",
       ".list-inline {list-style: none; margin:0; padding: 0}\n",
       ".list-inline>li {display: inline-block}\n",
       ".list-inline>li:not(:last-child)::after {content: \"\\00b7\"; padding: 0 .5ex}\n",
       "</style>\n",
       "<ol class=list-inline><li>'Contents'</li><li>'Geographic key'</li><li>'Footnotes and symbols'</li><li>'1 Meshblock'</li><li>'2 Area unit'</li><li>'3 Ward'</li><li>'4 Territorial authority area'</li><li>'5 Regional council area'</li></ol>\n"
      ],
      "text/latex": [
       "\\begin{enumerate*}\n",
       "\\item 'Contents'\n",
       "\\item 'Geographic key'\n",
       "\\item 'Footnotes and symbols'\n",
       "\\item '1 Meshblock'\n",
       "\\item '2 Area unit'\n",
       "\\item '3 Ward'\n",
       "\\item '4 Territorial authority area'\n",
       "\\item '5 Regional council area'\n",
       "\\end{enumerate*}\n"
      ],
      "text/markdown": [
       "1. 'Contents'\n",
       "2. 'Geographic key'\n",
       "3. 'Footnotes and symbols'\n",
       "4. '1 Meshblock'\n",
       "5. '2 Area unit'\n",
       "6. '3 Ward'\n",
       "7. '4 Territorial authority area'\n",
       "8. '5 Regional council area'\n",
       "\n",
       "\n"
      ],
      "text/plain": [
       "[1] \"Contents\"                     \"Geographic key\"              \n",
       "[3] \"Footnotes and symbols\"        \"1 Meshblock\"                 \n",
       "[5] \"2 Area unit\"                  \"3 Ward\"                      \n",
       "[7] \"4 Territorial authority area\" \"5 Regional council area\"     "
      ]
     },
     "metadata": {},
     "output_type": "display_data"
    }
   ],
   "source": [
    "excel_sheets(excel_file)"
   ]
  },
  {
   "cell_type": "markdown",
   "id": "c5217613",
   "metadata": {},
   "source": [
    "***\n",
    "*Assigns the Geographic key sheet to geographic_df dataframe*"
   ]
  },
  {
   "cell_type": "code",
   "execution_count": 30,
   "id": "7caef78e",
   "metadata": {},
   "outputs": [
    {
     "name": "stderr",
     "output_type": "stream",
     "text": [
      "New names:\n",
      "* `` -> ...2\n",
      "* `` -> ...3\n",
      "* `` -> ...4\n",
      "* `` -> ...5\n",
      "* `` -> ...6\n",
      "* ...\n",
      "\n"
     ]
    }
   ],
   "source": [
    "geographic_df <- read_excel(excel_file, sheet = \"Geographic key\")"
   ]
  },
  {
   "cell_type": "code",
   "execution_count": 31,
   "id": "6acaff15",
   "metadata": {},
   "outputs": [
    {
     "data": {
      "text/html": [
       "5918"
      ],
      "text/latex": [
       "5918"
      ],
      "text/markdown": [
       "5918"
      ],
      "text/plain": [
       "[1] 5918"
      ]
     },
     "metadata": {},
     "output_type": "display_data"
    }
   ],
   "source": [
    "geographic_df %>% \n",
    "nrow()"
   ]
  },
  {
   "cell_type": "code",
   "execution_count": 32,
   "id": "271413b1",
   "metadata": {
    "scrolled": true
   },
   "outputs": [
    {
     "name": "stdout",
     "output_type": "stream",
     "text": [
      "Rows: 5,918\n",
      "Columns: 9\n",
      "$ `Geographic key` \u001b[3m\u001b[90m<chr>\u001b[39m\u001b[23m NA, \"Meshblock (2013 areas)\", NA, \"MB 2308203\", \"MB 2~\n",
      "$ ...2             \u001b[3m\u001b[90m<chr>\u001b[39m\u001b[23m NA, \"Area unit code (2013 areas)\", NA, \"580900\", \"581~\n",
      "$ ...3             \u001b[3m\u001b[90m<chr>\u001b[39m\u001b[23m NA, \"Area unit description\", NA, \"Lake Tennyson\", \"Ka~\n",
      "$ ...4             \u001b[3m\u001b[90m<chr>\u001b[39m\u001b[23m NA, \"Ward code (2013 areas)\", NA, \"05801\", \"05499\", \"~\n",
      "$ ...5             \u001b[3m\u001b[90m<chr>\u001b[39m\u001b[23m NA, \"Ward description\", NA, \"Hanmer Springs Ward\", \"A~\n",
      "$ ...6             \u001b[3m\u001b[90m<chr>\u001b[39m\u001b[23m NA, \"Territorial authority code (2013 areas)\", NA, \"0~\n",
      "$ ...7             \u001b[3m\u001b[90m<chr>\u001b[39m\u001b[23m NA, \"Territorial authority area description\", NA, \"Hu~\n",
      "$ ...8             \u001b[3m\u001b[90m<chr>\u001b[39m\u001b[23m NA, \"Regional council code (2013 areas)\", NA, \"13\", \"~\n",
      "$ ...9             \u001b[3m\u001b[90m<chr>\u001b[39m\u001b[23m NA, \"Regional council area description\", NA, \"Canterb~\n"
     ]
    }
   ],
   "source": [
    "geographic_df %>% \n",
    "glimpse()"
   ]
  },
  {
   "cell_type": "markdown",
   "id": "17980496",
   "metadata": {},
   "source": [
    "***\n",
    "\n",
    "Part 1: Creating a meshblock dataset\n",
    "\n",
    "***"
   ]
  },
  {
   "cell_type": "markdown",
   "id": "4750a0e2",
   "metadata": {},
   "source": [
    "***\n",
    "*Creates a new dataframe using the first, second and third column of the geographic_df*"
   ]
  },
  {
   "cell_type": "code",
   "execution_count": 33,
   "id": "ccba076e",
   "metadata": {},
   "outputs": [],
   "source": [
    "meshblock_df <- subset(geographic_df, select = c(1, 2, 3))"
   ]
  },
  {
   "cell_type": "code",
   "execution_count": 34,
   "id": "af8463d5",
   "metadata": {},
   "outputs": [
    {
     "name": "stdout",
     "output_type": "stream",
     "text": [
      "Rows: 5,918\n",
      "Columns: 3\n",
      "$ `Geographic key` \u001b[3m\u001b[90m<chr>\u001b[39m\u001b[23m NA, \"Meshblock (2013 areas)\", NA, \"MB 2308203\", \"MB 2~\n",
      "$ ...2             \u001b[3m\u001b[90m<chr>\u001b[39m\u001b[23m NA, \"Area unit code (2013 areas)\", NA, \"580900\", \"581~\n",
      "$ ...3             \u001b[3m\u001b[90m<chr>\u001b[39m\u001b[23m NA, \"Area unit description\", NA, \"Lake Tennyson\", \"Ka~\n"
     ]
    }
   ],
   "source": [
    "meshblock_df %>% \n",
    "glimpse()"
   ]
  },
  {
   "cell_type": "code",
   "execution_count": 35,
   "id": "5a0c4133",
   "metadata": {},
   "outputs": [
    {
     "data": {
      "text/html": [
       "<table class=\"dataframe\">\n",
       "<caption>A tibble: 6 × 3</caption>\n",
       "<thead>\n",
       "\t<tr><th scope=col>Geographic key</th><th scope=col>...2</th><th scope=col>...3</th></tr>\n",
       "\t<tr><th scope=col>&lt;chr&gt;</th><th scope=col>&lt;chr&gt;</th><th scope=col>&lt;chr&gt;</th></tr>\n",
       "</thead>\n",
       "<tbody>\n",
       "\t<tr><td>NA                    </td><td>NA                         </td><td>NA                   </td></tr>\n",
       "\t<tr><td>Meshblock (2013 areas)</td><td>Area unit code (2013 areas)</td><td>Area unit description</td></tr>\n",
       "\t<tr><td>NA                    </td><td>NA                         </td><td>NA                   </td></tr>\n",
       "\t<tr><td>MB 2308203            </td><td>580900                     </td><td>Lake Tennyson        </td></tr>\n",
       "\t<tr><td>MB 2310701            </td><td>581500                     </td><td>Kaikoura Rural       </td></tr>\n",
       "\t<tr><td>MB 2310702            </td><td>585601                     </td><td>Parnassus            </td></tr>\n",
       "</tbody>\n",
       "</table>\n"
      ],
      "text/latex": [
       "A tibble: 6 × 3\n",
       "\\begin{tabular}{lll}\n",
       " Geographic key & ...2 & ...3\\\\\n",
       " <chr> & <chr> & <chr>\\\\\n",
       "\\hline\n",
       "\t NA                     & NA                          & NA                   \\\\\n",
       "\t Meshblock (2013 areas) & Area unit code (2013 areas) & Area unit description\\\\\n",
       "\t NA                     & NA                          & NA                   \\\\\n",
       "\t MB 2308203             & 580900                      & Lake Tennyson        \\\\\n",
       "\t MB 2310701             & 581500                      & Kaikoura Rural       \\\\\n",
       "\t MB 2310702             & 585601                      & Parnassus            \\\\\n",
       "\\end{tabular}\n"
      ],
      "text/markdown": [
       "\n",
       "A tibble: 6 × 3\n",
       "\n",
       "| Geographic key &lt;chr&gt; | ...2 &lt;chr&gt; | ...3 &lt;chr&gt; |\n",
       "|---|---|---|\n",
       "| NA                     | NA                          | NA                    |\n",
       "| Meshblock (2013 areas) | Area unit code (2013 areas) | Area unit description |\n",
       "| NA                     | NA                          | NA                    |\n",
       "| MB 2308203             | 580900                      | Lake Tennyson         |\n",
       "| MB 2310701             | 581500                      | Kaikoura Rural        |\n",
       "| MB 2310702             | 585601                      | Parnassus             |\n",
       "\n"
      ],
      "text/plain": [
       "  Geographic key         ...2                        ...3                 \n",
       "1 NA                     NA                          NA                   \n",
       "2 Meshblock (2013 areas) Area unit code (2013 areas) Area unit description\n",
       "3 NA                     NA                          NA                   \n",
       "4 MB 2308203             580900                      Lake Tennyson        \n",
       "5 MB 2310701             581500                      Kaikoura Rural       \n",
       "6 MB 2310702             585601                      Parnassus            "
      ]
     },
     "metadata": {},
     "output_type": "display_data"
    }
   ],
   "source": [
    "meshblock_df %>% \n",
    "head()"
   ]
  },
  {
   "cell_type": "code",
   "execution_count": 36,
   "id": "92dc3f09",
   "metadata": {},
   "outputs": [],
   "source": [
    "meshblock_df <- meshblock_df[-c(1, 2, 3), ]"
   ]
  },
  {
   "cell_type": "markdown",
   "id": "87113ebb",
   "metadata": {},
   "source": [
    "***\n",
    "*Deletes row 1, 2 and 3 from meshblock_df*"
   ]
  },
  {
   "cell_type": "code",
   "execution_count": 37,
   "id": "45361be2",
   "metadata": {},
   "outputs": [
    {
     "data": {
      "text/html": [
       "<table class=\"dataframe\">\n",
       "<caption>A tibble: 6 × 3</caption>\n",
       "<thead>\n",
       "\t<tr><th scope=col>Geographic key</th><th scope=col>...2</th><th scope=col>...3</th></tr>\n",
       "\t<tr><th scope=col>&lt;chr&gt;</th><th scope=col>&lt;chr&gt;</th><th scope=col>&lt;chr&gt;</th></tr>\n",
       "</thead>\n",
       "<tbody>\n",
       "\t<tr><td>MB 2308203</td><td>580900</td><td>Lake Tennyson </td></tr>\n",
       "\t<tr><td>MB 2310701</td><td>581500</td><td>Kaikoura Rural</td></tr>\n",
       "\t<tr><td>MB 2310702</td><td>585601</td><td>Parnassus     </td></tr>\n",
       "\t<tr><td>MB 2310800</td><td>585601</td><td>Parnassus     </td></tr>\n",
       "\t<tr><td>MB 2310900</td><td>581500</td><td>Kaikoura Rural</td></tr>\n",
       "\t<tr><td>MB 2311000</td><td>581500</td><td>Kaikoura Rural</td></tr>\n",
       "</tbody>\n",
       "</table>\n"
      ],
      "text/latex": [
       "A tibble: 6 × 3\n",
       "\\begin{tabular}{lll}\n",
       " Geographic key & ...2 & ...3\\\\\n",
       " <chr> & <chr> & <chr>\\\\\n",
       "\\hline\n",
       "\t MB 2308203 & 580900 & Lake Tennyson \\\\\n",
       "\t MB 2310701 & 581500 & Kaikoura Rural\\\\\n",
       "\t MB 2310702 & 585601 & Parnassus     \\\\\n",
       "\t MB 2310800 & 585601 & Parnassus     \\\\\n",
       "\t MB 2310900 & 581500 & Kaikoura Rural\\\\\n",
       "\t MB 2311000 & 581500 & Kaikoura Rural\\\\\n",
       "\\end{tabular}\n"
      ],
      "text/markdown": [
       "\n",
       "A tibble: 6 × 3\n",
       "\n",
       "| Geographic key &lt;chr&gt; | ...2 &lt;chr&gt; | ...3 &lt;chr&gt; |\n",
       "|---|---|---|\n",
       "| MB 2308203 | 580900 | Lake Tennyson  |\n",
       "| MB 2310701 | 581500 | Kaikoura Rural |\n",
       "| MB 2310702 | 585601 | Parnassus      |\n",
       "| MB 2310800 | 585601 | Parnassus      |\n",
       "| MB 2310900 | 581500 | Kaikoura Rural |\n",
       "| MB 2311000 | 581500 | Kaikoura Rural |\n",
       "\n"
      ],
      "text/plain": [
       "  Geographic key ...2   ...3          \n",
       "1 MB 2308203     580900 Lake Tennyson \n",
       "2 MB 2310701     581500 Kaikoura Rural\n",
       "3 MB 2310702     585601 Parnassus     \n",
       "4 MB 2310800     585601 Parnassus     \n",
       "5 MB 2310900     581500 Kaikoura Rural\n",
       "6 MB 2311000     581500 Kaikoura Rural"
      ]
     },
     "metadata": {},
     "output_type": "display_data"
    }
   ],
   "source": [
    "meshblock_df %>% \n",
    "head()"
   ]
  },
  {
   "cell_type": "code",
   "execution_count": 38,
   "id": "5e2552cc",
   "metadata": {},
   "outputs": [
    {
     "data": {
      "text/html": [
       "<style>\n",
       ".list-inline {list-style: none; margin:0; padding: 0}\n",
       ".list-inline>li {display: inline-block}\n",
       ".list-inline>li:not(:last-child)::after {content: \"\\00b7\"; padding: 0 .5ex}\n",
       "</style>\n",
       "<ol class=list-inline><li>'Geographic key'</li><li>'...2'</li><li>'...3'</li></ol>\n"
      ],
      "text/latex": [
       "\\begin{enumerate*}\n",
       "\\item 'Geographic key'\n",
       "\\item '...2'\n",
       "\\item '...3'\n",
       "\\end{enumerate*}\n"
      ],
      "text/markdown": [
       "1. 'Geographic key'\n",
       "2. '...2'\n",
       "3. '...3'\n",
       "\n",
       "\n"
      ],
      "text/plain": [
       "[1] \"Geographic key\" \"...2\"           \"...3\"          "
      ]
     },
     "metadata": {},
     "output_type": "display_data"
    }
   ],
   "source": [
    "meshblock_df %>%\n",
    "colnames"
   ]
  },
  {
   "cell_type": "markdown",
   "id": "ce42d3ca",
   "metadata": {},
   "source": [
    "***\n",
    "*Renames meshblock_df column names*"
   ]
  },
  {
   "cell_type": "code",
   "execution_count": 39,
   "id": "5ae86945",
   "metadata": {},
   "outputs": [],
   "source": [
    "meshblock_df <- cbind(rownames(meshblock_df), meshblock_df)\n",
    "rownames(meshblock_df) <- NULL\n",
    "colnames(meshblock_df) <- c(\"row\", \"meshblock_id\", \"area_code\", \"area_name\")"
   ]
  },
  {
   "cell_type": "code",
   "execution_count": 40,
   "id": "7b7f2dfb",
   "metadata": {},
   "outputs": [
    {
     "data": {
      "text/html": [
       "<table class=\"dataframe\">\n",
       "<caption>A data.frame: 6 × 4</caption>\n",
       "<thead>\n",
       "\t<tr><th></th><th scope=col>row</th><th scope=col>meshblock_id</th><th scope=col>area_code</th><th scope=col>area_name</th></tr>\n",
       "\t<tr><th></th><th scope=col>&lt;chr&gt;</th><th scope=col>&lt;chr&gt;</th><th scope=col>&lt;chr&gt;</th><th scope=col>&lt;chr&gt;</th></tr>\n",
       "</thead>\n",
       "<tbody>\n",
       "\t<tr><th scope=row>1</th><td>1</td><td>MB 2308203</td><td>580900</td><td>Lake Tennyson </td></tr>\n",
       "\t<tr><th scope=row>2</th><td>2</td><td>MB 2310701</td><td>581500</td><td>Kaikoura Rural</td></tr>\n",
       "\t<tr><th scope=row>3</th><td>3</td><td>MB 2310702</td><td>585601</td><td>Parnassus     </td></tr>\n",
       "\t<tr><th scope=row>4</th><td>4</td><td>MB 2310800</td><td>585601</td><td>Parnassus     </td></tr>\n",
       "\t<tr><th scope=row>5</th><td>5</td><td>MB 2310900</td><td>581500</td><td>Kaikoura Rural</td></tr>\n",
       "\t<tr><th scope=row>6</th><td>6</td><td>MB 2311000</td><td>581500</td><td>Kaikoura Rural</td></tr>\n",
       "</tbody>\n",
       "</table>\n"
      ],
      "text/latex": [
       "A data.frame: 6 × 4\n",
       "\\begin{tabular}{r|llll}\n",
       "  & row & meshblock\\_id & area\\_code & area\\_name\\\\\n",
       "  & <chr> & <chr> & <chr> & <chr>\\\\\n",
       "\\hline\n",
       "\t1 & 1 & MB 2308203 & 580900 & Lake Tennyson \\\\\n",
       "\t2 & 2 & MB 2310701 & 581500 & Kaikoura Rural\\\\\n",
       "\t3 & 3 & MB 2310702 & 585601 & Parnassus     \\\\\n",
       "\t4 & 4 & MB 2310800 & 585601 & Parnassus     \\\\\n",
       "\t5 & 5 & MB 2310900 & 581500 & Kaikoura Rural\\\\\n",
       "\t6 & 6 & MB 2311000 & 581500 & Kaikoura Rural\\\\\n",
       "\\end{tabular}\n"
      ],
      "text/markdown": [
       "\n",
       "A data.frame: 6 × 4\n",
       "\n",
       "| <!--/--> | row &lt;chr&gt; | meshblock_id &lt;chr&gt; | area_code &lt;chr&gt; | area_name &lt;chr&gt; |\n",
       "|---|---|---|---|---|\n",
       "| 1 | 1 | MB 2308203 | 580900 | Lake Tennyson  |\n",
       "| 2 | 2 | MB 2310701 | 581500 | Kaikoura Rural |\n",
       "| 3 | 3 | MB 2310702 | 585601 | Parnassus      |\n",
       "| 4 | 4 | MB 2310800 | 585601 | Parnassus      |\n",
       "| 5 | 5 | MB 2310900 | 581500 | Kaikoura Rural |\n",
       "| 6 | 6 | MB 2311000 | 581500 | Kaikoura Rural |\n",
       "\n"
      ],
      "text/plain": [
       "  row meshblock_id area_code area_name     \n",
       "1 1   MB 2308203   580900    Lake Tennyson \n",
       "2 2   MB 2310701   581500    Kaikoura Rural\n",
       "3 3   MB 2310702   585601    Parnassus     \n",
       "4 4   MB 2310800   585601    Parnassus     \n",
       "5 5   MB 2310900   581500    Kaikoura Rural\n",
       "6 6   MB 2311000   581500    Kaikoura Rural"
      ]
     },
     "metadata": {},
     "output_type": "display_data"
    }
   ],
   "source": [
    "meshblock_df %>% \n",
    "head()"
   ]
  },
  {
   "cell_type": "markdown",
   "id": "53df196c",
   "metadata": {},
   "source": [
    "***\n",
    "*Remove row column and saves as meshblock.csv to local*"
   ]
  },
  {
   "cell_type": "code",
   "execution_count": 41,
   "id": "1a78edad",
   "metadata": {},
   "outputs": [],
   "source": [
    "meshblock_df <- subset(meshblock_df, select = c(2, 3, 4))"
   ]
  },
  {
   "cell_type": "code",
   "execution_count": 42,
   "id": "e4c6626f",
   "metadata": {},
   "outputs": [],
   "source": [
    "meshblock_df  %>%\n",
    "write_csv(\"meshblock.csv\")"
   ]
  },
  {
   "cell_type": "markdown",
   "id": "a0102668",
   "metadata": {},
   "source": [
    "***\n",
    "\n",
    "Part 2: Creating an area dataset\n",
    "\n",
    "***"
   ]
  },
  {
   "cell_type": "markdown",
   "id": "59b486ca",
   "metadata": {},
   "source": [
    "***\n",
    "*Creates a new dataframe using the second, third, sixth, seventh and ninth column of the geographic_df*"
   ]
  },
  {
   "cell_type": "code",
   "execution_count": 88,
   "id": "bd9e7ac0",
   "metadata": {},
   "outputs": [],
   "source": [
    "area_df <- subset(geographic_df, select = c(2, 3, 6, 7, 9))"
   ]
  },
  {
   "cell_type": "code",
   "execution_count": 89,
   "id": "a82a8864",
   "metadata": {},
   "outputs": [
    {
     "data": {
      "text/html": [
       "<table class=\"dataframe\">\n",
       "<caption>A tibble: 6 × 5</caption>\n",
       "<thead>\n",
       "\t<tr><th scope=col>...2</th><th scope=col>...3</th><th scope=col>...6</th><th scope=col>...7</th><th scope=col>...9</th></tr>\n",
       "\t<tr><th scope=col>&lt;chr&gt;</th><th scope=col>&lt;chr&gt;</th><th scope=col>&lt;chr&gt;</th><th scope=col>&lt;chr&gt;</th><th scope=col>&lt;chr&gt;</th></tr>\n",
       "</thead>\n",
       "<tbody>\n",
       "\t<tr><td>NA                         </td><td>NA                   </td><td>NA                                     </td><td>NA                                    </td><td>NA                               </td></tr>\n",
       "\t<tr><td>Area unit code (2013 areas)</td><td>Area unit description</td><td>Territorial authority code (2013 areas)</td><td>Territorial authority area description</td><td>Regional council area description</td></tr>\n",
       "\t<tr><td>NA                         </td><td>NA                   </td><td>NA                                     </td><td>NA                                    </td><td>NA                               </td></tr>\n",
       "\t<tr><td>580900                     </td><td>Lake Tennyson        </td><td>058                                    </td><td>Hurunui District                      </td><td>Canterbury Region                </td></tr>\n",
       "\t<tr><td>581500                     </td><td>Kaikoura Rural       </td><td>054                                    </td><td>Kaikoura District                     </td><td>Canterbury Region                </td></tr>\n",
       "\t<tr><td>585601                     </td><td>Parnassus            </td><td>058                                    </td><td>Hurunui District                      </td><td>Canterbury Region                </td></tr>\n",
       "</tbody>\n",
       "</table>\n"
      ],
      "text/latex": [
       "A tibble: 6 × 5\n",
       "\\begin{tabular}{lllll}\n",
       " ...2 & ...3 & ...6 & ...7 & ...9\\\\\n",
       " <chr> & <chr> & <chr> & <chr> & <chr>\\\\\n",
       "\\hline\n",
       "\t NA                          & NA                    & NA                                      & NA                                     & NA                               \\\\\n",
       "\t Area unit code (2013 areas) & Area unit description & Territorial authority code (2013 areas) & Territorial authority area description & Regional council area description\\\\\n",
       "\t NA                          & NA                    & NA                                      & NA                                     & NA                               \\\\\n",
       "\t 580900                      & Lake Tennyson         & 058                                     & Hurunui District                       & Canterbury Region                \\\\\n",
       "\t 581500                      & Kaikoura Rural        & 054                                     & Kaikoura District                      & Canterbury Region                \\\\\n",
       "\t 585601                      & Parnassus             & 058                                     & Hurunui District                       & Canterbury Region                \\\\\n",
       "\\end{tabular}\n"
      ],
      "text/markdown": [
       "\n",
       "A tibble: 6 × 5\n",
       "\n",
       "| ...2 &lt;chr&gt; | ...3 &lt;chr&gt; | ...6 &lt;chr&gt; | ...7 &lt;chr&gt; | ...9 &lt;chr&gt; |\n",
       "|---|---|---|---|---|\n",
       "| NA                          | NA                    | NA                                      | NA                                     | NA                                |\n",
       "| Area unit code (2013 areas) | Area unit description | Territorial authority code (2013 areas) | Territorial authority area description | Regional council area description |\n",
       "| NA                          | NA                    | NA                                      | NA                                     | NA                                |\n",
       "| 580900                      | Lake Tennyson         | 058                                     | Hurunui District                       | Canterbury Region                 |\n",
       "| 581500                      | Kaikoura Rural        | 054                                     | Kaikoura District                      | Canterbury Region                 |\n",
       "| 585601                      | Parnassus             | 058                                     | Hurunui District                       | Canterbury Region                 |\n",
       "\n"
      ],
      "text/plain": [
       "  ...2                        ...3                 \n",
       "1 NA                          NA                   \n",
       "2 Area unit code (2013 areas) Area unit description\n",
       "3 NA                          NA                   \n",
       "4 580900                      Lake Tennyson        \n",
       "5 581500                      Kaikoura Rural       \n",
       "6 585601                      Parnassus            \n",
       "  ...6                                   \n",
       "1 NA                                     \n",
       "2 Territorial authority code (2013 areas)\n",
       "3 NA                                     \n",
       "4 058                                    \n",
       "5 054                                    \n",
       "6 058                                    \n",
       "  ...7                                   ...9                             \n",
       "1 NA                                     NA                               \n",
       "2 Territorial authority area description Regional council area description\n",
       "3 NA                                     NA                               \n",
       "4 Hurunui District                       Canterbury Region                \n",
       "5 Kaikoura District                      Canterbury Region                \n",
       "6 Hurunui District                       Canterbury Region                "
      ]
     },
     "metadata": {},
     "output_type": "display_data"
    }
   ],
   "source": [
    "area_df %>% \n",
    "head()"
   ]
  },
  {
   "cell_type": "markdown",
   "id": "eb2acaf4",
   "metadata": {},
   "source": [
    "***\n",
    "*Deletes row 1, 2 and 3 from area_df*"
   ]
  },
  {
   "cell_type": "code",
   "execution_count": 90,
   "id": "6f4e836a",
   "metadata": {},
   "outputs": [],
   "source": [
    "area_df <- area_df[-c(1, 2, 3), ]"
   ]
  },
  {
   "cell_type": "code",
   "execution_count": 99,
   "id": "11247dc9",
   "metadata": {},
   "outputs": [
    {
     "data": {
      "text/html": [
       "<table class=\"dataframe\">\n",
       "<caption>A data.frame: 6 × 5</caption>\n",
       "<thead>\n",
       "\t<tr><th></th><th scope=col>area_code</th><th scope=col>area_name</th><th scope=col>territory_code</th><th scope=col>territory_name</th><th scope=col>council</th></tr>\n",
       "\t<tr><th></th><th scope=col>&lt;chr&gt;</th><th scope=col>&lt;chr&gt;</th><th scope=col>&lt;chr&gt;</th><th scope=col>&lt;chr&gt;</th><th scope=col>&lt;chr&gt;</th></tr>\n",
       "</thead>\n",
       "<tbody>\n",
       "\t<tr><th scope=row>164</th><td>594700</td><td>Addington     </td><td>060</td><td>Christchurch City </td><td>Canterbury Region</td></tr>\n",
       "\t<tr><th scope=row>71</th><td>587845</td><td>Aidanfield    </td><td>060</td><td>Christchurch City </td><td>Canterbury Region</td></tr>\n",
       "\t<tr><th scope=row>191</th><td>596800</td><td>Akaroa        </td><td>060</td><td>Christchurch City </td><td>Canterbury Region</td></tr>\n",
       "\t<tr><th scope=row>190</th><td>596901</td><td>Akaroa Harbour</td><td>060</td><td>Christchurch City </td><td>Canterbury Region</td></tr>\n",
       "\t<tr><th scope=row>207</th><td>597812</td><td>Allenton East </td><td>063</td><td>Ashburton District</td><td>Canterbury Region</td></tr>\n",
       "\t<tr><th scope=row>208</th><td>597811</td><td>Allenton West </td><td>063</td><td>Ashburton District</td><td>Canterbury Region</td></tr>\n",
       "</tbody>\n",
       "</table>\n"
      ],
      "text/latex": [
       "A data.frame: 6 × 5\n",
       "\\begin{tabular}{r|lllll}\n",
       "  & area\\_code & area\\_name & territory\\_code & territory\\_name & council\\\\\n",
       "  & <chr> & <chr> & <chr> & <chr> & <chr>\\\\\n",
       "\\hline\n",
       "\t164 & 594700 & Addington      & 060 & Christchurch City  & Canterbury Region\\\\\n",
       "\t71 & 587845 & Aidanfield     & 060 & Christchurch City  & Canterbury Region\\\\\n",
       "\t191 & 596800 & Akaroa         & 060 & Christchurch City  & Canterbury Region\\\\\n",
       "\t190 & 596901 & Akaroa Harbour & 060 & Christchurch City  & Canterbury Region\\\\\n",
       "\t207 & 597812 & Allenton East  & 063 & Ashburton District & Canterbury Region\\\\\n",
       "\t208 & 597811 & Allenton West  & 063 & Ashburton District & Canterbury Region\\\\\n",
       "\\end{tabular}\n"
      ],
      "text/markdown": [
       "\n",
       "A data.frame: 6 × 5\n",
       "\n",
       "| <!--/--> | area_code &lt;chr&gt; | area_name &lt;chr&gt; | territory_code &lt;chr&gt; | territory_name &lt;chr&gt; | council &lt;chr&gt; |\n",
       "|---|---|---|---|---|---|\n",
       "| 164 | 594700 | Addington      | 060 | Christchurch City  | Canterbury Region |\n",
       "| 71 | 587845 | Aidanfield     | 060 | Christchurch City  | Canterbury Region |\n",
       "| 191 | 596800 | Akaroa         | 060 | Christchurch City  | Canterbury Region |\n",
       "| 190 | 596901 | Akaroa Harbour | 060 | Christchurch City  | Canterbury Region |\n",
       "| 207 | 597812 | Allenton East  | 063 | Ashburton District | Canterbury Region |\n",
       "| 208 | 597811 | Allenton West  | 063 | Ashburton District | Canterbury Region |\n",
       "\n"
      ],
      "text/plain": [
       "    area_code area_name      territory_code territory_name    \n",
       "164 594700    Addington      060            Christchurch City \n",
       "71  587845    Aidanfield     060            Christchurch City \n",
       "191 596800    Akaroa         060            Christchurch City \n",
       "190 596901    Akaroa Harbour 060            Christchurch City \n",
       "207 597812    Allenton East  063            Ashburton District\n",
       "208 597811    Allenton West  063            Ashburton District\n",
       "    council          \n",
       "164 Canterbury Region\n",
       "71  Canterbury Region\n",
       "191 Canterbury Region\n",
       "190 Canterbury Region\n",
       "207 Canterbury Region\n",
       "208 Canterbury Region"
      ]
     },
     "metadata": {},
     "output_type": "display_data"
    }
   ],
   "source": [
    "area_df %>% \n",
    "head()"
   ]
  },
  {
   "cell_type": "markdown",
   "id": "1937f3a7",
   "metadata": {},
   "source": [
    "***\n",
    "*Renames area_df column names*"
   ]
  },
  {
   "cell_type": "code",
   "execution_count": 100,
   "id": "d139ee85",
   "metadata": {},
   "outputs": [],
   "source": [
    "area_df <- cbind(rownames(area_df), area_df)\n",
    "rownames(area_df) <- NULL\n",
    "colnames(area_df) <- c(\"row\", \"area_code\", \"area_name\", \"territory_code\", \"territory_name\", \"council\")"
   ]
  },
  {
   "cell_type": "code",
   "execution_count": 101,
   "id": "b722b05f",
   "metadata": {},
   "outputs": [
    {
     "data": {
      "text/html": [
       "<table class=\"dataframe\">\n",
       "<caption>A data.frame: 6 × 6</caption>\n",
       "<thead>\n",
       "\t<tr><th></th><th scope=col>row</th><th scope=col>area_code</th><th scope=col>area_name</th><th scope=col>territory_code</th><th scope=col>territory_name</th><th scope=col>council</th></tr>\n",
       "\t<tr><th></th><th scope=col>&lt;chr&gt;</th><th scope=col>&lt;chr&gt;</th><th scope=col>&lt;chr&gt;</th><th scope=col>&lt;chr&gt;</th><th scope=col>&lt;chr&gt;</th><th scope=col>&lt;chr&gt;</th></tr>\n",
       "</thead>\n",
       "<tbody>\n",
       "\t<tr><th scope=row>1</th><td>164</td><td>594700</td><td>Addington     </td><td>060</td><td>Christchurch City </td><td>Canterbury Region</td></tr>\n",
       "\t<tr><th scope=row>2</th><td>71 </td><td>587845</td><td>Aidanfield    </td><td>060</td><td>Christchurch City </td><td>Canterbury Region</td></tr>\n",
       "\t<tr><th scope=row>3</th><td>191</td><td>596800</td><td>Akaroa        </td><td>060</td><td>Christchurch City </td><td>Canterbury Region</td></tr>\n",
       "\t<tr><th scope=row>4</th><td>190</td><td>596901</td><td>Akaroa Harbour</td><td>060</td><td>Christchurch City </td><td>Canterbury Region</td></tr>\n",
       "\t<tr><th scope=row>5</th><td>207</td><td>597812</td><td>Allenton East </td><td>063</td><td>Ashburton District</td><td>Canterbury Region</td></tr>\n",
       "\t<tr><th scope=row>6</th><td>208</td><td>597811</td><td>Allenton West </td><td>063</td><td>Ashburton District</td><td>Canterbury Region</td></tr>\n",
       "</tbody>\n",
       "</table>\n"
      ],
      "text/latex": [
       "A data.frame: 6 × 6\n",
       "\\begin{tabular}{r|llllll}\n",
       "  & row & area\\_code & area\\_name & territory\\_code & territory\\_name & council\\\\\n",
       "  & <chr> & <chr> & <chr> & <chr> & <chr> & <chr>\\\\\n",
       "\\hline\n",
       "\t1 & 164 & 594700 & Addington      & 060 & Christchurch City  & Canterbury Region\\\\\n",
       "\t2 & 71  & 587845 & Aidanfield     & 060 & Christchurch City  & Canterbury Region\\\\\n",
       "\t3 & 191 & 596800 & Akaroa         & 060 & Christchurch City  & Canterbury Region\\\\\n",
       "\t4 & 190 & 596901 & Akaroa Harbour & 060 & Christchurch City  & Canterbury Region\\\\\n",
       "\t5 & 207 & 597812 & Allenton East  & 063 & Ashburton District & Canterbury Region\\\\\n",
       "\t6 & 208 & 597811 & Allenton West  & 063 & Ashburton District & Canterbury Region\\\\\n",
       "\\end{tabular}\n"
      ],
      "text/markdown": [
       "\n",
       "A data.frame: 6 × 6\n",
       "\n",
       "| <!--/--> | row &lt;chr&gt; | area_code &lt;chr&gt; | area_name &lt;chr&gt; | territory_code &lt;chr&gt; | territory_name &lt;chr&gt; | council &lt;chr&gt; |\n",
       "|---|---|---|---|---|---|---|\n",
       "| 1 | 164 | 594700 | Addington      | 060 | Christchurch City  | Canterbury Region |\n",
       "| 2 | 71  | 587845 | Aidanfield     | 060 | Christchurch City  | Canterbury Region |\n",
       "| 3 | 191 | 596800 | Akaroa         | 060 | Christchurch City  | Canterbury Region |\n",
       "| 4 | 190 | 596901 | Akaroa Harbour | 060 | Christchurch City  | Canterbury Region |\n",
       "| 5 | 207 | 597812 | Allenton East  | 063 | Ashburton District | Canterbury Region |\n",
       "| 6 | 208 | 597811 | Allenton West  | 063 | Ashburton District | Canterbury Region |\n",
       "\n"
      ],
      "text/plain": [
       "  row area_code area_name      territory_code territory_name    \n",
       "1 164 594700    Addington      060            Christchurch City \n",
       "2 71  587845    Aidanfield     060            Christchurch City \n",
       "3 191 596800    Akaroa         060            Christchurch City \n",
       "4 190 596901    Akaroa Harbour 060            Christchurch City \n",
       "5 207 597812    Allenton East  063            Ashburton District\n",
       "6 208 597811    Allenton West  063            Ashburton District\n",
       "  council          \n",
       "1 Canterbury Region\n",
       "2 Canterbury Region\n",
       "3 Canterbury Region\n",
       "4 Canterbury Region\n",
       "5 Canterbury Region\n",
       "6 Canterbury Region"
      ]
     },
     "metadata": {},
     "output_type": "display_data"
    }
   ],
   "source": [
    "area_df %>% \n",
    "head()"
   ]
  },
  {
   "cell_type": "markdown",
   "id": "b7f1e2b5",
   "metadata": {},
   "source": [
    "***\n",
    "*Creates a duplicate column called suburb from area_name*"
   ]
  },
  {
   "cell_type": "code",
   "execution_count": 102,
   "id": "b3e6dc22",
   "metadata": {},
   "outputs": [],
   "source": [
    "area_df$suburb = area_df$area_name"
   ]
  },
  {
   "cell_type": "code",
   "execution_count": 103,
   "id": "3b061032",
   "metadata": {},
   "outputs": [
    {
     "data": {
      "text/html": [
       "<table class=\"dataframe\">\n",
       "<caption>A data.frame: 6 × 7</caption>\n",
       "<thead>\n",
       "\t<tr><th></th><th scope=col>row</th><th scope=col>area_code</th><th scope=col>area_name</th><th scope=col>territory_code</th><th scope=col>territory_name</th><th scope=col>council</th><th scope=col>suburb</th></tr>\n",
       "\t<tr><th></th><th scope=col>&lt;chr&gt;</th><th scope=col>&lt;chr&gt;</th><th scope=col>&lt;chr&gt;</th><th scope=col>&lt;chr&gt;</th><th scope=col>&lt;chr&gt;</th><th scope=col>&lt;chr&gt;</th><th scope=col>&lt;chr&gt;</th></tr>\n",
       "</thead>\n",
       "<tbody>\n",
       "\t<tr><th scope=row>1</th><td>164</td><td>594700</td><td>Addington     </td><td>060</td><td>Christchurch City </td><td>Canterbury Region</td><td>Addington     </td></tr>\n",
       "\t<tr><th scope=row>2</th><td>71 </td><td>587845</td><td>Aidanfield    </td><td>060</td><td>Christchurch City </td><td>Canterbury Region</td><td>Aidanfield    </td></tr>\n",
       "\t<tr><th scope=row>3</th><td>191</td><td>596800</td><td>Akaroa        </td><td>060</td><td>Christchurch City </td><td>Canterbury Region</td><td>Akaroa        </td></tr>\n",
       "\t<tr><th scope=row>4</th><td>190</td><td>596901</td><td>Akaroa Harbour</td><td>060</td><td>Christchurch City </td><td>Canterbury Region</td><td>Akaroa Harbour</td></tr>\n",
       "\t<tr><th scope=row>5</th><td>207</td><td>597812</td><td>Allenton East </td><td>063</td><td>Ashburton District</td><td>Canterbury Region</td><td>Allenton East </td></tr>\n",
       "\t<tr><th scope=row>6</th><td>208</td><td>597811</td><td>Allenton West </td><td>063</td><td>Ashburton District</td><td>Canterbury Region</td><td>Allenton West </td></tr>\n",
       "</tbody>\n",
       "</table>\n"
      ],
      "text/latex": [
       "A data.frame: 6 × 7\n",
       "\\begin{tabular}{r|lllllll}\n",
       "  & row & area\\_code & area\\_name & territory\\_code & territory\\_name & council & suburb\\\\\n",
       "  & <chr> & <chr> & <chr> & <chr> & <chr> & <chr> & <chr>\\\\\n",
       "\\hline\n",
       "\t1 & 164 & 594700 & Addington      & 060 & Christchurch City  & Canterbury Region & Addington     \\\\\n",
       "\t2 & 71  & 587845 & Aidanfield     & 060 & Christchurch City  & Canterbury Region & Aidanfield    \\\\\n",
       "\t3 & 191 & 596800 & Akaroa         & 060 & Christchurch City  & Canterbury Region & Akaroa        \\\\\n",
       "\t4 & 190 & 596901 & Akaroa Harbour & 060 & Christchurch City  & Canterbury Region & Akaroa Harbour\\\\\n",
       "\t5 & 207 & 597812 & Allenton East  & 063 & Ashburton District & Canterbury Region & Allenton East \\\\\n",
       "\t6 & 208 & 597811 & Allenton West  & 063 & Ashburton District & Canterbury Region & Allenton West \\\\\n",
       "\\end{tabular}\n"
      ],
      "text/markdown": [
       "\n",
       "A data.frame: 6 × 7\n",
       "\n",
       "| <!--/--> | row &lt;chr&gt; | area_code &lt;chr&gt; | area_name &lt;chr&gt; | territory_code &lt;chr&gt; | territory_name &lt;chr&gt; | council &lt;chr&gt; | suburb &lt;chr&gt; |\n",
       "|---|---|---|---|---|---|---|---|\n",
       "| 1 | 164 | 594700 | Addington      | 060 | Christchurch City  | Canterbury Region | Addington      |\n",
       "| 2 | 71  | 587845 | Aidanfield     | 060 | Christchurch City  | Canterbury Region | Aidanfield     |\n",
       "| 3 | 191 | 596800 | Akaroa         | 060 | Christchurch City  | Canterbury Region | Akaroa         |\n",
       "| 4 | 190 | 596901 | Akaroa Harbour | 060 | Christchurch City  | Canterbury Region | Akaroa Harbour |\n",
       "| 5 | 207 | 597812 | Allenton East  | 063 | Ashburton District | Canterbury Region | Allenton East  |\n",
       "| 6 | 208 | 597811 | Allenton West  | 063 | Ashburton District | Canterbury Region | Allenton West  |\n",
       "\n"
      ],
      "text/plain": [
       "  row area_code area_name      territory_code territory_name    \n",
       "1 164 594700    Addington      060            Christchurch City \n",
       "2 71  587845    Aidanfield     060            Christchurch City \n",
       "3 191 596800    Akaroa         060            Christchurch City \n",
       "4 190 596901    Akaroa Harbour 060            Christchurch City \n",
       "5 207 597812    Allenton East  063            Ashburton District\n",
       "6 208 597811    Allenton West  063            Ashburton District\n",
       "  council           suburb        \n",
       "1 Canterbury Region Addington     \n",
       "2 Canterbury Region Aidanfield    \n",
       "3 Canterbury Region Akaroa        \n",
       "4 Canterbury Region Akaroa Harbour\n",
       "5 Canterbury Region Allenton East \n",
       "6 Canterbury Region Allenton West "
      ]
     },
     "metadata": {},
     "output_type": "display_data"
    }
   ],
   "source": [
    "area_df %>% \n",
    "head()"
   ]
  },
  {
   "cell_type": "markdown",
   "id": "42a5d4f2",
   "metadata": {},
   "source": [
    "***\n",
    "*Remove row column and duplicates in area_name column*"
   ]
  },
  {
   "cell_type": "code",
   "execution_count": 104,
   "id": "f54f3df3",
   "metadata": {},
   "outputs": [],
   "source": [
    "area_df <- subset(area_df, select = c(2, 3, 4, 5, 6, 7))"
   ]
  },
  {
   "cell_type": "code",
   "execution_count": 105,
   "id": "f56aff79",
   "metadata": {},
   "outputs": [],
   "source": [
    "area_df <- distinct(area_df, across(contains(\"area_name\")), , .keep_all = TRUE)\n"
   ]
  },
  {
   "cell_type": "code",
   "execution_count": 106,
   "id": "6bb24b57",
   "metadata": {},
   "outputs": [
    {
     "data": {
      "text/html": [
       "<table class=\"dataframe\">\n",
       "<caption>A data.frame: 6 × 6</caption>\n",
       "<thead>\n",
       "\t<tr><th></th><th scope=col>area_code</th><th scope=col>area_name</th><th scope=col>territory_code</th><th scope=col>territory_name</th><th scope=col>council</th><th scope=col>suburb</th></tr>\n",
       "\t<tr><th></th><th scope=col>&lt;chr&gt;</th><th scope=col>&lt;chr&gt;</th><th scope=col>&lt;chr&gt;</th><th scope=col>&lt;chr&gt;</th><th scope=col>&lt;chr&gt;</th><th scope=col>&lt;chr&gt;</th></tr>\n",
       "</thead>\n",
       "<tbody>\n",
       "\t<tr><th scope=row>1</th><td>594700</td><td>Addington     </td><td>060</td><td>Christchurch City </td><td>Canterbury Region</td><td>Addington     </td></tr>\n",
       "\t<tr><th scope=row>2</th><td>587845</td><td>Aidanfield    </td><td>060</td><td>Christchurch City </td><td>Canterbury Region</td><td>Aidanfield    </td></tr>\n",
       "\t<tr><th scope=row>3</th><td>596800</td><td>Akaroa        </td><td>060</td><td>Christchurch City </td><td>Canterbury Region</td><td>Akaroa        </td></tr>\n",
       "\t<tr><th scope=row>4</th><td>596901</td><td>Akaroa Harbour</td><td>060</td><td>Christchurch City </td><td>Canterbury Region</td><td>Akaroa Harbour</td></tr>\n",
       "\t<tr><th scope=row>5</th><td>597812</td><td>Allenton East </td><td>063</td><td>Ashburton District</td><td>Canterbury Region</td><td>Allenton East </td></tr>\n",
       "\t<tr><th scope=row>6</th><td>597811</td><td>Allenton West </td><td>063</td><td>Ashburton District</td><td>Canterbury Region</td><td>Allenton West </td></tr>\n",
       "</tbody>\n",
       "</table>\n"
      ],
      "text/latex": [
       "A data.frame: 6 × 6\n",
       "\\begin{tabular}{r|llllll}\n",
       "  & area\\_code & area\\_name & territory\\_code & territory\\_name & council & suburb\\\\\n",
       "  & <chr> & <chr> & <chr> & <chr> & <chr> & <chr>\\\\\n",
       "\\hline\n",
       "\t1 & 594700 & Addington      & 060 & Christchurch City  & Canterbury Region & Addington     \\\\\n",
       "\t2 & 587845 & Aidanfield     & 060 & Christchurch City  & Canterbury Region & Aidanfield    \\\\\n",
       "\t3 & 596800 & Akaroa         & 060 & Christchurch City  & Canterbury Region & Akaroa        \\\\\n",
       "\t4 & 596901 & Akaroa Harbour & 060 & Christchurch City  & Canterbury Region & Akaroa Harbour\\\\\n",
       "\t5 & 597812 & Allenton East  & 063 & Ashburton District & Canterbury Region & Allenton East \\\\\n",
       "\t6 & 597811 & Allenton West  & 063 & Ashburton District & Canterbury Region & Allenton West \\\\\n",
       "\\end{tabular}\n"
      ],
      "text/markdown": [
       "\n",
       "A data.frame: 6 × 6\n",
       "\n",
       "| <!--/--> | area_code &lt;chr&gt; | area_name &lt;chr&gt; | territory_code &lt;chr&gt; | territory_name &lt;chr&gt; | council &lt;chr&gt; | suburb &lt;chr&gt; |\n",
       "|---|---|---|---|---|---|---|\n",
       "| 1 | 594700 | Addington      | 060 | Christchurch City  | Canterbury Region | Addington      |\n",
       "| 2 | 587845 | Aidanfield     | 060 | Christchurch City  | Canterbury Region | Aidanfield     |\n",
       "| 3 | 596800 | Akaroa         | 060 | Christchurch City  | Canterbury Region | Akaroa         |\n",
       "| 4 | 596901 | Akaroa Harbour | 060 | Christchurch City  | Canterbury Region | Akaroa Harbour |\n",
       "| 5 | 597812 | Allenton East  | 063 | Ashburton District | Canterbury Region | Allenton East  |\n",
       "| 6 | 597811 | Allenton West  | 063 | Ashburton District | Canterbury Region | Allenton West  |\n",
       "\n"
      ],
      "text/plain": [
       "  area_code area_name      territory_code territory_name     council          \n",
       "1 594700    Addington      060            Christchurch City  Canterbury Region\n",
       "2 587845    Aidanfield     060            Christchurch City  Canterbury Region\n",
       "3 596800    Akaroa         060            Christchurch City  Canterbury Region\n",
       "4 596901    Akaroa Harbour 060            Christchurch City  Canterbury Region\n",
       "5 597812    Allenton East  063            Ashburton District Canterbury Region\n",
       "6 597811    Allenton West  063            Ashburton District Canterbury Region\n",
       "  suburb        \n",
       "1 Addington     \n",
       "2 Aidanfield    \n",
       "3 Akaroa        \n",
       "4 Akaroa Harbour\n",
       "5 Allenton East \n",
       "6 Allenton West "
      ]
     },
     "metadata": {},
     "output_type": "display_data"
    }
   ],
   "source": [
    "area_df %>% \n",
    "head()"
   ]
  },
  {
   "cell_type": "markdown",
   "id": "f7f6931f",
   "metadata": {},
   "source": [
    "***\n",
    "*Save as area.csv to local*"
   ]
  },
  {
   "cell_type": "code",
   "execution_count": 98,
   "id": "6f37d22d",
   "metadata": {},
   "outputs": [],
   "source": [
    "area_df  %>%\n",
    "write_csv(\"area.csv\")"
   ]
  },
  {
   "cell_type": "code",
   "execution_count": null,
   "id": "b5dff1db",
   "metadata": {},
   "outputs": [],
   "source": []
  }
 ],
 "metadata": {
  "kernelspec": {
   "display_name": "R",
   "language": "R",
   "name": "ir"
  },
  "language_info": {
   "codemirror_mode": "r",
   "file_extension": ".r",
   "mimetype": "text/x-r-source",
   "name": "R",
   "pygments_lexer": "r",
   "version": "4.0.4"
  }
 },
 "nbformat": 4,
 "nbformat_minor": 5
}

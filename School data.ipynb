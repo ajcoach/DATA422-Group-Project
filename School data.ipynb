{
 "cells": [
  {
   "cell_type": "markdown",
   "id": "a73419d5",
   "metadata": {},
   "source": [
    "***\n",
    "Julia program that takes the schooldirectory.csv dataset from https://www.educationcounts.govt.nz/ and tranforms them to one csv datasets, schools.csv\n",
    "***\n",
    "\n",
    "\n"
   ]
  },
  {
   "cell_type": "markdown",
   "id": "b4586067",
   "metadata": {},
   "source": [
    "***\n",
    "*imports Pkg, VegaLite, DataFrames, CSV & Queryverse library so we can use packages like ggplot, tibble, tidyr, readr, dplyr, etc.*"
   ]
  },
  {
   "cell_type": "code",
   "execution_count": 2,
   "id": "5ec2bc7f",
   "metadata": {},
   "outputs": [],
   "source": [
    "using Pkg\n",
    "using VegaDatasets, VegaLite\n",
    "using DataFrames\n",
    "using CSV\n",
    "using Queryverse"
   ]
  },
  {
   "cell_type": "markdown",
   "id": "e8ef9885",
   "metadata": {},
   "source": [
    "***\n",
    "*Loads CSV file as dataframe*"
   ]
  },
  {
   "cell_type": "code",
   "execution_count": 3,
   "id": "853e75f2",
   "metadata": {},
   "outputs": [
    {
     "data": {
      "text/html": [
       "<div class=\"data-frame\"><p>293 rows × 42 columns (omitted printing of 39 columns)</p><table class=\"data-frame\"><thead><tr><th></th><th>School Number</th><th>School Name</th><th>Telephone</th></tr><tr><th></th><th title=\"Int64\">Int64</th><th title=\"String\">String</th><th title=\"Union{Missing, String}\">String?</th></tr></thead><tbody><tr><th>1</th><td>82</td><td>Aidanfield Christian School</td><td>03 338 8153</td></tr><tr><th>2</th><td>307</td><td>Kaikoura High School</td><td>03 319 5138</td></tr><tr><th>3</th><td>308</td><td>Amuri Area School</td><td>03 315 8233</td></tr><tr><th>4</th><td>309</td><td>Cheviot Area School</td><td>03 319 8787</td></tr><tr><th>5</th><td>310</td><td>Oxford Area School</td><td>03 312 4197</td></tr><tr><th>6</th><td>311</td><td>Hurunui College</td><td>03 314 4430</td></tr><tr><th>7</th><td>312</td><td>Rangiora High School</td><td>03 311 8888</td></tr><tr><th>8</th><td>314</td><td>Kaiapoi High School</td><td>03 375 5004</td></tr><tr><th>9</th><td>315</td><td>St Bedes College</td><td>03 375 0647</td></tr><tr><th>10</th><td>316</td><td>Papanui High School</td><td>03 352 6119</td></tr><tr><th>11</th><td>317</td><td>Christchurch Adventist School</td><td>03 352 9173</td></tr><tr><th>12</th><td>318</td><td>St Andrew&apos;s College (Christchurch)</td><td>03 940 2000</td></tr><tr><th>13</th><td>319</td><td>Burnside High School</td><td>03 358 8383</td></tr><tr><th>14</th><td>320</td><td>Mairehau High School</td><td>03 385 3145</td></tr><tr><th>15</th><td>321</td><td>Shirley Boys&apos; High School</td><td>03 375 7057</td></tr><tr><th>16</th><td>324</td><td>Avonside Girls&apos; High School</td><td>03 389 7199</td></tr><tr><th>17</th><td>325</td><td>Rangi Ruru Girls&apos; School</td><td>03 983 3700</td></tr><tr><th>18</th><td>326</td><td>Villa Maria College</td><td>03 348 4165</td></tr><tr><th>19</th><td>327</td><td>Christchurch Boys&apos; High School</td><td>03 348 5003</td></tr><tr><th>20</th><td>328</td><td>Christchurch Girls&apos; High School -Te Kura o Hine Waiora</td><td>03 348 0849</td></tr><tr><th>21</th><td>330</td><td>Christ&apos;s College</td><td>03 366 8705</td></tr><tr><th>22</th><td>331</td><td>St Thomas of Canterbury College</td><td>03 348 7010</td></tr><tr><th>23</th><td>333</td><td>St Margaret&apos;s College</td><td>03 379 2000</td></tr><tr><th>24</th><td>334</td><td>Riccarton High School</td><td>03 348 5073</td></tr><tr><th>25</th><td>335</td><td>Middleton Grange School</td><td>03 348 9826</td></tr><tr><th>26</th><td>336</td><td>Hagley Community College</td><td>03 379 3090</td></tr><tr><th>27</th><td>337</td><td>Linwood College</td><td>03 982 0100</td></tr><tr><th>28</th><td>338</td><td>Hornby High School</td><td>03 349 5396</td></tr><tr><th>29</th><td>339</td><td>Hillmorton High School</td><td>03 338 5119</td></tr><tr><th>30</th><td>340</td><td>Cashmere High School</td><td>03 332 9129</td></tr><tr><th>&vellip;</th><td>&vellip;</td><td>&vellip;</td><td>&vellip;</td></tr></tbody></table></div>"
      ],
      "text/latex": [
       "\\begin{tabular}{r|cccc}\n",
       "\t& School Number & School Name & Telephone & \\\\\n",
       "\t\\hline\n",
       "\t& Int64 & String & String? & \\\\\n",
       "\t\\hline\n",
       "\t1 & 82 & Aidanfield Christian School & 03 338 8153 & $\\dots$ \\\\\n",
       "\t2 & 307 & Kaikoura High School & 03 319 5138 & $\\dots$ \\\\\n",
       "\t3 & 308 & Amuri Area School & 03 315 8233 & $\\dots$ \\\\\n",
       "\t4 & 309 & Cheviot Area School & 03 319 8787 & $\\dots$ \\\\\n",
       "\t5 & 310 & Oxford Area School & 03 312 4197 & $\\dots$ \\\\\n",
       "\t6 & 311 & Hurunui College & 03 314 4430 & $\\dots$ \\\\\n",
       "\t7 & 312 & Rangiora High School & 03 311 8888 & $\\dots$ \\\\\n",
       "\t8 & 314 & Kaiapoi High School & 03 375 5004 & $\\dots$ \\\\\n",
       "\t9 & 315 & St Bedes College & 03 375 0647 & $\\dots$ \\\\\n",
       "\t10 & 316 & Papanui High School & 03 352 6119 & $\\dots$ \\\\\n",
       "\t11 & 317 & Christchurch Adventist School & 03 352 9173 & $\\dots$ \\\\\n",
       "\t12 & 318 & St Andrew's College (Christchurch) & 03 940 2000 & $\\dots$ \\\\\n",
       "\t13 & 319 & Burnside High School & 03 358 8383 & $\\dots$ \\\\\n",
       "\t14 & 320 & Mairehau High School & 03 385 3145 & $\\dots$ \\\\\n",
       "\t15 & 321 & Shirley Boys' High School & 03 375 7057 & $\\dots$ \\\\\n",
       "\t16 & 324 & Avonside Girls' High School & 03 389 7199 & $\\dots$ \\\\\n",
       "\t17 & 325 & Rangi Ruru Girls' School & 03 983 3700 & $\\dots$ \\\\\n",
       "\t18 & 326 & Villa Maria College & 03 348 4165 & $\\dots$ \\\\\n",
       "\t19 & 327 & Christchurch Boys' High School & 03 348 5003 & $\\dots$ \\\\\n",
       "\t20 & 328 & Christchurch Girls' High School -Te Kura o Hine Waiora & 03 348 0849 & $\\dots$ \\\\\n",
       "\t21 & 330 & Christ's College & 03 366 8705 & $\\dots$ \\\\\n",
       "\t22 & 331 & St Thomas of Canterbury College & 03 348 7010 & $\\dots$ \\\\\n",
       "\t23 & 333 & St Margaret's College & 03 379 2000 & $\\dots$ \\\\\n",
       "\t24 & 334 & Riccarton High School & 03 348 5073 & $\\dots$ \\\\\n",
       "\t25 & 335 & Middleton Grange School & 03 348 9826 & $\\dots$ \\\\\n",
       "\t26 & 336 & Hagley Community College & 03 379 3090 & $\\dots$ \\\\\n",
       "\t27 & 337 & Linwood College & 03 982 0100 & $\\dots$ \\\\\n",
       "\t28 & 338 & Hornby High School & 03 349 5396 & $\\dots$ \\\\\n",
       "\t29 & 339 & Hillmorton High School & 03 338 5119 & $\\dots$ \\\\\n",
       "\t30 & 340 & Cashmere High School & 03 332 9129 & $\\dots$ \\\\\n",
       "\t$\\dots$ & $\\dots$ & $\\dots$ & $\\dots$ &  \\\\\n",
       "\\end{tabular}\n"
      ],
      "text/plain": [
       "\u001b[1m293×42 DataFrame\u001b[0m\n",
       "\u001b[1m Row \u001b[0m│\u001b[1m School Number \u001b[0m\u001b[1m School Name                       \u001b[0m\u001b[1m Telephone   \u001b[0m\u001b[1m Fax     \u001b[0m ⋯\n",
       "\u001b[1m     \u001b[0m│\u001b[90m Int64         \u001b[0m\u001b[90m String                            \u001b[0m\u001b[90m String?     \u001b[0m\u001b[90m String? \u001b[0m ⋯\n",
       "─────┼──────────────────────────────────────────────────────────────────────────\n",
       "   1 │            82  Aidanfield Christian School        03 338 8153  03 339 0 ⋯\n",
       "   2 │           307  Kaikoura High School               03 319 5138  03 319 5\n",
       "   3 │           308  Amuri Area School                  03 315 8233  03 315 8\n",
       "   4 │           309  Cheviot Area School                03 319 8787  03 319 8\n",
       "   5 │           310  Oxford Area School                 03 312 4197  03 312 4 ⋯\n",
       "   6 │           311  Hurunui College                    03 314 4430  03 314 4\n",
       "   7 │           312  Rangiora High School               03 311 8888  03 313 8\n",
       "   8 │           314  Kaiapoi High School                03 375 5004  03 327 6\n",
       "   9 │           315  St Bedes College                   03 375 0647  03 352 0 ⋯\n",
       "  10 │           316  Papanui High School                03 352 6119  03 352 6\n",
       "  11 │           317  Christchurch Adventist School      03 352 9173  03 352 3\n",
       "  ⋮  │       ⋮                        ⋮                       ⋮            ⋮   ⋱\n",
       " 284 │          4118  Medbury Preparatory School         03 351 6169  03 351 6\n",
       " 285 │          4132  St Joseph's School (Rangiora)      03 313 7828  03 313 7 ⋯\n",
       " 286 │          4135  St Mark's School (Christchurch)    03 332 7339  03 332 4\n",
       " 287 │          4136  St Michael's Church School         03 379 9790  03 365 0\n",
       " 288 │          4138  Selwyn House School                021 333 923 \u001b[90m missing\u001b[0m\n",
       " 289 │          4143  Tamariki School                    03 384 9014  03 384 9 ⋯\n",
       " 290 │          4147  Waihi School                       03 687 8014  03 615 8\n",
       " 291 │          4212  TKKM o Waitaha                     03 377 1436  03 353 2\n",
       " 292 │          6967  Lemonwood Grove School             03 974 9236 \u001b[90m missing\u001b[0m\n",
       " 293 │          6980  Clearview Primary                  03 347 7025  03 347 7 ⋯\n",
       "\u001b[36m                                                 39 columns and 272 rows omitted\u001b[0m"
      ]
     },
     "execution_count": 3,
     "metadata": {},
     "output_type": "execute_result"
    }
   ],
   "source": [
    "schools = CSV.read(\"school_directory.csv\", DataFrame)"
   ]
  },
  {
   "cell_type": "markdown",
   "id": "cc1eda10",
   "metadata": {},
   "source": [
    "***\n",
    "*Confirm type*"
   ]
  },
  {
   "cell_type": "code",
   "execution_count": 4,
   "id": "7a2698ca",
   "metadata": {},
   "outputs": [
    {
     "data": {
      "text/plain": [
       "DataFrame"
      ]
     },
     "execution_count": 4,
     "metadata": {},
     "output_type": "execute_result"
    }
   ],
   "source": [
    "schools |>\n",
    "  typeof"
   ]
  },
  {
   "cell_type": "markdown",
   "id": "1927a1b6",
   "metadata": {},
   "source": [
    "***\n",
    "*Select columns of interest*"
   ]
  },
  {
   "cell_type": "code",
   "execution_count": 5,
   "id": "465ac9d2",
   "metadata": {},
   "outputs": [
    {
     "data": {
      "text/html": [
       "<div class=\"data-frame\"><p>293 rows × 15 columns (omitted printing of 12 columns)</p><table class=\"data-frame\"><thead><tr><th></th><th>School Number</th><th>School Name</th><th>Telephone</th></tr><tr><th></th><th title=\"Int64\">Int64</th><th title=\"String\">String</th><th title=\"Union{Missing, String}\">String?</th></tr></thead><tbody><tr><th>1</th><td>82</td><td>Aidanfield Christian School</td><td>03 338 8153</td></tr><tr><th>2</th><td>307</td><td>Kaikoura High School</td><td>03 319 5138</td></tr><tr><th>3</th><td>308</td><td>Amuri Area School</td><td>03 315 8233</td></tr><tr><th>4</th><td>309</td><td>Cheviot Area School</td><td>03 319 8787</td></tr><tr><th>5</th><td>310</td><td>Oxford Area School</td><td>03 312 4197</td></tr><tr><th>6</th><td>311</td><td>Hurunui College</td><td>03 314 4430</td></tr><tr><th>7</th><td>312</td><td>Rangiora High School</td><td>03 311 8888</td></tr><tr><th>8</th><td>314</td><td>Kaiapoi High School</td><td>03 375 5004</td></tr><tr><th>9</th><td>315</td><td>St Bedes College</td><td>03 375 0647</td></tr><tr><th>10</th><td>316</td><td>Papanui High School</td><td>03 352 6119</td></tr><tr><th>11</th><td>317</td><td>Christchurch Adventist School</td><td>03 352 9173</td></tr><tr><th>12</th><td>318</td><td>St Andrew&apos;s College (Christchurch)</td><td>03 940 2000</td></tr><tr><th>13</th><td>319</td><td>Burnside High School</td><td>03 358 8383</td></tr><tr><th>14</th><td>320</td><td>Mairehau High School</td><td>03 385 3145</td></tr><tr><th>15</th><td>321</td><td>Shirley Boys&apos; High School</td><td>03 375 7057</td></tr><tr><th>16</th><td>324</td><td>Avonside Girls&apos; High School</td><td>03 389 7199</td></tr><tr><th>17</th><td>325</td><td>Rangi Ruru Girls&apos; School</td><td>03 983 3700</td></tr><tr><th>18</th><td>326</td><td>Villa Maria College</td><td>03 348 4165</td></tr><tr><th>19</th><td>327</td><td>Christchurch Boys&apos; High School</td><td>03 348 5003</td></tr><tr><th>20</th><td>328</td><td>Christchurch Girls&apos; High School -Te Kura o Hine Waiora</td><td>03 348 0849</td></tr><tr><th>21</th><td>330</td><td>Christ&apos;s College</td><td>03 366 8705</td></tr><tr><th>22</th><td>331</td><td>St Thomas of Canterbury College</td><td>03 348 7010</td></tr><tr><th>23</th><td>333</td><td>St Margaret&apos;s College</td><td>03 379 2000</td></tr><tr><th>24</th><td>334</td><td>Riccarton High School</td><td>03 348 5073</td></tr><tr><th>25</th><td>335</td><td>Middleton Grange School</td><td>03 348 9826</td></tr><tr><th>26</th><td>336</td><td>Hagley Community College</td><td>03 379 3090</td></tr><tr><th>27</th><td>337</td><td>Linwood College</td><td>03 982 0100</td></tr><tr><th>28</th><td>338</td><td>Hornby High School</td><td>03 349 5396</td></tr><tr><th>29</th><td>339</td><td>Hillmorton High School</td><td>03 338 5119</td></tr><tr><th>30</th><td>340</td><td>Cashmere High School</td><td>03 332 9129</td></tr><tr><th>&vellip;</th><td>&vellip;</td><td>&vellip;</td><td>&vellip;</td></tr></tbody></table></div>"
      ],
      "text/latex": [
       "\\begin{tabular}{r|cccc}\n",
       "\t& School Number & School Name & Telephone & \\\\\n",
       "\t\\hline\n",
       "\t& Int64 & String & String? & \\\\\n",
       "\t\\hline\n",
       "\t1 & 82 & Aidanfield Christian School & 03 338 8153 & $\\dots$ \\\\\n",
       "\t2 & 307 & Kaikoura High School & 03 319 5138 & $\\dots$ \\\\\n",
       "\t3 & 308 & Amuri Area School & 03 315 8233 & $\\dots$ \\\\\n",
       "\t4 & 309 & Cheviot Area School & 03 319 8787 & $\\dots$ \\\\\n",
       "\t5 & 310 & Oxford Area School & 03 312 4197 & $\\dots$ \\\\\n",
       "\t6 & 311 & Hurunui College & 03 314 4430 & $\\dots$ \\\\\n",
       "\t7 & 312 & Rangiora High School & 03 311 8888 & $\\dots$ \\\\\n",
       "\t8 & 314 & Kaiapoi High School & 03 375 5004 & $\\dots$ \\\\\n",
       "\t9 & 315 & St Bedes College & 03 375 0647 & $\\dots$ \\\\\n",
       "\t10 & 316 & Papanui High School & 03 352 6119 & $\\dots$ \\\\\n",
       "\t11 & 317 & Christchurch Adventist School & 03 352 9173 & $\\dots$ \\\\\n",
       "\t12 & 318 & St Andrew's College (Christchurch) & 03 940 2000 & $\\dots$ \\\\\n",
       "\t13 & 319 & Burnside High School & 03 358 8383 & $\\dots$ \\\\\n",
       "\t14 & 320 & Mairehau High School & 03 385 3145 & $\\dots$ \\\\\n",
       "\t15 & 321 & Shirley Boys' High School & 03 375 7057 & $\\dots$ \\\\\n",
       "\t16 & 324 & Avonside Girls' High School & 03 389 7199 & $\\dots$ \\\\\n",
       "\t17 & 325 & Rangi Ruru Girls' School & 03 983 3700 & $\\dots$ \\\\\n",
       "\t18 & 326 & Villa Maria College & 03 348 4165 & $\\dots$ \\\\\n",
       "\t19 & 327 & Christchurch Boys' High School & 03 348 5003 & $\\dots$ \\\\\n",
       "\t20 & 328 & Christchurch Girls' High School -Te Kura o Hine Waiora & 03 348 0849 & $\\dots$ \\\\\n",
       "\t21 & 330 & Christ's College & 03 366 8705 & $\\dots$ \\\\\n",
       "\t22 & 331 & St Thomas of Canterbury College & 03 348 7010 & $\\dots$ \\\\\n",
       "\t23 & 333 & St Margaret's College & 03 379 2000 & $\\dots$ \\\\\n",
       "\t24 & 334 & Riccarton High School & 03 348 5073 & $\\dots$ \\\\\n",
       "\t25 & 335 & Middleton Grange School & 03 348 9826 & $\\dots$ \\\\\n",
       "\t26 & 336 & Hagley Community College & 03 379 3090 & $\\dots$ \\\\\n",
       "\t27 & 337 & Linwood College & 03 982 0100 & $\\dots$ \\\\\n",
       "\t28 & 338 & Hornby High School & 03 349 5396 & $\\dots$ \\\\\n",
       "\t29 & 339 & Hillmorton High School & 03 338 5119 & $\\dots$ \\\\\n",
       "\t30 & 340 & Cashmere High School & 03 332 9129 & $\\dots$ \\\\\n",
       "\t$\\dots$ & $\\dots$ & $\\dots$ & $\\dots$ &  \\\\\n",
       "\\end{tabular}\n"
      ],
      "text/plain": [
       "\u001b[1m293×15 DataFrame\u001b[0m\n",
       "\u001b[1m Row \u001b[0m│\u001b[1m School Number \u001b[0m\u001b[1m School Name                       \u001b[0m\u001b[1m Telephone   \u001b[0m\u001b[1m School W\u001b[0m ⋯\n",
       "\u001b[1m     \u001b[0m│\u001b[90m Int64         \u001b[0m\u001b[90m String                            \u001b[0m\u001b[90m String?     \u001b[0m\u001b[90m String? \u001b[0m ⋯\n",
       "─────┼──────────────────────────────────────────────────────────────────────────\n",
       "   1 │            82  Aidanfield Christian School        03 338 8153  http://w ⋯\n",
       "   2 │           307  Kaikoura High School               03 319 5138  http://w\n",
       "   3 │           308  Amuri Area School                  03 315 8233  http://w\n",
       "   4 │           309  Cheviot Area School                03 319 8787  http://w\n",
       "   5 │           310  Oxford Area School                 03 312 4197  http://w ⋯\n",
       "   6 │           311  Hurunui College                    03 314 4430  http://w\n",
       "   7 │           312  Rangiora High School               03 311 8888  http://w\n",
       "   8 │           314  Kaiapoi High School                03 375 5004  http://w\n",
       "   9 │           315  St Bedes College                   03 375 0647  http://w ⋯\n",
       "  10 │           316  Papanui High School                03 352 6119  http://w\n",
       "  11 │           317  Christchurch Adventist School      03 352 9173  http://w\n",
       "  ⋮  │       ⋮                        ⋮                       ⋮                ⋱\n",
       " 284 │          4118  Medbury Preparatory School         03 351 6169  http://w\n",
       " 285 │          4132  St Joseph's School (Rangiora)      03 313 7828  http://w ⋯\n",
       " 286 │          4135  St Mark's School (Christchurch)    03 332 7339  http://w\n",
       " 287 │          4136  St Michael's Church School         03 379 9790  http://s\n",
       " 288 │          4138  Selwyn House School                021 333 923  http://w\n",
       " 289 │          4143  Tamariki School                    03 384 9014  http://w ⋯\n",
       " 290 │          4147  Waihi School                       03 687 8014  http://w\n",
       " 291 │          4212  TKKM o Waitaha                     03 377 1436  http://w\n",
       " 292 │          6967  Lemonwood Grove School             03 974 9236  http://w\n",
       " 293 │          6980  Clearview Primary                  03 347 7025  http://w ⋯\n",
       "\u001b[36m                                                 12 columns and 272 rows omitted\u001b[0m"
      ]
     },
     "execution_count": 5,
     "metadata": {},
     "output_type": "execute_result"
    }
   ],
   "source": [
    "schools = schools[:, [1, 2, 3, 7, 8, 9, 10, 14, 16, 20, 27, 31, 32, 34, 35 ]]"
   ]
  },
  {
   "cell_type": "markdown",
   "id": "acc97122",
   "metadata": {},
   "source": [
    "***\n",
    "*Renames Total School Roll to Total Students*"
   ]
  },
  {
   "cell_type": "code",
   "execution_count": 6,
   "id": "976d2195",
   "metadata": {},
   "outputs": [
    {
     "data": {
      "text/html": [
       "<div class=\"data-frame\"><p>293 rows × 15 columns (omitted printing of 12 columns)</p><table class=\"data-frame\"><thead><tr><th></th><th>School Number</th><th>School Name</th><th>Telephone</th></tr><tr><th></th><th title=\"Int64\">Int64</th><th title=\"String\">String</th><th title=\"Union{Missing, String}\">String?</th></tr></thead><tbody><tr><th>1</th><td>82</td><td>Aidanfield Christian School</td><td>03 338 8153</td></tr><tr><th>2</th><td>307</td><td>Kaikoura High School</td><td>03 319 5138</td></tr><tr><th>3</th><td>308</td><td>Amuri Area School</td><td>03 315 8233</td></tr><tr><th>4</th><td>309</td><td>Cheviot Area School</td><td>03 319 8787</td></tr><tr><th>5</th><td>310</td><td>Oxford Area School</td><td>03 312 4197</td></tr><tr><th>6</th><td>311</td><td>Hurunui College</td><td>03 314 4430</td></tr><tr><th>7</th><td>312</td><td>Rangiora High School</td><td>03 311 8888</td></tr><tr><th>8</th><td>314</td><td>Kaiapoi High School</td><td>03 375 5004</td></tr><tr><th>9</th><td>315</td><td>St Bedes College</td><td>03 375 0647</td></tr><tr><th>10</th><td>316</td><td>Papanui High School</td><td>03 352 6119</td></tr><tr><th>11</th><td>317</td><td>Christchurch Adventist School</td><td>03 352 9173</td></tr><tr><th>12</th><td>318</td><td>St Andrew&apos;s College (Christchurch)</td><td>03 940 2000</td></tr><tr><th>13</th><td>319</td><td>Burnside High School</td><td>03 358 8383</td></tr><tr><th>14</th><td>320</td><td>Mairehau High School</td><td>03 385 3145</td></tr><tr><th>15</th><td>321</td><td>Shirley Boys&apos; High School</td><td>03 375 7057</td></tr><tr><th>16</th><td>324</td><td>Avonside Girls&apos; High School</td><td>03 389 7199</td></tr><tr><th>17</th><td>325</td><td>Rangi Ruru Girls&apos; School</td><td>03 983 3700</td></tr><tr><th>18</th><td>326</td><td>Villa Maria College</td><td>03 348 4165</td></tr><tr><th>19</th><td>327</td><td>Christchurch Boys&apos; High School</td><td>03 348 5003</td></tr><tr><th>20</th><td>328</td><td>Christchurch Girls&apos; High School -Te Kura o Hine Waiora</td><td>03 348 0849</td></tr><tr><th>21</th><td>330</td><td>Christ&apos;s College</td><td>03 366 8705</td></tr><tr><th>22</th><td>331</td><td>St Thomas of Canterbury College</td><td>03 348 7010</td></tr><tr><th>23</th><td>333</td><td>St Margaret&apos;s College</td><td>03 379 2000</td></tr><tr><th>24</th><td>334</td><td>Riccarton High School</td><td>03 348 5073</td></tr><tr><th>25</th><td>335</td><td>Middleton Grange School</td><td>03 348 9826</td></tr><tr><th>26</th><td>336</td><td>Hagley Community College</td><td>03 379 3090</td></tr><tr><th>27</th><td>337</td><td>Linwood College</td><td>03 982 0100</td></tr><tr><th>28</th><td>338</td><td>Hornby High School</td><td>03 349 5396</td></tr><tr><th>29</th><td>339</td><td>Hillmorton High School</td><td>03 338 5119</td></tr><tr><th>30</th><td>340</td><td>Cashmere High School</td><td>03 332 9129</td></tr><tr><th>&vellip;</th><td>&vellip;</td><td>&vellip;</td><td>&vellip;</td></tr></tbody></table></div>"
      ],
      "text/latex": [
       "\\begin{tabular}{r|cccc}\n",
       "\t& School Number & School Name & Telephone & \\\\\n",
       "\t\\hline\n",
       "\t& Int64 & String & String? & \\\\\n",
       "\t\\hline\n",
       "\t1 & 82 & Aidanfield Christian School & 03 338 8153 & $\\dots$ \\\\\n",
       "\t2 & 307 & Kaikoura High School & 03 319 5138 & $\\dots$ \\\\\n",
       "\t3 & 308 & Amuri Area School & 03 315 8233 & $\\dots$ \\\\\n",
       "\t4 & 309 & Cheviot Area School & 03 319 8787 & $\\dots$ \\\\\n",
       "\t5 & 310 & Oxford Area School & 03 312 4197 & $\\dots$ \\\\\n",
       "\t6 & 311 & Hurunui College & 03 314 4430 & $\\dots$ \\\\\n",
       "\t7 & 312 & Rangiora High School & 03 311 8888 & $\\dots$ \\\\\n",
       "\t8 & 314 & Kaiapoi High School & 03 375 5004 & $\\dots$ \\\\\n",
       "\t9 & 315 & St Bedes College & 03 375 0647 & $\\dots$ \\\\\n",
       "\t10 & 316 & Papanui High School & 03 352 6119 & $\\dots$ \\\\\n",
       "\t11 & 317 & Christchurch Adventist School & 03 352 9173 & $\\dots$ \\\\\n",
       "\t12 & 318 & St Andrew's College (Christchurch) & 03 940 2000 & $\\dots$ \\\\\n",
       "\t13 & 319 & Burnside High School & 03 358 8383 & $\\dots$ \\\\\n",
       "\t14 & 320 & Mairehau High School & 03 385 3145 & $\\dots$ \\\\\n",
       "\t15 & 321 & Shirley Boys' High School & 03 375 7057 & $\\dots$ \\\\\n",
       "\t16 & 324 & Avonside Girls' High School & 03 389 7199 & $\\dots$ \\\\\n",
       "\t17 & 325 & Rangi Ruru Girls' School & 03 983 3700 & $\\dots$ \\\\\n",
       "\t18 & 326 & Villa Maria College & 03 348 4165 & $\\dots$ \\\\\n",
       "\t19 & 327 & Christchurch Boys' High School & 03 348 5003 & $\\dots$ \\\\\n",
       "\t20 & 328 & Christchurch Girls' High School -Te Kura o Hine Waiora & 03 348 0849 & $\\dots$ \\\\\n",
       "\t21 & 330 & Christ's College & 03 366 8705 & $\\dots$ \\\\\n",
       "\t22 & 331 & St Thomas of Canterbury College & 03 348 7010 & $\\dots$ \\\\\n",
       "\t23 & 333 & St Margaret's College & 03 379 2000 & $\\dots$ \\\\\n",
       "\t24 & 334 & Riccarton High School & 03 348 5073 & $\\dots$ \\\\\n",
       "\t25 & 335 & Middleton Grange School & 03 348 9826 & $\\dots$ \\\\\n",
       "\t26 & 336 & Hagley Community College & 03 379 3090 & $\\dots$ \\\\\n",
       "\t27 & 337 & Linwood College & 03 982 0100 & $\\dots$ \\\\\n",
       "\t28 & 338 & Hornby High School & 03 349 5396 & $\\dots$ \\\\\n",
       "\t29 & 339 & Hillmorton High School & 03 338 5119 & $\\dots$ \\\\\n",
       "\t30 & 340 & Cashmere High School & 03 332 9129 & $\\dots$ \\\\\n",
       "\t$\\dots$ & $\\dots$ & $\\dots$ & $\\dots$ &  \\\\\n",
       "\\end{tabular}\n"
      ],
      "text/plain": [
       "\u001b[1m293×15 DataFrame\u001b[0m\n",
       "\u001b[1m Row \u001b[0m│\u001b[1m School Number \u001b[0m\u001b[1m School Name                       \u001b[0m\u001b[1m Telephone   \u001b[0m\u001b[1m School W\u001b[0m ⋯\n",
       "\u001b[1m     \u001b[0m│\u001b[90m Int64         \u001b[0m\u001b[90m String                            \u001b[0m\u001b[90m String?     \u001b[0m\u001b[90m String? \u001b[0m ⋯\n",
       "─────┼──────────────────────────────────────────────────────────────────────────\n",
       "   1 │            82  Aidanfield Christian School        03 338 8153  http://w ⋯\n",
       "   2 │           307  Kaikoura High School               03 319 5138  http://w\n",
       "   3 │           308  Amuri Area School                  03 315 8233  http://w\n",
       "   4 │           309  Cheviot Area School                03 319 8787  http://w\n",
       "   5 │           310  Oxford Area School                 03 312 4197  http://w ⋯\n",
       "   6 │           311  Hurunui College                    03 314 4430  http://w\n",
       "   7 │           312  Rangiora High School               03 311 8888  http://w\n",
       "   8 │           314  Kaiapoi High School                03 375 5004  http://w\n",
       "   9 │           315  St Bedes College                   03 375 0647  http://w ⋯\n",
       "  10 │           316  Papanui High School                03 352 6119  http://w\n",
       "  11 │           317  Christchurch Adventist School      03 352 9173  http://w\n",
       "  ⋮  │       ⋮                        ⋮                       ⋮                ⋱\n",
       " 284 │          4118  Medbury Preparatory School         03 351 6169  http://w\n",
       " 285 │          4132  St Joseph's School (Rangiora)      03 313 7828  http://w ⋯\n",
       " 286 │          4135  St Mark's School (Christchurch)    03 332 7339  http://w\n",
       " 287 │          4136  St Michael's Church School         03 379 9790  http://s\n",
       " 288 │          4138  Selwyn House School                021 333 923  http://w\n",
       " 289 │          4143  Tamariki School                    03 384 9014  http://w ⋯\n",
       " 290 │          4147  Waihi School                       03 687 8014  http://w\n",
       " 291 │          4212  TKKM o Waitaha                     03 377 1436  http://w\n",
       " 292 │          6967  Lemonwood Grove School             03 974 9236  http://w\n",
       " 293 │          6980  Clearview Primary                  03 347 7025  http://w ⋯\n",
       "\u001b[36m                                                 12 columns and 272 rows omitted\u001b[0m"
      ]
     },
     "execution_count": 6,
     "metadata": {},
     "output_type": "execute_result"
    }
   ],
   "source": [
    "schools = rename!(schools,:\"Total School Roll\" => :\"Total Students\")"
   ]
  },
  {
   "cell_type": "markdown",
   "id": "413a507b",
   "metadata": {},
   "source": [
    "*Changes \"99\" values in Decile column to \"NA\"*"
   ]
  },
  {
   "cell_type": "code",
   "execution_count": 12,
   "id": "a7ab491d",
   "metadata": {},
   "outputs": [
    {
     "data": {
      "text/plain": [
       "293-element Vector{Int64}:\n",
       "  8\n",
       "  4\n",
       "  8\n",
       "  4\n",
       "  7\n",
       "  7\n",
       "  9\n",
       "  7\n",
       "  9\n",
       "  7\n",
       "  5\n",
       " 10\n",
       "  8\n",
       "  ⋮\n",
       "  9\n",
       "  7\n",
       " 10\n",
       "  9\n",
       " 10\n",
       "  8\n",
       " 10\n",
       "  4\n",
       " 10\n",
       "  1\n",
       " 10\n",
       " 10"
      ]
     },
     "execution_count": 12,
     "metadata": {},
     "output_type": "execute_result"
    }
   ],
   "source": [
    "replace!(schools.Decile, \"99\" => \"NA\")"
   ]
  },
  {
   "cell_type": "markdown",
   "id": "6869aa77",
   "metadata": {},
   "source": [
    "***\n",
    "*Save to Local as schools.csv*"
   ]
  },
  {
   "cell_type": "code",
   "execution_count": 14,
   "id": "be386b3c",
   "metadata": {},
   "outputs": [
    {
     "data": {
      "text/plain": [
       "\"C:\\\\Users\\\\coach\\\\OneDrive - University of Canterbury\\\\MADS\\\\DATA422 Group Project files\\\\School dataset\\\\schools.csv\""
      ]
     },
     "execution_count": 14,
     "metadata": {},
     "output_type": "execute_result"
    }
   ],
   "source": [
    "CSV.write(\"C:\\\\Users\\\\coach\\\\OneDrive - University of Canterbury\\\\MADS\\\\DATA422 Group Project files\\\\School dataset\\\\schools.csv\", schools)"
   ]
  }
 ],
 "metadata": {
  "kernelspec": {
   "display_name": "Julia 1.6.2",
   "language": "julia",
   "name": "julia-1.6"
  },
  "language_info": {
   "file_extension": ".jl",
   "mimetype": "application/julia",
   "name": "julia",
   "version": "1.6.2"
  }
 },
 "nbformat": 4,
 "nbformat_minor": 5
}

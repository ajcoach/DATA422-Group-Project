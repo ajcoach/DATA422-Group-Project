{
 "cells": [
  {
   "cell_type": "markdown",
   "metadata": {},
   "source": [
    "# Crime_Suburbs_R"
   ]
  },
  {
   "cell_type": "markdown",
   "metadata": {},
   "source": [
    "## Note: Must run Suburbs_Julia code first before running this jupyter notebook, otherwise this notebook will not run."
   ]
  },
  {
   "cell_type": "markdown",
   "metadata": {},
   "source": [
    "Import libraries"
   ]
  },
  {
   "cell_type": "code",
   "execution_count": 1,
   "metadata": {},
   "outputs": [
    {
     "name": "stderr",
     "output_type": "stream",
     "text": [
      "Warning message:\n",
      "\"package 'tidyverse' was built under R version 4.0.5\"\n",
      "-- \u001b[1mAttaching packages\u001b[22m ------------------------------------------------------------------------------- tidyverse 1.3.1 --\n",
      "\n",
      "\u001b[32mv\u001b[39m \u001b[34mggplot2\u001b[39m 3.3.5     \u001b[32mv\u001b[39m \u001b[34mpurrr  \u001b[39m 0.3.4\n",
      "\u001b[32mv\u001b[39m \u001b[34mtibble \u001b[39m 3.1.0     \u001b[32mv\u001b[39m \u001b[34mdplyr  \u001b[39m 1.0.5\n",
      "\u001b[32mv\u001b[39m \u001b[34mtidyr  \u001b[39m 1.1.3     \u001b[32mv\u001b[39m \u001b[34mstringr\u001b[39m 1.4.0\n",
      "\u001b[32mv\u001b[39m \u001b[34mreadr  \u001b[39m 1.4.0     \u001b[32mv\u001b[39m \u001b[34mforcats\u001b[39m 0.5.1\n",
      "\n",
      "Warning message:\n",
      "\"package 'ggplot2' was built under R version 4.0.5\"\n",
      "-- \u001b[1mConflicts\u001b[22m ---------------------------------------------------------------------------------- tidyverse_conflicts() --\n",
      "\u001b[31mx\u001b[39m \u001b[34mdplyr\u001b[39m::\u001b[32mfilter()\u001b[39m masks \u001b[34mstats\u001b[39m::filter()\n",
      "\u001b[31mx\u001b[39m \u001b[34mdplyr\u001b[39m::\u001b[32mlag()\u001b[39m    masks \u001b[34mstats\u001b[39m::lag()\n",
      "\n",
      "Warning message:\n",
      "\"package 'visdat' was built under R version 4.0.5\"\n",
      "Warning message:\n",
      "\"package 'skimr' was built under R version 4.0.5\"\n"
     ]
    }
   ],
   "source": [
    "library(tidyverse)\n",
    "library(visdat)\n",
    "library(skimr)"
   ]
  },
  {
   "cell_type": "markdown",
   "metadata": {},
   "source": [
    "Read the Victimisation Time and Place dataset csv file \"VICTIM_TIMEPLACE_Migrated_Data_new.csv\" as a tibble and name the tibble \"victim_timeplace\"."
   ]
  },
  {
   "cell_type": "code",
   "execution_count": 2,
   "metadata": {},
   "outputs": [
    {
     "name": "stderr",
     "output_type": "stream",
     "text": [
      "\n",
      "\u001b[36m--\u001b[39m \u001b[1m\u001b[1mColumn specification\u001b[1m\u001b[22m \u001b[36m------------------------------------------------------------------------------------------------\u001b[39m\n",
      "cols(\n",
      "  `Month Year` = \u001b[31mcol_character()\u001b[39m,\n",
      "  `ANZSOC Division` = \u001b[31mcol_character()\u001b[39m,\n",
      "  `ANZSOC Group` = \u001b[31mcol_character()\u001b[39m,\n",
      "  `ANZSOC Subdivision` = \u001b[31mcol_character()\u001b[39m,\n",
      "  `Area Unit` = \u001b[31mcol_character()\u001b[39m,\n",
      "  `Location Type` = \u001b[31mcol_character()\u001b[39m,\n",
      "  `Locn Type Division` = \u001b[31mcol_character()\u001b[39m,\n",
      "  Meshblock = \u001b[32mcol_double()\u001b[39m,\n",
      "  `Occurrence Day Of Week` = \u001b[31mcol_character()\u001b[39m,\n",
      "  `Occurrence Hour Of Day` = \u001b[32mcol_double()\u001b[39m,\n",
      "  `Table 1` = \u001b[31mcol_character()\u001b[39m,\n",
      "  `Territorial Authority` = \u001b[31mcol_character()\u001b[39m,\n",
      "  Weapon = \u001b[31mcol_character()\u001b[39m,\n",
      "  `Year Month` = \u001b[31mcol_character()\u001b[39m,\n",
      "  `Year Month (copy 2)` = \u001b[31mcol_character()\u001b[39m,\n",
      "  `Number of Records` = \u001b[32mcol_double()\u001b[39m,\n",
      "  Victimisations = \u001b[32mcol_double()\u001b[39m\n",
      ")\n",
      "\n",
      "\n"
     ]
    }
   ],
   "source": [
    "victim_timeplace <- read_csv(file = \"VICTIM_TIMEPLACE_Migrated_Data_new.csv\")"
   ]
  },
  {
   "cell_type": "markdown",
   "metadata": {},
   "source": [
    "Look at first few rows of victim_timeplace tibble."
   ]
  },
  {
   "cell_type": "code",
   "execution_count": 3,
   "metadata": {},
   "outputs": [
    {
     "data": {
      "text/html": [
       "<table class=\"dataframe\">\n",
       "<caption>A tibble: 6 × 17</caption>\n",
       "<thead>\n",
       "\t<tr><th scope=col>Month Year</th><th scope=col>ANZSOC Division</th><th scope=col>ANZSOC Group</th><th scope=col>ANZSOC Subdivision</th><th scope=col>Area Unit</th><th scope=col>Location Type</th><th scope=col>Locn Type Division</th><th scope=col>Meshblock</th><th scope=col>Occurrence Day Of Week</th><th scope=col>Occurrence Hour Of Day</th><th scope=col>Table 1</th><th scope=col>Territorial Authority</th><th scope=col>Weapon</th><th scope=col>Year Month</th><th scope=col>Year Month (copy 2)</th><th scope=col>Number of Records</th><th scope=col>Victimisations</th></tr>\n",
       "\t<tr><th scope=col>&lt;chr&gt;</th><th scope=col>&lt;chr&gt;</th><th scope=col>&lt;chr&gt;</th><th scope=col>&lt;chr&gt;</th><th scope=col>&lt;chr&gt;</th><th scope=col>&lt;chr&gt;</th><th scope=col>&lt;chr&gt;</th><th scope=col>&lt;dbl&gt;</th><th scope=col>&lt;chr&gt;</th><th scope=col>&lt;dbl&gt;</th><th scope=col>&lt;chr&gt;</th><th scope=col>&lt;chr&gt;</th><th scope=col>&lt;chr&gt;</th><th scope=col>&lt;chr&gt;</th><th scope=col>&lt;chr&gt;</th><th scope=col>&lt;dbl&gt;</th><th scope=col>&lt;dbl&gt;</th></tr>\n",
       "</thead>\n",
       "<tbody>\n",
       "\t<tr><td>September 2020</td><td>Theft and Related Offences</td><td>Theft of Motor Vehicle Parts or Contents</td><td>Motor Vehicle Theft and Related Offences</td><td>Ellerslie South.    </td><td>.</td><td>Community Location</td><td>612300</td><td>Friday</td><td>99</td><td>1 Victimisation Time and Place</td><td>Auckland.</td><td>Not Applicable</td><td>September 2020</td><td>September 2020</td><td>1</td><td>1</td></tr>\n",
       "\t<tr><td>September 2020</td><td>Theft and Related Offences</td><td>Theft of Motor Vehicle Parts or Contents</td><td>Motor Vehicle Theft and Related Offences</td><td>Epsom Central.      </td><td>.</td><td>Community Location</td><td>445600</td><td>Friday</td><td>99</td><td>1 Victimisation Time and Place</td><td>Auckland.</td><td>Not Applicable</td><td>September 2020</td><td>September 2020</td><td>1</td><td>1</td></tr>\n",
       "\t<tr><td>September 2020</td><td>Theft and Related Offences</td><td>Theft of Motor Vehicle Parts or Contents</td><td>Motor Vehicle Theft and Related Offences</td><td>Glendowie.          </td><td>.</td><td>Community Location</td><td>513100</td><td>Friday</td><td>99</td><td>1 Victimisation Time and Place</td><td>Auckland.</td><td>Not Applicable</td><td>September 2020</td><td>September 2020</td><td>1</td><td>1</td></tr>\n",
       "\t<tr><td>September 2020</td><td>Theft and Related Offences</td><td>Theft of Motor Vehicle Parts or Contents</td><td>Motor Vehicle Theft and Related Offences</td><td>Lynnmall.           </td><td>.</td><td>Community Location</td><td>266300</td><td>Friday</td><td>99</td><td>1 Victimisation Time and Place</td><td>Auckland.</td><td>Not Applicable</td><td>September 2020</td><td>September 2020</td><td>1</td><td>1</td></tr>\n",
       "\t<tr><td>September 2020</td><td>Theft and Related Offences</td><td>Theft of Motor Vehicle Parts or Contents</td><td>Motor Vehicle Theft and Related Offences</td><td>Mt Victoria.        </td><td>.</td><td>Community Location</td><td>331200</td><td>Friday</td><td>99</td><td>1 Victimisation Time and Place</td><td>Auckland.</td><td>Not Applicable</td><td>September 2020</td><td>September 2020</td><td>1</td><td>1</td></tr>\n",
       "\t<tr><td>September 2020</td><td>Theft and Related Offences</td><td>Theft of Motor Vehicle Parts or Contents</td><td>Motor Vehicle Theft and Related Offences</td><td>Onehunga South East.</td><td>.</td><td>Community Location</td><td>602503</td><td>Friday</td><td>99</td><td>1 Victimisation Time and Place</td><td>Auckland.</td><td>Not Applicable</td><td>September 2020</td><td>September 2020</td><td>1</td><td>1</td></tr>\n",
       "</tbody>\n",
       "</table>\n"
      ],
      "text/latex": [
       "A tibble: 6 × 17\n",
       "\\begin{tabular}{lllllllllllllllll}\n",
       " Month Year & ANZSOC Division & ANZSOC Group & ANZSOC Subdivision & Area Unit & Location Type & Locn Type Division & Meshblock & Occurrence Day Of Week & Occurrence Hour Of Day & Table 1 & Territorial Authority & Weapon & Year Month & Year Month (copy 2) & Number of Records & Victimisations\\\\\n",
       " <chr> & <chr> & <chr> & <chr> & <chr> & <chr> & <chr> & <dbl> & <chr> & <dbl> & <chr> & <chr> & <chr> & <chr> & <chr> & <dbl> & <dbl>\\\\\n",
       "\\hline\n",
       "\t September 2020 & Theft and Related Offences & Theft of Motor Vehicle Parts or Contents & Motor Vehicle Theft and Related Offences & Ellerslie South.     & . & Community Location & 612300 & Friday & 99 & 1 Victimisation Time and Place & Auckland. & Not Applicable & September 2020 & September 2020 & 1 & 1\\\\\n",
       "\t September 2020 & Theft and Related Offences & Theft of Motor Vehicle Parts or Contents & Motor Vehicle Theft and Related Offences & Epsom Central.       & . & Community Location & 445600 & Friday & 99 & 1 Victimisation Time and Place & Auckland. & Not Applicable & September 2020 & September 2020 & 1 & 1\\\\\n",
       "\t September 2020 & Theft and Related Offences & Theft of Motor Vehicle Parts or Contents & Motor Vehicle Theft and Related Offences & Glendowie.           & . & Community Location & 513100 & Friday & 99 & 1 Victimisation Time and Place & Auckland. & Not Applicable & September 2020 & September 2020 & 1 & 1\\\\\n",
       "\t September 2020 & Theft and Related Offences & Theft of Motor Vehicle Parts or Contents & Motor Vehicle Theft and Related Offences & Lynnmall.            & . & Community Location & 266300 & Friday & 99 & 1 Victimisation Time and Place & Auckland. & Not Applicable & September 2020 & September 2020 & 1 & 1\\\\\n",
       "\t September 2020 & Theft and Related Offences & Theft of Motor Vehicle Parts or Contents & Motor Vehicle Theft and Related Offences & Mt Victoria.         & . & Community Location & 331200 & Friday & 99 & 1 Victimisation Time and Place & Auckland. & Not Applicable & September 2020 & September 2020 & 1 & 1\\\\\n",
       "\t September 2020 & Theft and Related Offences & Theft of Motor Vehicle Parts or Contents & Motor Vehicle Theft and Related Offences & Onehunga South East. & . & Community Location & 602503 & Friday & 99 & 1 Victimisation Time and Place & Auckland. & Not Applicable & September 2020 & September 2020 & 1 & 1\\\\\n",
       "\\end{tabular}\n"
      ],
      "text/markdown": [
       "\n",
       "A tibble: 6 × 17\n",
       "\n",
       "| Month Year &lt;chr&gt; | ANZSOC Division &lt;chr&gt; | ANZSOC Group &lt;chr&gt; | ANZSOC Subdivision &lt;chr&gt; | Area Unit &lt;chr&gt; | Location Type &lt;chr&gt; | Locn Type Division &lt;chr&gt; | Meshblock &lt;dbl&gt; | Occurrence Day Of Week &lt;chr&gt; | Occurrence Hour Of Day &lt;dbl&gt; | Table 1 &lt;chr&gt; | Territorial Authority &lt;chr&gt; | Weapon &lt;chr&gt; | Year Month &lt;chr&gt; | Year Month (copy 2) &lt;chr&gt; | Number of Records &lt;dbl&gt; | Victimisations &lt;dbl&gt; |\n",
       "|---|---|---|---|---|---|---|---|---|---|---|---|---|---|---|---|---|\n",
       "| September 2020 | Theft and Related Offences | Theft of Motor Vehicle Parts or Contents | Motor Vehicle Theft and Related Offences | Ellerslie South.     | . | Community Location | 612300 | Friday | 99 | 1 Victimisation Time and Place | Auckland. | Not Applicable | September 2020 | September 2020 | 1 | 1 |\n",
       "| September 2020 | Theft and Related Offences | Theft of Motor Vehicle Parts or Contents | Motor Vehicle Theft and Related Offences | Epsom Central.       | . | Community Location | 445600 | Friday | 99 | 1 Victimisation Time and Place | Auckland. | Not Applicable | September 2020 | September 2020 | 1 | 1 |\n",
       "| September 2020 | Theft and Related Offences | Theft of Motor Vehicle Parts or Contents | Motor Vehicle Theft and Related Offences | Glendowie.           | . | Community Location | 513100 | Friday | 99 | 1 Victimisation Time and Place | Auckland. | Not Applicable | September 2020 | September 2020 | 1 | 1 |\n",
       "| September 2020 | Theft and Related Offences | Theft of Motor Vehicle Parts or Contents | Motor Vehicle Theft and Related Offences | Lynnmall.            | . | Community Location | 266300 | Friday | 99 | 1 Victimisation Time and Place | Auckland. | Not Applicable | September 2020 | September 2020 | 1 | 1 |\n",
       "| September 2020 | Theft and Related Offences | Theft of Motor Vehicle Parts or Contents | Motor Vehicle Theft and Related Offences | Mt Victoria.         | . | Community Location | 331200 | Friday | 99 | 1 Victimisation Time and Place | Auckland. | Not Applicable | September 2020 | September 2020 | 1 | 1 |\n",
       "| September 2020 | Theft and Related Offences | Theft of Motor Vehicle Parts or Contents | Motor Vehicle Theft and Related Offences | Onehunga South East. | . | Community Location | 602503 | Friday | 99 | 1 Victimisation Time and Place | Auckland. | Not Applicable | September 2020 | September 2020 | 1 | 1 |\n",
       "\n"
      ],
      "text/plain": [
       "  Month Year     ANZSOC Division           \n",
       "1 September 2020 Theft and Related Offences\n",
       "2 September 2020 Theft and Related Offences\n",
       "3 September 2020 Theft and Related Offences\n",
       "4 September 2020 Theft and Related Offences\n",
       "5 September 2020 Theft and Related Offences\n",
       "6 September 2020 Theft and Related Offences\n",
       "  ANZSOC Group                            \n",
       "1 Theft of Motor Vehicle Parts or Contents\n",
       "2 Theft of Motor Vehicle Parts or Contents\n",
       "3 Theft of Motor Vehicle Parts or Contents\n",
       "4 Theft of Motor Vehicle Parts or Contents\n",
       "5 Theft of Motor Vehicle Parts or Contents\n",
       "6 Theft of Motor Vehicle Parts or Contents\n",
       "  ANZSOC Subdivision                       Area Unit            Location Type\n",
       "1 Motor Vehicle Theft and Related Offences Ellerslie South.     .            \n",
       "2 Motor Vehicle Theft and Related Offences Epsom Central.       .            \n",
       "3 Motor Vehicle Theft and Related Offences Glendowie.           .            \n",
       "4 Motor Vehicle Theft and Related Offences Lynnmall.            .            \n",
       "5 Motor Vehicle Theft and Related Offences Mt Victoria.         .            \n",
       "6 Motor Vehicle Theft and Related Offences Onehunga South East. .            \n",
       "  Locn Type Division Meshblock Occurrence Day Of Week Occurrence Hour Of Day\n",
       "1 Community Location 612300    Friday                 99                    \n",
       "2 Community Location 445600    Friday                 99                    \n",
       "3 Community Location 513100    Friday                 99                    \n",
       "4 Community Location 266300    Friday                 99                    \n",
       "5 Community Location 331200    Friday                 99                    \n",
       "6 Community Location 602503    Friday                 99                    \n",
       "  Table 1                        Territorial Authority Weapon        \n",
       "1 1 Victimisation Time and Place Auckland.             Not Applicable\n",
       "2 1 Victimisation Time and Place Auckland.             Not Applicable\n",
       "3 1 Victimisation Time and Place Auckland.             Not Applicable\n",
       "4 1 Victimisation Time and Place Auckland.             Not Applicable\n",
       "5 1 Victimisation Time and Place Auckland.             Not Applicable\n",
       "6 1 Victimisation Time and Place Auckland.             Not Applicable\n",
       "  Year Month     Year Month (copy 2) Number of Records Victimisations\n",
       "1 September 2020 September 2020      1                 1             \n",
       "2 September 2020 September 2020      1                 1             \n",
       "3 September 2020 September 2020      1                 1             \n",
       "4 September 2020 September 2020      1                 1             \n",
       "5 September 2020 September 2020      1                 1             \n",
       "6 September 2020 September 2020      1                 1             "
      ]
     },
     "metadata": {},
     "output_type": "display_data"
    }
   ],
   "source": [
    "head(victim_timeplace)"
   ]
  },
  {
   "cell_type": "markdown",
   "metadata": {},
   "source": [
    "Makes a copy of the original victim_timeplace dataframe called \"victim_timeplace_modified\"."
   ]
  },
  {
   "cell_type": "code",
   "execution_count": 4,
   "metadata": {},
   "outputs": [],
   "source": [
    "victim_timeplace_modified <-data.frame(victim_timeplace)"
   ]
  },
  {
   "cell_type": "markdown",
   "metadata": {},
   "source": [
    "Use the filter function to select only terrortories and districts in Canterbury from the victim_timeplace_modified tibble. Looks at first few rows of victim_timeplace_modified tibble to check this was done correctly."
   ]
  },
  {
   "cell_type": "code",
   "execution_count": 5,
   "metadata": {},
   "outputs": [
    {
     "data": {
      "text/html": [
       "<table class=\"dataframe\">\n",
       "<caption>A data.frame: 6 × 17</caption>\n",
       "<thead>\n",
       "\t<tr><th></th><th scope=col>Month.Year</th><th scope=col>ANZSOC.Division</th><th scope=col>ANZSOC.Group</th><th scope=col>ANZSOC.Subdivision</th><th scope=col>Area.Unit</th><th scope=col>Location.Type</th><th scope=col>Locn.Type.Division</th><th scope=col>Meshblock</th><th scope=col>Occurrence.Day.Of.Week</th><th scope=col>Occurrence.Hour.Of.Day</th><th scope=col>Table.1</th><th scope=col>Territorial.Authority</th><th scope=col>Weapon</th><th scope=col>Year.Month</th><th scope=col>Year.Month..copy.2.</th><th scope=col>Number.of.Records</th><th scope=col>Victimisations</th></tr>\n",
       "\t<tr><th></th><th scope=col>&lt;chr&gt;</th><th scope=col>&lt;chr&gt;</th><th scope=col>&lt;chr&gt;</th><th scope=col>&lt;chr&gt;</th><th scope=col>&lt;chr&gt;</th><th scope=col>&lt;chr&gt;</th><th scope=col>&lt;chr&gt;</th><th scope=col>&lt;dbl&gt;</th><th scope=col>&lt;chr&gt;</th><th scope=col>&lt;dbl&gt;</th><th scope=col>&lt;chr&gt;</th><th scope=col>&lt;chr&gt;</th><th scope=col>&lt;chr&gt;</th><th scope=col>&lt;chr&gt;</th><th scope=col>&lt;chr&gt;</th><th scope=col>&lt;dbl&gt;</th><th scope=col>&lt;dbl&gt;</th></tr>\n",
       "</thead>\n",
       "<tbody>\n",
       "\t<tr><th scope=row>1</th><td>September 2020</td><td>Theft and Related Offences</td><td>Theft of Motor Vehicle Parts or Contents</td><td>Motor Vehicle Theft and Related Offences</td><td>Sockburn.  </td><td>.</td><td>Community Location</td><td>2478402</td><td>Friday</td><td>99</td><td>1 Victimisation Time and Place</td><td>Christchurch City.</td><td>Not Applicable</td><td>September 2020</td><td>September 2020</td><td>1</td><td>1</td></tr>\n",
       "\t<tr><th scope=row>2</th><td>September 2020</td><td>Theft and Related Offences</td><td>Theft of Motor Vehicle Parts or Contents</td><td>Motor Vehicle Theft and Related Offences</td><td>Hillmorton.</td><td>.</td><td>Community Location</td><td>2631200</td><td>Friday</td><td>99</td><td>1 Victimisation Time and Place</td><td>Christchurch City.</td><td>Not Applicable</td><td>September 2020</td><td>September 2020</td><td>1</td><td>2</td></tr>\n",
       "\t<tr><th scope=row>3</th><td>September 2020</td><td>Theft and Related Offences</td><td>Theft of Motor Vehicle Parts or Contents</td><td>Motor Vehicle Theft and Related Offences</td><td>Rutland.   </td><td>.</td><td>Community Location</td><td>2684300</td><td>Friday</td><td>99</td><td>1 Victimisation Time and Place</td><td>Christchurch City.</td><td>Not Applicable</td><td>September 2020</td><td>September 2020</td><td>1</td><td>2</td></tr>\n",
       "\t<tr><th scope=row>4</th><td>September 2020</td><td>Theft and Related Offences</td><td>Theft (Except Motor Vehicles), N.E.C.   </td><td>Theft (Except Motor Vehicles)           </td><td>Northcote. </td><td>.</td><td>Community Location</td><td>2665000</td><td>Friday</td><td>11</td><td>1 Victimisation Time and Place</td><td>Christchurch City.</td><td>Not Applicable</td><td>September 2020</td><td>September 2020</td><td>1</td><td>1</td></tr>\n",
       "\t<tr><th scope=row>5</th><td>September 2020</td><td>Theft and Related Offences</td><td>Theft (Except Motor Vehicles), N.E.C.   </td><td>Theft (Except Motor Vehicles)           </td><td>Avon Loop. </td><td>.</td><td>Community Location</td><td>2656500</td><td>Friday</td><td>13</td><td>1 Victimisation Time and Place</td><td>Christchurch City.</td><td>Not Applicable</td><td>September 2020</td><td>September 2020</td><td>1</td><td>1</td></tr>\n",
       "\t<tr><th scope=row>6</th><td>September 2020</td><td>Theft and Related Offences</td><td>Theft (Except Motor Vehicles), N.E.C.   </td><td>Theft (Except Motor Vehicles)           </td><td>Mona Vale. </td><td>.</td><td>Community Location</td><td>2474400</td><td>Friday</td><td>17</td><td>1 Victimisation Time and Place</td><td>Christchurch City.</td><td>Not Applicable</td><td>September 2020</td><td>September 2020</td><td>1</td><td>1</td></tr>\n",
       "</tbody>\n",
       "</table>\n"
      ],
      "text/latex": [
       "A data.frame: 6 × 17\n",
       "\\begin{tabular}{r|lllllllllllllllll}\n",
       "  & Month.Year & ANZSOC.Division & ANZSOC.Group & ANZSOC.Subdivision & Area.Unit & Location.Type & Locn.Type.Division & Meshblock & Occurrence.Day.Of.Week & Occurrence.Hour.Of.Day & Table.1 & Territorial.Authority & Weapon & Year.Month & Year.Month..copy.2. & Number.of.Records & Victimisations\\\\\n",
       "  & <chr> & <chr> & <chr> & <chr> & <chr> & <chr> & <chr> & <dbl> & <chr> & <dbl> & <chr> & <chr> & <chr> & <chr> & <chr> & <dbl> & <dbl>\\\\\n",
       "\\hline\n",
       "\t1 & September 2020 & Theft and Related Offences & Theft of Motor Vehicle Parts or Contents & Motor Vehicle Theft and Related Offences & Sockburn.   & . & Community Location & 2478402 & Friday & 99 & 1 Victimisation Time and Place & Christchurch City. & Not Applicable & September 2020 & September 2020 & 1 & 1\\\\\n",
       "\t2 & September 2020 & Theft and Related Offences & Theft of Motor Vehicle Parts or Contents & Motor Vehicle Theft and Related Offences & Hillmorton. & . & Community Location & 2631200 & Friday & 99 & 1 Victimisation Time and Place & Christchurch City. & Not Applicable & September 2020 & September 2020 & 1 & 2\\\\\n",
       "\t3 & September 2020 & Theft and Related Offences & Theft of Motor Vehicle Parts or Contents & Motor Vehicle Theft and Related Offences & Rutland.    & . & Community Location & 2684300 & Friday & 99 & 1 Victimisation Time and Place & Christchurch City. & Not Applicable & September 2020 & September 2020 & 1 & 2\\\\\n",
       "\t4 & September 2020 & Theft and Related Offences & Theft (Except Motor Vehicles), N.E.C.    & Theft (Except Motor Vehicles)            & Northcote.  & . & Community Location & 2665000 & Friday & 11 & 1 Victimisation Time and Place & Christchurch City. & Not Applicable & September 2020 & September 2020 & 1 & 1\\\\\n",
       "\t5 & September 2020 & Theft and Related Offences & Theft (Except Motor Vehicles), N.E.C.    & Theft (Except Motor Vehicles)            & Avon Loop.  & . & Community Location & 2656500 & Friday & 13 & 1 Victimisation Time and Place & Christchurch City. & Not Applicable & September 2020 & September 2020 & 1 & 1\\\\\n",
       "\t6 & September 2020 & Theft and Related Offences & Theft (Except Motor Vehicles), N.E.C.    & Theft (Except Motor Vehicles)            & Mona Vale.  & . & Community Location & 2474400 & Friday & 17 & 1 Victimisation Time and Place & Christchurch City. & Not Applicable & September 2020 & September 2020 & 1 & 1\\\\\n",
       "\\end{tabular}\n"
      ],
      "text/markdown": [
       "\n",
       "A data.frame: 6 × 17\n",
       "\n",
       "| <!--/--> | Month.Year &lt;chr&gt; | ANZSOC.Division &lt;chr&gt; | ANZSOC.Group &lt;chr&gt; | ANZSOC.Subdivision &lt;chr&gt; | Area.Unit &lt;chr&gt; | Location.Type &lt;chr&gt; | Locn.Type.Division &lt;chr&gt; | Meshblock &lt;dbl&gt; | Occurrence.Day.Of.Week &lt;chr&gt; | Occurrence.Hour.Of.Day &lt;dbl&gt; | Table.1 &lt;chr&gt; | Territorial.Authority &lt;chr&gt; | Weapon &lt;chr&gt; | Year.Month &lt;chr&gt; | Year.Month..copy.2. &lt;chr&gt; | Number.of.Records &lt;dbl&gt; | Victimisations &lt;dbl&gt; |\n",
       "|---|---|---|---|---|---|---|---|---|---|---|---|---|---|---|---|---|---|\n",
       "| 1 | September 2020 | Theft and Related Offences | Theft of Motor Vehicle Parts or Contents | Motor Vehicle Theft and Related Offences | Sockburn.   | . | Community Location | 2478402 | Friday | 99 | 1 Victimisation Time and Place | Christchurch City. | Not Applicable | September 2020 | September 2020 | 1 | 1 |\n",
       "| 2 | September 2020 | Theft and Related Offences | Theft of Motor Vehicle Parts or Contents | Motor Vehicle Theft and Related Offences | Hillmorton. | . | Community Location | 2631200 | Friday | 99 | 1 Victimisation Time and Place | Christchurch City. | Not Applicable | September 2020 | September 2020 | 1 | 2 |\n",
       "| 3 | September 2020 | Theft and Related Offences | Theft of Motor Vehicle Parts or Contents | Motor Vehicle Theft and Related Offences | Rutland.    | . | Community Location | 2684300 | Friday | 99 | 1 Victimisation Time and Place | Christchurch City. | Not Applicable | September 2020 | September 2020 | 1 | 2 |\n",
       "| 4 | September 2020 | Theft and Related Offences | Theft (Except Motor Vehicles), N.E.C.    | Theft (Except Motor Vehicles)            | Northcote.  | . | Community Location | 2665000 | Friday | 11 | 1 Victimisation Time and Place | Christchurch City. | Not Applicable | September 2020 | September 2020 | 1 | 1 |\n",
       "| 5 | September 2020 | Theft and Related Offences | Theft (Except Motor Vehicles), N.E.C.    | Theft (Except Motor Vehicles)            | Avon Loop.  | . | Community Location | 2656500 | Friday | 13 | 1 Victimisation Time and Place | Christchurch City. | Not Applicable | September 2020 | September 2020 | 1 | 1 |\n",
       "| 6 | September 2020 | Theft and Related Offences | Theft (Except Motor Vehicles), N.E.C.    | Theft (Except Motor Vehicles)            | Mona Vale.  | . | Community Location | 2474400 | Friday | 17 | 1 Victimisation Time and Place | Christchurch City. | Not Applicable | September 2020 | September 2020 | 1 | 1 |\n",
       "\n"
      ],
      "text/plain": [
       "  Month.Year     ANZSOC.Division           \n",
       "1 September 2020 Theft and Related Offences\n",
       "2 September 2020 Theft and Related Offences\n",
       "3 September 2020 Theft and Related Offences\n",
       "4 September 2020 Theft and Related Offences\n",
       "5 September 2020 Theft and Related Offences\n",
       "6 September 2020 Theft and Related Offences\n",
       "  ANZSOC.Group                            \n",
       "1 Theft of Motor Vehicle Parts or Contents\n",
       "2 Theft of Motor Vehicle Parts or Contents\n",
       "3 Theft of Motor Vehicle Parts or Contents\n",
       "4 Theft (Except Motor Vehicles), N.E.C.   \n",
       "5 Theft (Except Motor Vehicles), N.E.C.   \n",
       "6 Theft (Except Motor Vehicles), N.E.C.   \n",
       "  ANZSOC.Subdivision                       Area.Unit   Location.Type\n",
       "1 Motor Vehicle Theft and Related Offences Sockburn.   .            \n",
       "2 Motor Vehicle Theft and Related Offences Hillmorton. .            \n",
       "3 Motor Vehicle Theft and Related Offences Rutland.    .            \n",
       "4 Theft (Except Motor Vehicles)            Northcote.  .            \n",
       "5 Theft (Except Motor Vehicles)            Avon Loop.  .            \n",
       "6 Theft (Except Motor Vehicles)            Mona Vale.  .            \n",
       "  Locn.Type.Division Meshblock Occurrence.Day.Of.Week Occurrence.Hour.Of.Day\n",
       "1 Community Location 2478402   Friday                 99                    \n",
       "2 Community Location 2631200   Friday                 99                    \n",
       "3 Community Location 2684300   Friday                 99                    \n",
       "4 Community Location 2665000   Friday                 11                    \n",
       "5 Community Location 2656500   Friday                 13                    \n",
       "6 Community Location 2474400   Friday                 17                    \n",
       "  Table.1                        Territorial.Authority Weapon        \n",
       "1 1 Victimisation Time and Place Christchurch City.    Not Applicable\n",
       "2 1 Victimisation Time and Place Christchurch City.    Not Applicable\n",
       "3 1 Victimisation Time and Place Christchurch City.    Not Applicable\n",
       "4 1 Victimisation Time and Place Christchurch City.    Not Applicable\n",
       "5 1 Victimisation Time and Place Christchurch City.    Not Applicable\n",
       "6 1 Victimisation Time and Place Christchurch City.    Not Applicable\n",
       "  Year.Month     Year.Month..copy.2. Number.of.Records Victimisations\n",
       "1 September 2020 September 2020      1                 1             \n",
       "2 September 2020 September 2020      1                 2             \n",
       "3 September 2020 September 2020      1                 2             \n",
       "4 September 2020 September 2020      1                 1             \n",
       "5 September 2020 September 2020      1                 1             \n",
       "6 September 2020 September 2020      1                 1             "
      ]
     },
     "metadata": {},
     "output_type": "display_data"
    }
   ],
   "source": [
    "victim_timeplace_modified <- filter(victim_timeplace_modified, Territorial.Authority %in% c(\"Waimakariri District.\", \"Hurunui District.\", \"Waitaki District.\",\n",
    "                                                              \"Christchurch City.\", \"Ashburton District.\", \"Timaru District.\",\n",
    "                                                               \"Waimate District.\", \"Selwyn District.\", \"Mackenzie District.\",\n",
    "                                                               \"Kaikoura District.\"))\n",
    "head(victim_timeplace_modified)"
   ]
  },
  {
   "cell_type": "markdown",
   "metadata": {},
   "source": [
    "Rename \"Area.Unit\" as \"Suburb\" in the victim_timeplace_modified tibble. Looks at first few rows of victim_timeplace_modified tibble (using head function)."
   ]
  },
  {
   "cell_type": "code",
   "execution_count": 6,
   "metadata": {},
   "outputs": [
    {
     "data": {
      "text/html": [
       "<table class=\"dataframe\">\n",
       "<caption>A data.frame: 6 × 17</caption>\n",
       "<thead>\n",
       "\t<tr><th></th><th scope=col>Month.Year</th><th scope=col>ANZSOC.Division</th><th scope=col>ANZSOC.Group</th><th scope=col>ANZSOC.Subdivision</th><th scope=col>Suburb</th><th scope=col>Location.Type</th><th scope=col>Locn.Type.Division</th><th scope=col>Meshblock</th><th scope=col>Occurrence.Day.Of.Week</th><th scope=col>Occurrence.Hour.Of.Day</th><th scope=col>Table.1</th><th scope=col>Territorial.Authority</th><th scope=col>Weapon</th><th scope=col>Year.Month</th><th scope=col>Year.Month..copy.2.</th><th scope=col>Number.of.Records</th><th scope=col>Victimisations</th></tr>\n",
       "\t<tr><th></th><th scope=col>&lt;chr&gt;</th><th scope=col>&lt;chr&gt;</th><th scope=col>&lt;chr&gt;</th><th scope=col>&lt;chr&gt;</th><th scope=col>&lt;chr&gt;</th><th scope=col>&lt;chr&gt;</th><th scope=col>&lt;chr&gt;</th><th scope=col>&lt;dbl&gt;</th><th scope=col>&lt;chr&gt;</th><th scope=col>&lt;dbl&gt;</th><th scope=col>&lt;chr&gt;</th><th scope=col>&lt;chr&gt;</th><th scope=col>&lt;chr&gt;</th><th scope=col>&lt;chr&gt;</th><th scope=col>&lt;chr&gt;</th><th scope=col>&lt;dbl&gt;</th><th scope=col>&lt;dbl&gt;</th></tr>\n",
       "</thead>\n",
       "<tbody>\n",
       "\t<tr><th scope=row>1</th><td>September 2020</td><td>Theft and Related Offences</td><td>Theft of Motor Vehicle Parts or Contents</td><td>Motor Vehicle Theft and Related Offences</td><td>Sockburn.  </td><td>.</td><td>Community Location</td><td>2478402</td><td>Friday</td><td>99</td><td>1 Victimisation Time and Place</td><td>Christchurch City.</td><td>Not Applicable</td><td>September 2020</td><td>September 2020</td><td>1</td><td>1</td></tr>\n",
       "\t<tr><th scope=row>2</th><td>September 2020</td><td>Theft and Related Offences</td><td>Theft of Motor Vehicle Parts or Contents</td><td>Motor Vehicle Theft and Related Offences</td><td>Hillmorton.</td><td>.</td><td>Community Location</td><td>2631200</td><td>Friday</td><td>99</td><td>1 Victimisation Time and Place</td><td>Christchurch City.</td><td>Not Applicable</td><td>September 2020</td><td>September 2020</td><td>1</td><td>2</td></tr>\n",
       "\t<tr><th scope=row>3</th><td>September 2020</td><td>Theft and Related Offences</td><td>Theft of Motor Vehicle Parts or Contents</td><td>Motor Vehicle Theft and Related Offences</td><td>Rutland.   </td><td>.</td><td>Community Location</td><td>2684300</td><td>Friday</td><td>99</td><td>1 Victimisation Time and Place</td><td>Christchurch City.</td><td>Not Applicable</td><td>September 2020</td><td>September 2020</td><td>1</td><td>2</td></tr>\n",
       "\t<tr><th scope=row>4</th><td>September 2020</td><td>Theft and Related Offences</td><td>Theft (Except Motor Vehicles), N.E.C.   </td><td>Theft (Except Motor Vehicles)           </td><td>Northcote. </td><td>.</td><td>Community Location</td><td>2665000</td><td>Friday</td><td>11</td><td>1 Victimisation Time and Place</td><td>Christchurch City.</td><td>Not Applicable</td><td>September 2020</td><td>September 2020</td><td>1</td><td>1</td></tr>\n",
       "\t<tr><th scope=row>5</th><td>September 2020</td><td>Theft and Related Offences</td><td>Theft (Except Motor Vehicles), N.E.C.   </td><td>Theft (Except Motor Vehicles)           </td><td>Avon Loop. </td><td>.</td><td>Community Location</td><td>2656500</td><td>Friday</td><td>13</td><td>1 Victimisation Time and Place</td><td>Christchurch City.</td><td>Not Applicable</td><td>September 2020</td><td>September 2020</td><td>1</td><td>1</td></tr>\n",
       "\t<tr><th scope=row>6</th><td>September 2020</td><td>Theft and Related Offences</td><td>Theft (Except Motor Vehicles), N.E.C.   </td><td>Theft (Except Motor Vehicles)           </td><td>Mona Vale. </td><td>.</td><td>Community Location</td><td>2474400</td><td>Friday</td><td>17</td><td>1 Victimisation Time and Place</td><td>Christchurch City.</td><td>Not Applicable</td><td>September 2020</td><td>September 2020</td><td>1</td><td>1</td></tr>\n",
       "</tbody>\n",
       "</table>\n"
      ],
      "text/latex": [
       "A data.frame: 6 × 17\n",
       "\\begin{tabular}{r|lllllllllllllllll}\n",
       "  & Month.Year & ANZSOC.Division & ANZSOC.Group & ANZSOC.Subdivision & Suburb & Location.Type & Locn.Type.Division & Meshblock & Occurrence.Day.Of.Week & Occurrence.Hour.Of.Day & Table.1 & Territorial.Authority & Weapon & Year.Month & Year.Month..copy.2. & Number.of.Records & Victimisations\\\\\n",
       "  & <chr> & <chr> & <chr> & <chr> & <chr> & <chr> & <chr> & <dbl> & <chr> & <dbl> & <chr> & <chr> & <chr> & <chr> & <chr> & <dbl> & <dbl>\\\\\n",
       "\\hline\n",
       "\t1 & September 2020 & Theft and Related Offences & Theft of Motor Vehicle Parts or Contents & Motor Vehicle Theft and Related Offences & Sockburn.   & . & Community Location & 2478402 & Friday & 99 & 1 Victimisation Time and Place & Christchurch City. & Not Applicable & September 2020 & September 2020 & 1 & 1\\\\\n",
       "\t2 & September 2020 & Theft and Related Offences & Theft of Motor Vehicle Parts or Contents & Motor Vehicle Theft and Related Offences & Hillmorton. & . & Community Location & 2631200 & Friday & 99 & 1 Victimisation Time and Place & Christchurch City. & Not Applicable & September 2020 & September 2020 & 1 & 2\\\\\n",
       "\t3 & September 2020 & Theft and Related Offences & Theft of Motor Vehicle Parts or Contents & Motor Vehicle Theft and Related Offences & Rutland.    & . & Community Location & 2684300 & Friday & 99 & 1 Victimisation Time and Place & Christchurch City. & Not Applicable & September 2020 & September 2020 & 1 & 2\\\\\n",
       "\t4 & September 2020 & Theft and Related Offences & Theft (Except Motor Vehicles), N.E.C.    & Theft (Except Motor Vehicles)            & Northcote.  & . & Community Location & 2665000 & Friday & 11 & 1 Victimisation Time and Place & Christchurch City. & Not Applicable & September 2020 & September 2020 & 1 & 1\\\\\n",
       "\t5 & September 2020 & Theft and Related Offences & Theft (Except Motor Vehicles), N.E.C.    & Theft (Except Motor Vehicles)            & Avon Loop.  & . & Community Location & 2656500 & Friday & 13 & 1 Victimisation Time and Place & Christchurch City. & Not Applicable & September 2020 & September 2020 & 1 & 1\\\\\n",
       "\t6 & September 2020 & Theft and Related Offences & Theft (Except Motor Vehicles), N.E.C.    & Theft (Except Motor Vehicles)            & Mona Vale.  & . & Community Location & 2474400 & Friday & 17 & 1 Victimisation Time and Place & Christchurch City. & Not Applicable & September 2020 & September 2020 & 1 & 1\\\\\n",
       "\\end{tabular}\n"
      ],
      "text/markdown": [
       "\n",
       "A data.frame: 6 × 17\n",
       "\n",
       "| <!--/--> | Month.Year &lt;chr&gt; | ANZSOC.Division &lt;chr&gt; | ANZSOC.Group &lt;chr&gt; | ANZSOC.Subdivision &lt;chr&gt; | Suburb &lt;chr&gt; | Location.Type &lt;chr&gt; | Locn.Type.Division &lt;chr&gt; | Meshblock &lt;dbl&gt; | Occurrence.Day.Of.Week &lt;chr&gt; | Occurrence.Hour.Of.Day &lt;dbl&gt; | Table.1 &lt;chr&gt; | Territorial.Authority &lt;chr&gt; | Weapon &lt;chr&gt; | Year.Month &lt;chr&gt; | Year.Month..copy.2. &lt;chr&gt; | Number.of.Records &lt;dbl&gt; | Victimisations &lt;dbl&gt; |\n",
       "|---|---|---|---|---|---|---|---|---|---|---|---|---|---|---|---|---|---|\n",
       "| 1 | September 2020 | Theft and Related Offences | Theft of Motor Vehicle Parts or Contents | Motor Vehicle Theft and Related Offences | Sockburn.   | . | Community Location | 2478402 | Friday | 99 | 1 Victimisation Time and Place | Christchurch City. | Not Applicable | September 2020 | September 2020 | 1 | 1 |\n",
       "| 2 | September 2020 | Theft and Related Offences | Theft of Motor Vehicle Parts or Contents | Motor Vehicle Theft and Related Offences | Hillmorton. | . | Community Location | 2631200 | Friday | 99 | 1 Victimisation Time and Place | Christchurch City. | Not Applicable | September 2020 | September 2020 | 1 | 2 |\n",
       "| 3 | September 2020 | Theft and Related Offences | Theft of Motor Vehicle Parts or Contents | Motor Vehicle Theft and Related Offences | Rutland.    | . | Community Location | 2684300 | Friday | 99 | 1 Victimisation Time and Place | Christchurch City. | Not Applicable | September 2020 | September 2020 | 1 | 2 |\n",
       "| 4 | September 2020 | Theft and Related Offences | Theft (Except Motor Vehicles), N.E.C.    | Theft (Except Motor Vehicles)            | Northcote.  | . | Community Location | 2665000 | Friday | 11 | 1 Victimisation Time and Place | Christchurch City. | Not Applicable | September 2020 | September 2020 | 1 | 1 |\n",
       "| 5 | September 2020 | Theft and Related Offences | Theft (Except Motor Vehicles), N.E.C.    | Theft (Except Motor Vehicles)            | Avon Loop.  | . | Community Location | 2656500 | Friday | 13 | 1 Victimisation Time and Place | Christchurch City. | Not Applicable | September 2020 | September 2020 | 1 | 1 |\n",
       "| 6 | September 2020 | Theft and Related Offences | Theft (Except Motor Vehicles), N.E.C.    | Theft (Except Motor Vehicles)            | Mona Vale.  | . | Community Location | 2474400 | Friday | 17 | 1 Victimisation Time and Place | Christchurch City. | Not Applicable | September 2020 | September 2020 | 1 | 1 |\n",
       "\n"
      ],
      "text/plain": [
       "  Month.Year     ANZSOC.Division           \n",
       "1 September 2020 Theft and Related Offences\n",
       "2 September 2020 Theft and Related Offences\n",
       "3 September 2020 Theft and Related Offences\n",
       "4 September 2020 Theft and Related Offences\n",
       "5 September 2020 Theft and Related Offences\n",
       "6 September 2020 Theft and Related Offences\n",
       "  ANZSOC.Group                            \n",
       "1 Theft of Motor Vehicle Parts or Contents\n",
       "2 Theft of Motor Vehicle Parts or Contents\n",
       "3 Theft of Motor Vehicle Parts or Contents\n",
       "4 Theft (Except Motor Vehicles), N.E.C.   \n",
       "5 Theft (Except Motor Vehicles), N.E.C.   \n",
       "6 Theft (Except Motor Vehicles), N.E.C.   \n",
       "  ANZSOC.Subdivision                       Suburb      Location.Type\n",
       "1 Motor Vehicle Theft and Related Offences Sockburn.   .            \n",
       "2 Motor Vehicle Theft and Related Offences Hillmorton. .            \n",
       "3 Motor Vehicle Theft and Related Offences Rutland.    .            \n",
       "4 Theft (Except Motor Vehicles)            Northcote.  .            \n",
       "5 Theft (Except Motor Vehicles)            Avon Loop.  .            \n",
       "6 Theft (Except Motor Vehicles)            Mona Vale.  .            \n",
       "  Locn.Type.Division Meshblock Occurrence.Day.Of.Week Occurrence.Hour.Of.Day\n",
       "1 Community Location 2478402   Friday                 99                    \n",
       "2 Community Location 2631200   Friday                 99                    \n",
       "3 Community Location 2684300   Friday                 99                    \n",
       "4 Community Location 2665000   Friday                 11                    \n",
       "5 Community Location 2656500   Friday                 13                    \n",
       "6 Community Location 2474400   Friday                 17                    \n",
       "  Table.1                        Territorial.Authority Weapon        \n",
       "1 1 Victimisation Time and Place Christchurch City.    Not Applicable\n",
       "2 1 Victimisation Time and Place Christchurch City.    Not Applicable\n",
       "3 1 Victimisation Time and Place Christchurch City.    Not Applicable\n",
       "4 1 Victimisation Time and Place Christchurch City.    Not Applicable\n",
       "5 1 Victimisation Time and Place Christchurch City.    Not Applicable\n",
       "6 1 Victimisation Time and Place Christchurch City.    Not Applicable\n",
       "  Year.Month     Year.Month..copy.2. Number.of.Records Victimisations\n",
       "1 September 2020 September 2020      1                 1             \n",
       "2 September 2020 September 2020      1                 2             \n",
       "3 September 2020 September 2020      1                 2             \n",
       "4 September 2020 September 2020      1                 1             \n",
       "5 September 2020 September 2020      1                 1             \n",
       "6 September 2020 September 2020      1                 1             "
      ]
     },
     "metadata": {},
     "output_type": "display_data"
    }
   ],
   "source": [
    "victim_timeplace_modified <- rename(victim_timeplace_modified, Suburb = Area.Unit)\n",
    "head(victim_timeplace_modified)"
   ]
  },
  {
   "cell_type": "markdown",
   "metadata": {},
   "source": [
    "Remove all rows with missing suburbs \"999999\" in the victim_timeplace_modified tibble. Looks at first few rows of victim_timeplace_modified tibble."
   ]
  },
  {
   "cell_type": "code",
   "execution_count": 7,
   "metadata": {},
   "outputs": [
    {
     "data": {
      "text/html": [
       "<table class=\"dataframe\">\n",
       "<caption>A data.frame: 6 × 17</caption>\n",
       "<thead>\n",
       "\t<tr><th></th><th scope=col>Month.Year</th><th scope=col>ANZSOC.Division</th><th scope=col>ANZSOC.Group</th><th scope=col>ANZSOC.Subdivision</th><th scope=col>Suburb</th><th scope=col>Location.Type</th><th scope=col>Locn.Type.Division</th><th scope=col>Meshblock</th><th scope=col>Occurrence.Day.Of.Week</th><th scope=col>Occurrence.Hour.Of.Day</th><th scope=col>Table.1</th><th scope=col>Territorial.Authority</th><th scope=col>Weapon</th><th scope=col>Year.Month</th><th scope=col>Year.Month..copy.2.</th><th scope=col>Number.of.Records</th><th scope=col>Victimisations</th></tr>\n",
       "\t<tr><th></th><th scope=col>&lt;chr&gt;</th><th scope=col>&lt;chr&gt;</th><th scope=col>&lt;chr&gt;</th><th scope=col>&lt;chr&gt;</th><th scope=col>&lt;chr&gt;</th><th scope=col>&lt;chr&gt;</th><th scope=col>&lt;chr&gt;</th><th scope=col>&lt;dbl&gt;</th><th scope=col>&lt;chr&gt;</th><th scope=col>&lt;dbl&gt;</th><th scope=col>&lt;chr&gt;</th><th scope=col>&lt;chr&gt;</th><th scope=col>&lt;chr&gt;</th><th scope=col>&lt;chr&gt;</th><th scope=col>&lt;chr&gt;</th><th scope=col>&lt;dbl&gt;</th><th scope=col>&lt;dbl&gt;</th></tr>\n",
       "</thead>\n",
       "<tbody>\n",
       "\t<tr><th scope=row>1</th><td>September 2020</td><td>Theft and Related Offences</td><td>Theft of Motor Vehicle Parts or Contents</td><td>Motor Vehicle Theft and Related Offences</td><td>Sockburn.  </td><td>.</td><td>Community Location</td><td>2478402</td><td>Friday</td><td>99</td><td>1 Victimisation Time and Place</td><td>Christchurch City.</td><td>Not Applicable</td><td>September 2020</td><td>September 2020</td><td>1</td><td>1</td></tr>\n",
       "\t<tr><th scope=row>2</th><td>September 2020</td><td>Theft and Related Offences</td><td>Theft of Motor Vehicle Parts or Contents</td><td>Motor Vehicle Theft and Related Offences</td><td>Hillmorton.</td><td>.</td><td>Community Location</td><td>2631200</td><td>Friday</td><td>99</td><td>1 Victimisation Time and Place</td><td>Christchurch City.</td><td>Not Applicable</td><td>September 2020</td><td>September 2020</td><td>1</td><td>2</td></tr>\n",
       "\t<tr><th scope=row>3</th><td>September 2020</td><td>Theft and Related Offences</td><td>Theft of Motor Vehicle Parts or Contents</td><td>Motor Vehicle Theft and Related Offences</td><td>Rutland.   </td><td>.</td><td>Community Location</td><td>2684300</td><td>Friday</td><td>99</td><td>1 Victimisation Time and Place</td><td>Christchurch City.</td><td>Not Applicable</td><td>September 2020</td><td>September 2020</td><td>1</td><td>2</td></tr>\n",
       "\t<tr><th scope=row>4</th><td>September 2020</td><td>Theft and Related Offences</td><td>Theft (Except Motor Vehicles), N.E.C.   </td><td>Theft (Except Motor Vehicles)           </td><td>Northcote. </td><td>.</td><td>Community Location</td><td>2665000</td><td>Friday</td><td>11</td><td>1 Victimisation Time and Place</td><td>Christchurch City.</td><td>Not Applicable</td><td>September 2020</td><td>September 2020</td><td>1</td><td>1</td></tr>\n",
       "\t<tr><th scope=row>5</th><td>September 2020</td><td>Theft and Related Offences</td><td>Theft (Except Motor Vehicles), N.E.C.   </td><td>Theft (Except Motor Vehicles)           </td><td>Avon Loop. </td><td>.</td><td>Community Location</td><td>2656500</td><td>Friday</td><td>13</td><td>1 Victimisation Time and Place</td><td>Christchurch City.</td><td>Not Applicable</td><td>September 2020</td><td>September 2020</td><td>1</td><td>1</td></tr>\n",
       "\t<tr><th scope=row>6</th><td>September 2020</td><td>Theft and Related Offences</td><td>Theft (Except Motor Vehicles), N.E.C.   </td><td>Theft (Except Motor Vehicles)           </td><td>Mona Vale. </td><td>.</td><td>Community Location</td><td>2474400</td><td>Friday</td><td>17</td><td>1 Victimisation Time and Place</td><td>Christchurch City.</td><td>Not Applicable</td><td>September 2020</td><td>September 2020</td><td>1</td><td>1</td></tr>\n",
       "</tbody>\n",
       "</table>\n"
      ],
      "text/latex": [
       "A data.frame: 6 × 17\n",
       "\\begin{tabular}{r|lllllllllllllllll}\n",
       "  & Month.Year & ANZSOC.Division & ANZSOC.Group & ANZSOC.Subdivision & Suburb & Location.Type & Locn.Type.Division & Meshblock & Occurrence.Day.Of.Week & Occurrence.Hour.Of.Day & Table.1 & Territorial.Authority & Weapon & Year.Month & Year.Month..copy.2. & Number.of.Records & Victimisations\\\\\n",
       "  & <chr> & <chr> & <chr> & <chr> & <chr> & <chr> & <chr> & <dbl> & <chr> & <dbl> & <chr> & <chr> & <chr> & <chr> & <chr> & <dbl> & <dbl>\\\\\n",
       "\\hline\n",
       "\t1 & September 2020 & Theft and Related Offences & Theft of Motor Vehicle Parts or Contents & Motor Vehicle Theft and Related Offences & Sockburn.   & . & Community Location & 2478402 & Friday & 99 & 1 Victimisation Time and Place & Christchurch City. & Not Applicable & September 2020 & September 2020 & 1 & 1\\\\\n",
       "\t2 & September 2020 & Theft and Related Offences & Theft of Motor Vehicle Parts or Contents & Motor Vehicle Theft and Related Offences & Hillmorton. & . & Community Location & 2631200 & Friday & 99 & 1 Victimisation Time and Place & Christchurch City. & Not Applicable & September 2020 & September 2020 & 1 & 2\\\\\n",
       "\t3 & September 2020 & Theft and Related Offences & Theft of Motor Vehicle Parts or Contents & Motor Vehicle Theft and Related Offences & Rutland.    & . & Community Location & 2684300 & Friday & 99 & 1 Victimisation Time and Place & Christchurch City. & Not Applicable & September 2020 & September 2020 & 1 & 2\\\\\n",
       "\t4 & September 2020 & Theft and Related Offences & Theft (Except Motor Vehicles), N.E.C.    & Theft (Except Motor Vehicles)            & Northcote.  & . & Community Location & 2665000 & Friday & 11 & 1 Victimisation Time and Place & Christchurch City. & Not Applicable & September 2020 & September 2020 & 1 & 1\\\\\n",
       "\t5 & September 2020 & Theft and Related Offences & Theft (Except Motor Vehicles), N.E.C.    & Theft (Except Motor Vehicles)            & Avon Loop.  & . & Community Location & 2656500 & Friday & 13 & 1 Victimisation Time and Place & Christchurch City. & Not Applicable & September 2020 & September 2020 & 1 & 1\\\\\n",
       "\t6 & September 2020 & Theft and Related Offences & Theft (Except Motor Vehicles), N.E.C.    & Theft (Except Motor Vehicles)            & Mona Vale.  & . & Community Location & 2474400 & Friday & 17 & 1 Victimisation Time and Place & Christchurch City. & Not Applicable & September 2020 & September 2020 & 1 & 1\\\\\n",
       "\\end{tabular}\n"
      ],
      "text/markdown": [
       "\n",
       "A data.frame: 6 × 17\n",
       "\n",
       "| <!--/--> | Month.Year &lt;chr&gt; | ANZSOC.Division &lt;chr&gt; | ANZSOC.Group &lt;chr&gt; | ANZSOC.Subdivision &lt;chr&gt; | Suburb &lt;chr&gt; | Location.Type &lt;chr&gt; | Locn.Type.Division &lt;chr&gt; | Meshblock &lt;dbl&gt; | Occurrence.Day.Of.Week &lt;chr&gt; | Occurrence.Hour.Of.Day &lt;dbl&gt; | Table.1 &lt;chr&gt; | Territorial.Authority &lt;chr&gt; | Weapon &lt;chr&gt; | Year.Month &lt;chr&gt; | Year.Month..copy.2. &lt;chr&gt; | Number.of.Records &lt;dbl&gt; | Victimisations &lt;dbl&gt; |\n",
       "|---|---|---|---|---|---|---|---|---|---|---|---|---|---|---|---|---|---|\n",
       "| 1 | September 2020 | Theft and Related Offences | Theft of Motor Vehicle Parts or Contents | Motor Vehicle Theft and Related Offences | Sockburn.   | . | Community Location | 2478402 | Friday | 99 | 1 Victimisation Time and Place | Christchurch City. | Not Applicable | September 2020 | September 2020 | 1 | 1 |\n",
       "| 2 | September 2020 | Theft and Related Offences | Theft of Motor Vehicle Parts or Contents | Motor Vehicle Theft and Related Offences | Hillmorton. | . | Community Location | 2631200 | Friday | 99 | 1 Victimisation Time and Place | Christchurch City. | Not Applicable | September 2020 | September 2020 | 1 | 2 |\n",
       "| 3 | September 2020 | Theft and Related Offences | Theft of Motor Vehicle Parts or Contents | Motor Vehicle Theft and Related Offences | Rutland.    | . | Community Location | 2684300 | Friday | 99 | 1 Victimisation Time and Place | Christchurch City. | Not Applicable | September 2020 | September 2020 | 1 | 2 |\n",
       "| 4 | September 2020 | Theft and Related Offences | Theft (Except Motor Vehicles), N.E.C.    | Theft (Except Motor Vehicles)            | Northcote.  | . | Community Location | 2665000 | Friday | 11 | 1 Victimisation Time and Place | Christchurch City. | Not Applicable | September 2020 | September 2020 | 1 | 1 |\n",
       "| 5 | September 2020 | Theft and Related Offences | Theft (Except Motor Vehicles), N.E.C.    | Theft (Except Motor Vehicles)            | Avon Loop.  | . | Community Location | 2656500 | Friday | 13 | 1 Victimisation Time and Place | Christchurch City. | Not Applicable | September 2020 | September 2020 | 1 | 1 |\n",
       "| 6 | September 2020 | Theft and Related Offences | Theft (Except Motor Vehicles), N.E.C.    | Theft (Except Motor Vehicles)            | Mona Vale.  | . | Community Location | 2474400 | Friday | 17 | 1 Victimisation Time and Place | Christchurch City. | Not Applicable | September 2020 | September 2020 | 1 | 1 |\n",
       "\n"
      ],
      "text/plain": [
       "  Month.Year     ANZSOC.Division           \n",
       "1 September 2020 Theft and Related Offences\n",
       "2 September 2020 Theft and Related Offences\n",
       "3 September 2020 Theft and Related Offences\n",
       "4 September 2020 Theft and Related Offences\n",
       "5 September 2020 Theft and Related Offences\n",
       "6 September 2020 Theft and Related Offences\n",
       "  ANZSOC.Group                            \n",
       "1 Theft of Motor Vehicle Parts or Contents\n",
       "2 Theft of Motor Vehicle Parts or Contents\n",
       "3 Theft of Motor Vehicle Parts or Contents\n",
       "4 Theft (Except Motor Vehicles), N.E.C.   \n",
       "5 Theft (Except Motor Vehicles), N.E.C.   \n",
       "6 Theft (Except Motor Vehicles), N.E.C.   \n",
       "  ANZSOC.Subdivision                       Suburb      Location.Type\n",
       "1 Motor Vehicle Theft and Related Offences Sockburn.   .            \n",
       "2 Motor Vehicle Theft and Related Offences Hillmorton. .            \n",
       "3 Motor Vehicle Theft and Related Offences Rutland.    .            \n",
       "4 Theft (Except Motor Vehicles)            Northcote.  .            \n",
       "5 Theft (Except Motor Vehicles)            Avon Loop.  .            \n",
       "6 Theft (Except Motor Vehicles)            Mona Vale.  .            \n",
       "  Locn.Type.Division Meshblock Occurrence.Day.Of.Week Occurrence.Hour.Of.Day\n",
       "1 Community Location 2478402   Friday                 99                    \n",
       "2 Community Location 2631200   Friday                 99                    \n",
       "3 Community Location 2684300   Friday                 99                    \n",
       "4 Community Location 2665000   Friday                 11                    \n",
       "5 Community Location 2656500   Friday                 13                    \n",
       "6 Community Location 2474400   Friday                 17                    \n",
       "  Table.1                        Territorial.Authority Weapon        \n",
       "1 1 Victimisation Time and Place Christchurch City.    Not Applicable\n",
       "2 1 Victimisation Time and Place Christchurch City.    Not Applicable\n",
       "3 1 Victimisation Time and Place Christchurch City.    Not Applicable\n",
       "4 1 Victimisation Time and Place Christchurch City.    Not Applicable\n",
       "5 1 Victimisation Time and Place Christchurch City.    Not Applicable\n",
       "6 1 Victimisation Time and Place Christchurch City.    Not Applicable\n",
       "  Year.Month     Year.Month..copy.2. Number.of.Records Victimisations\n",
       "1 September 2020 September 2020      1                 1             \n",
       "2 September 2020 September 2020      1                 2             \n",
       "3 September 2020 September 2020      1                 2             \n",
       "4 September 2020 September 2020      1                 1             \n",
       "5 September 2020 September 2020      1                 1             \n",
       "6 September 2020 September 2020      1                 1             "
      ]
     },
     "metadata": {},
     "output_type": "display_data"
    }
   ],
   "source": [
    "victim_timeplace_modified <- subset(victim_timeplace_modified, Suburb != \"999999\")\n",
    "head(victim_timeplace_modified)"
   ]
  },
  {
   "cell_type": "markdown",
   "metadata": {},
   "source": [
    "Removes the last character of each value in the Suburb column (a full stop) in victim_timeplace_modified tibble. Looks at first few rows of victim_timeplace_modified tibble."
   ]
  },
  {
   "cell_type": "code",
   "execution_count": 8,
   "metadata": {},
   "outputs": [
    {
     "data": {
      "text/html": [
       "<table class=\"dataframe\">\n",
       "<caption>A data.frame: 6 × 17</caption>\n",
       "<thead>\n",
       "\t<tr><th></th><th scope=col>Month.Year</th><th scope=col>ANZSOC.Division</th><th scope=col>ANZSOC.Group</th><th scope=col>ANZSOC.Subdivision</th><th scope=col>Suburb</th><th scope=col>Location.Type</th><th scope=col>Locn.Type.Division</th><th scope=col>Meshblock</th><th scope=col>Occurrence.Day.Of.Week</th><th scope=col>Occurrence.Hour.Of.Day</th><th scope=col>Table.1</th><th scope=col>Territorial.Authority</th><th scope=col>Weapon</th><th scope=col>Year.Month</th><th scope=col>Year.Month..copy.2.</th><th scope=col>Number.of.Records</th><th scope=col>Victimisations</th></tr>\n",
       "\t<tr><th></th><th scope=col>&lt;chr&gt;</th><th scope=col>&lt;chr&gt;</th><th scope=col>&lt;chr&gt;</th><th scope=col>&lt;chr&gt;</th><th scope=col>&lt;chr&gt;</th><th scope=col>&lt;chr&gt;</th><th scope=col>&lt;chr&gt;</th><th scope=col>&lt;dbl&gt;</th><th scope=col>&lt;chr&gt;</th><th scope=col>&lt;dbl&gt;</th><th scope=col>&lt;chr&gt;</th><th scope=col>&lt;chr&gt;</th><th scope=col>&lt;chr&gt;</th><th scope=col>&lt;chr&gt;</th><th scope=col>&lt;chr&gt;</th><th scope=col>&lt;dbl&gt;</th><th scope=col>&lt;dbl&gt;</th></tr>\n",
       "</thead>\n",
       "<tbody>\n",
       "\t<tr><th scope=row>1</th><td>September 2020</td><td>Theft and Related Offences</td><td>Theft of Motor Vehicle Parts or Contents</td><td>Motor Vehicle Theft and Related Offences</td><td>Sockburn  </td><td>.</td><td>Community Location</td><td>2478402</td><td>Friday</td><td>99</td><td>1 Victimisation Time and Place</td><td>Christchurch City.</td><td>Not Applicable</td><td>September 2020</td><td>September 2020</td><td>1</td><td>1</td></tr>\n",
       "\t<tr><th scope=row>2</th><td>September 2020</td><td>Theft and Related Offences</td><td>Theft of Motor Vehicle Parts or Contents</td><td>Motor Vehicle Theft and Related Offences</td><td>Hillmorton</td><td>.</td><td>Community Location</td><td>2631200</td><td>Friday</td><td>99</td><td>1 Victimisation Time and Place</td><td>Christchurch City.</td><td>Not Applicable</td><td>September 2020</td><td>September 2020</td><td>1</td><td>2</td></tr>\n",
       "\t<tr><th scope=row>3</th><td>September 2020</td><td>Theft and Related Offences</td><td>Theft of Motor Vehicle Parts or Contents</td><td>Motor Vehicle Theft and Related Offences</td><td>Rutland   </td><td>.</td><td>Community Location</td><td>2684300</td><td>Friday</td><td>99</td><td>1 Victimisation Time and Place</td><td>Christchurch City.</td><td>Not Applicable</td><td>September 2020</td><td>September 2020</td><td>1</td><td>2</td></tr>\n",
       "\t<tr><th scope=row>4</th><td>September 2020</td><td>Theft and Related Offences</td><td>Theft (Except Motor Vehicles), N.E.C.   </td><td>Theft (Except Motor Vehicles)           </td><td>Northcote </td><td>.</td><td>Community Location</td><td>2665000</td><td>Friday</td><td>11</td><td>1 Victimisation Time and Place</td><td>Christchurch City.</td><td>Not Applicable</td><td>September 2020</td><td>September 2020</td><td>1</td><td>1</td></tr>\n",
       "\t<tr><th scope=row>5</th><td>September 2020</td><td>Theft and Related Offences</td><td>Theft (Except Motor Vehicles), N.E.C.   </td><td>Theft (Except Motor Vehicles)           </td><td>Avon Loop </td><td>.</td><td>Community Location</td><td>2656500</td><td>Friday</td><td>13</td><td>1 Victimisation Time and Place</td><td>Christchurch City.</td><td>Not Applicable</td><td>September 2020</td><td>September 2020</td><td>1</td><td>1</td></tr>\n",
       "\t<tr><th scope=row>6</th><td>September 2020</td><td>Theft and Related Offences</td><td>Theft (Except Motor Vehicles), N.E.C.   </td><td>Theft (Except Motor Vehicles)           </td><td>Mona Vale </td><td>.</td><td>Community Location</td><td>2474400</td><td>Friday</td><td>17</td><td>1 Victimisation Time and Place</td><td>Christchurch City.</td><td>Not Applicable</td><td>September 2020</td><td>September 2020</td><td>1</td><td>1</td></tr>\n",
       "</tbody>\n",
       "</table>\n"
      ],
      "text/latex": [
       "A data.frame: 6 × 17\n",
       "\\begin{tabular}{r|lllllllllllllllll}\n",
       "  & Month.Year & ANZSOC.Division & ANZSOC.Group & ANZSOC.Subdivision & Suburb & Location.Type & Locn.Type.Division & Meshblock & Occurrence.Day.Of.Week & Occurrence.Hour.Of.Day & Table.1 & Territorial.Authority & Weapon & Year.Month & Year.Month..copy.2. & Number.of.Records & Victimisations\\\\\n",
       "  & <chr> & <chr> & <chr> & <chr> & <chr> & <chr> & <chr> & <dbl> & <chr> & <dbl> & <chr> & <chr> & <chr> & <chr> & <chr> & <dbl> & <dbl>\\\\\n",
       "\\hline\n",
       "\t1 & September 2020 & Theft and Related Offences & Theft of Motor Vehicle Parts or Contents & Motor Vehicle Theft and Related Offences & Sockburn   & . & Community Location & 2478402 & Friday & 99 & 1 Victimisation Time and Place & Christchurch City. & Not Applicable & September 2020 & September 2020 & 1 & 1\\\\\n",
       "\t2 & September 2020 & Theft and Related Offences & Theft of Motor Vehicle Parts or Contents & Motor Vehicle Theft and Related Offences & Hillmorton & . & Community Location & 2631200 & Friday & 99 & 1 Victimisation Time and Place & Christchurch City. & Not Applicable & September 2020 & September 2020 & 1 & 2\\\\\n",
       "\t3 & September 2020 & Theft and Related Offences & Theft of Motor Vehicle Parts or Contents & Motor Vehicle Theft and Related Offences & Rutland    & . & Community Location & 2684300 & Friday & 99 & 1 Victimisation Time and Place & Christchurch City. & Not Applicable & September 2020 & September 2020 & 1 & 2\\\\\n",
       "\t4 & September 2020 & Theft and Related Offences & Theft (Except Motor Vehicles), N.E.C.    & Theft (Except Motor Vehicles)            & Northcote  & . & Community Location & 2665000 & Friday & 11 & 1 Victimisation Time and Place & Christchurch City. & Not Applicable & September 2020 & September 2020 & 1 & 1\\\\\n",
       "\t5 & September 2020 & Theft and Related Offences & Theft (Except Motor Vehicles), N.E.C.    & Theft (Except Motor Vehicles)            & Avon Loop  & . & Community Location & 2656500 & Friday & 13 & 1 Victimisation Time and Place & Christchurch City. & Not Applicable & September 2020 & September 2020 & 1 & 1\\\\\n",
       "\t6 & September 2020 & Theft and Related Offences & Theft (Except Motor Vehicles), N.E.C.    & Theft (Except Motor Vehicles)            & Mona Vale  & . & Community Location & 2474400 & Friday & 17 & 1 Victimisation Time and Place & Christchurch City. & Not Applicable & September 2020 & September 2020 & 1 & 1\\\\\n",
       "\\end{tabular}\n"
      ],
      "text/markdown": [
       "\n",
       "A data.frame: 6 × 17\n",
       "\n",
       "| <!--/--> | Month.Year &lt;chr&gt; | ANZSOC.Division &lt;chr&gt; | ANZSOC.Group &lt;chr&gt; | ANZSOC.Subdivision &lt;chr&gt; | Suburb &lt;chr&gt; | Location.Type &lt;chr&gt; | Locn.Type.Division &lt;chr&gt; | Meshblock &lt;dbl&gt; | Occurrence.Day.Of.Week &lt;chr&gt; | Occurrence.Hour.Of.Day &lt;dbl&gt; | Table.1 &lt;chr&gt; | Territorial.Authority &lt;chr&gt; | Weapon &lt;chr&gt; | Year.Month &lt;chr&gt; | Year.Month..copy.2. &lt;chr&gt; | Number.of.Records &lt;dbl&gt; | Victimisations &lt;dbl&gt; |\n",
       "|---|---|---|---|---|---|---|---|---|---|---|---|---|---|---|---|---|---|\n",
       "| 1 | September 2020 | Theft and Related Offences | Theft of Motor Vehicle Parts or Contents | Motor Vehicle Theft and Related Offences | Sockburn   | . | Community Location | 2478402 | Friday | 99 | 1 Victimisation Time and Place | Christchurch City. | Not Applicable | September 2020 | September 2020 | 1 | 1 |\n",
       "| 2 | September 2020 | Theft and Related Offences | Theft of Motor Vehicle Parts or Contents | Motor Vehicle Theft and Related Offences | Hillmorton | . | Community Location | 2631200 | Friday | 99 | 1 Victimisation Time and Place | Christchurch City. | Not Applicable | September 2020 | September 2020 | 1 | 2 |\n",
       "| 3 | September 2020 | Theft and Related Offences | Theft of Motor Vehicle Parts or Contents | Motor Vehicle Theft and Related Offences | Rutland    | . | Community Location | 2684300 | Friday | 99 | 1 Victimisation Time and Place | Christchurch City. | Not Applicable | September 2020 | September 2020 | 1 | 2 |\n",
       "| 4 | September 2020 | Theft and Related Offences | Theft (Except Motor Vehicles), N.E.C.    | Theft (Except Motor Vehicles)            | Northcote  | . | Community Location | 2665000 | Friday | 11 | 1 Victimisation Time and Place | Christchurch City. | Not Applicable | September 2020 | September 2020 | 1 | 1 |\n",
       "| 5 | September 2020 | Theft and Related Offences | Theft (Except Motor Vehicles), N.E.C.    | Theft (Except Motor Vehicles)            | Avon Loop  | . | Community Location | 2656500 | Friday | 13 | 1 Victimisation Time and Place | Christchurch City. | Not Applicable | September 2020 | September 2020 | 1 | 1 |\n",
       "| 6 | September 2020 | Theft and Related Offences | Theft (Except Motor Vehicles), N.E.C.    | Theft (Except Motor Vehicles)            | Mona Vale  | . | Community Location | 2474400 | Friday | 17 | 1 Victimisation Time and Place | Christchurch City. | Not Applicable | September 2020 | September 2020 | 1 | 1 |\n",
       "\n"
      ],
      "text/plain": [
       "  Month.Year     ANZSOC.Division           \n",
       "1 September 2020 Theft and Related Offences\n",
       "2 September 2020 Theft and Related Offences\n",
       "3 September 2020 Theft and Related Offences\n",
       "4 September 2020 Theft and Related Offences\n",
       "5 September 2020 Theft and Related Offences\n",
       "6 September 2020 Theft and Related Offences\n",
       "  ANZSOC.Group                            \n",
       "1 Theft of Motor Vehicle Parts or Contents\n",
       "2 Theft of Motor Vehicle Parts or Contents\n",
       "3 Theft of Motor Vehicle Parts or Contents\n",
       "4 Theft (Except Motor Vehicles), N.E.C.   \n",
       "5 Theft (Except Motor Vehicles), N.E.C.   \n",
       "6 Theft (Except Motor Vehicles), N.E.C.   \n",
       "  ANZSOC.Subdivision                       Suburb     Location.Type\n",
       "1 Motor Vehicle Theft and Related Offences Sockburn   .            \n",
       "2 Motor Vehicle Theft and Related Offences Hillmorton .            \n",
       "3 Motor Vehicle Theft and Related Offences Rutland    .            \n",
       "4 Theft (Except Motor Vehicles)            Northcote  .            \n",
       "5 Theft (Except Motor Vehicles)            Avon Loop  .            \n",
       "6 Theft (Except Motor Vehicles)            Mona Vale  .            \n",
       "  Locn.Type.Division Meshblock Occurrence.Day.Of.Week Occurrence.Hour.Of.Day\n",
       "1 Community Location 2478402   Friday                 99                    \n",
       "2 Community Location 2631200   Friday                 99                    \n",
       "3 Community Location 2684300   Friday                 99                    \n",
       "4 Community Location 2665000   Friday                 11                    \n",
       "5 Community Location 2656500   Friday                 13                    \n",
       "6 Community Location 2474400   Friday                 17                    \n",
       "  Table.1                        Territorial.Authority Weapon        \n",
       "1 1 Victimisation Time and Place Christchurch City.    Not Applicable\n",
       "2 1 Victimisation Time and Place Christchurch City.    Not Applicable\n",
       "3 1 Victimisation Time and Place Christchurch City.    Not Applicable\n",
       "4 1 Victimisation Time and Place Christchurch City.    Not Applicable\n",
       "5 1 Victimisation Time and Place Christchurch City.    Not Applicable\n",
       "6 1 Victimisation Time and Place Christchurch City.    Not Applicable\n",
       "  Year.Month     Year.Month..copy.2. Number.of.Records Victimisations\n",
       "1 September 2020 September 2020      1                 1             \n",
       "2 September 2020 September 2020      1                 2             \n",
       "3 September 2020 September 2020      1                 2             \n",
       "4 September 2020 September 2020      1                 1             \n",
       "5 September 2020 September 2020      1                 1             \n",
       "6 September 2020 September 2020      1                 1             "
      ]
     },
     "metadata": {},
     "output_type": "display_data"
    }
   ],
   "source": [
    "victim_timeplace_modified$Suburb <- substr(as.character(victim_timeplace_modified$Suburb),\n",
    "                                          start = 1,\n",
    "                                          stop = nchar(as.character(victim_timeplace_modified$Suburb))-1)\n",
    "head(victim_timeplace_modified)"
   ]
  },
  {
   "cell_type": "markdown",
   "metadata": {},
   "source": [
    "Creates a new tibble called \"victim_timeplace_groupby\". This tibble consists of the victim_timeplace_modified grouped by Suburb; with the sum of the number of records per suburb (\"sum(Number.of.Records)\"), sum of number of victims (\"sum(Victimisations)\"), and number of different crime types defined by ANZSOC Division (\"n_distinct(ANZSOC.Division)\") as additional columns. \n",
    "\n",
    "Looks at first few rows of victim_timeplace_groupby tibble."
   ]
  },
  {
   "cell_type": "code",
   "execution_count": 9,
   "metadata": {},
   "outputs": [
    {
     "data": {
      "text/html": [
       "<table class=\"dataframe\">\n",
       "<caption>A tibble: 6 × 4</caption>\n",
       "<thead>\n",
       "\t<tr><th scope=col>Suburb</th><th scope=col>sum(Number.of.Records)</th><th scope=col>sum(Victimisations)</th><th scope=col>n_distinct(ANZSOC.Division)</th></tr>\n",
       "\t<tr><th scope=col>&lt;chr&gt;</th><th scope=col>&lt;dbl&gt;</th><th scope=col>&lt;dbl&gt;</th><th scope=col>&lt;int&gt;</th></tr>\n",
       "</thead>\n",
       "<tbody>\n",
       "\t<tr><td>Addington     </td><td>1570</td><td>1642</td><td>6</td></tr>\n",
       "\t<tr><td>Aidanfield    </td><td> 283</td><td> 303</td><td>4</td></tr>\n",
       "\t<tr><td>Akaroa        </td><td> 132</td><td> 141</td><td>4</td></tr>\n",
       "\t<tr><td>Akaroa Harbour</td><td>  87</td><td>  91</td><td>4</td></tr>\n",
       "\t<tr><td>Allenton East </td><td> 555</td><td> 591</td><td>5</td></tr>\n",
       "\t<tr><td>Allenton West </td><td> 260</td><td> 278</td><td>6</td></tr>\n",
       "</tbody>\n",
       "</table>\n"
      ],
      "text/latex": [
       "A tibble: 6 × 4\n",
       "\\begin{tabular}{llll}\n",
       " Suburb & sum(Number.of.Records) & sum(Victimisations) & n\\_distinct(ANZSOC.Division)\\\\\n",
       " <chr> & <dbl> & <dbl> & <int>\\\\\n",
       "\\hline\n",
       "\t Addington      & 1570 & 1642 & 6\\\\\n",
       "\t Aidanfield     &  283 &  303 & 4\\\\\n",
       "\t Akaroa         &  132 &  141 & 4\\\\\n",
       "\t Akaroa Harbour &   87 &   91 & 4\\\\\n",
       "\t Allenton East  &  555 &  591 & 5\\\\\n",
       "\t Allenton West  &  260 &  278 & 6\\\\\n",
       "\\end{tabular}\n"
      ],
      "text/markdown": [
       "\n",
       "A tibble: 6 × 4\n",
       "\n",
       "| Suburb &lt;chr&gt; | sum(Number.of.Records) &lt;dbl&gt; | sum(Victimisations) &lt;dbl&gt; | n_distinct(ANZSOC.Division) &lt;int&gt; |\n",
       "|---|---|---|---|\n",
       "| Addington      | 1570 | 1642 | 6 |\n",
       "| Aidanfield     |  283 |  303 | 4 |\n",
       "| Akaroa         |  132 |  141 | 4 |\n",
       "| Akaroa Harbour |   87 |   91 | 4 |\n",
       "| Allenton East  |  555 |  591 | 5 |\n",
       "| Allenton West  |  260 |  278 | 6 |\n",
       "\n"
      ],
      "text/plain": [
       "  Suburb         sum(Number.of.Records) sum(Victimisations)\n",
       "1 Addington      1570                   1642               \n",
       "2 Aidanfield      283                    303               \n",
       "3 Akaroa          132                    141               \n",
       "4 Akaroa Harbour   87                     91               \n",
       "5 Allenton East   555                    591               \n",
       "6 Allenton West   260                    278               \n",
       "  n_distinct(ANZSOC.Division)\n",
       "1 6                          \n",
       "2 4                          \n",
       "3 4                          \n",
       "4 4                          \n",
       "5 5                          \n",
       "6 6                          "
      ]
     },
     "metadata": {},
     "output_type": "display_data"
    }
   ],
   "source": [
    "victim_timeplace_groupby <- victim_timeplace_modified %>% group_by(Suburb) %>% summarize(sum(Number.of.Records),sum(Victimisations),\n",
    "                                                                                                                      n_distinct(ANZSOC.Division))\n",
    "head(victim_timeplace_groupby)"
   ]
  },
  {
   "cell_type": "markdown",
   "metadata": {},
   "source": [
    "Renamed 'sum(Number.of.Records)' to \"Number_of_Crime_Records\", 'sum(Victimisations)' to 'Number_of_Victims', and 'n_distinct(ANZSOC.Division)'to 'Number_of_Crime_Types' in the victim_timeplace_groupby tibble as temporary column names. (This was done to make data wrangling easier for myself by having more readable column names)"
   ]
  },
  {
   "cell_type": "code",
   "execution_count": 10,
   "metadata": {},
   "outputs": [
    {
     "data": {
      "text/html": [
       "<table class=\"dataframe\">\n",
       "<caption>A tibble: 6 × 4</caption>\n",
       "<thead>\n",
       "\t<tr><th scope=col>Suburb</th><th scope=col>Number_of_Crime_Records</th><th scope=col>Number_of_Victims</th><th scope=col>Number_of_Crime_Types</th></tr>\n",
       "\t<tr><th scope=col>&lt;chr&gt;</th><th scope=col>&lt;dbl&gt;</th><th scope=col>&lt;dbl&gt;</th><th scope=col>&lt;int&gt;</th></tr>\n",
       "</thead>\n",
       "<tbody>\n",
       "\t<tr><td>Addington     </td><td>1570</td><td>1642</td><td>6</td></tr>\n",
       "\t<tr><td>Aidanfield    </td><td> 283</td><td> 303</td><td>4</td></tr>\n",
       "\t<tr><td>Akaroa        </td><td> 132</td><td> 141</td><td>4</td></tr>\n",
       "\t<tr><td>Akaroa Harbour</td><td>  87</td><td>  91</td><td>4</td></tr>\n",
       "\t<tr><td>Allenton East </td><td> 555</td><td> 591</td><td>5</td></tr>\n",
       "\t<tr><td>Allenton West </td><td> 260</td><td> 278</td><td>6</td></tr>\n",
       "</tbody>\n",
       "</table>\n"
      ],
      "text/latex": [
       "A tibble: 6 × 4\n",
       "\\begin{tabular}{llll}\n",
       " Suburb & Number\\_of\\_Crime\\_Records & Number\\_of\\_Victims & Number\\_of\\_Crime\\_Types\\\\\n",
       " <chr> & <dbl> & <dbl> & <int>\\\\\n",
       "\\hline\n",
       "\t Addington      & 1570 & 1642 & 6\\\\\n",
       "\t Aidanfield     &  283 &  303 & 4\\\\\n",
       "\t Akaroa         &  132 &  141 & 4\\\\\n",
       "\t Akaroa Harbour &   87 &   91 & 4\\\\\n",
       "\t Allenton East  &  555 &  591 & 5\\\\\n",
       "\t Allenton West  &  260 &  278 & 6\\\\\n",
       "\\end{tabular}\n"
      ],
      "text/markdown": [
       "\n",
       "A tibble: 6 × 4\n",
       "\n",
       "| Suburb &lt;chr&gt; | Number_of_Crime_Records &lt;dbl&gt; | Number_of_Victims &lt;dbl&gt; | Number_of_Crime_Types &lt;int&gt; |\n",
       "|---|---|---|---|\n",
       "| Addington      | 1570 | 1642 | 6 |\n",
       "| Aidanfield     |  283 |  303 | 4 |\n",
       "| Akaroa         |  132 |  141 | 4 |\n",
       "| Akaroa Harbour |   87 |   91 | 4 |\n",
       "| Allenton East  |  555 |  591 | 5 |\n",
       "| Allenton West  |  260 |  278 | 6 |\n",
       "\n"
      ],
      "text/plain": [
       "  Suburb         Number_of_Crime_Records Number_of_Victims\n",
       "1 Addington      1570                    1642             \n",
       "2 Aidanfield      283                     303             \n",
       "3 Akaroa          132                     141             \n",
       "4 Akaroa Harbour   87                      91             \n",
       "5 Allenton East   555                     591             \n",
       "6 Allenton West   260                     278             \n",
       "  Number_of_Crime_Types\n",
       "1 6                    \n",
       "2 4                    \n",
       "3 4                    \n",
       "4 4                    \n",
       "5 5                    \n",
       "6 6                    "
      ]
     },
     "metadata": {},
     "output_type": "display_data"
    }
   ],
   "source": [
    "victim_timeplace_groupby <-victim_timeplace_groupby %>% rename(Number_of_Crime_Records = 'sum(Number.of.Records)',\n",
    "                                                               Number_of_Victims = 'sum(Victimisations)',\n",
    "                                                               Number_of_Crime_Types = 'n_distinct(ANZSOC.Division)')\n",
    "\n",
    "head(victim_timeplace_groupby)"
   ]
  },
  {
   "cell_type": "markdown",
   "metadata": {},
   "source": [
    "Read the suburbs csv file \"Suburbs.csv\" (consisting of Canterbury suburb population data) as a tibble and name the tibble \"suburbs\"."
   ]
  },
  {
   "cell_type": "code",
   "execution_count": 11,
   "metadata": {},
   "outputs": [
    {
     "name": "stderr",
     "output_type": "stream",
     "text": [
      "\n",
      "\u001b[36m--\u001b[39m \u001b[1m\u001b[1mColumn specification\u001b[1m\u001b[22m \u001b[36m------------------------------------------------------------------------------------------------\u001b[39m\n",
      "cols(\n",
      "  Suburb = \u001b[31mcol_character()\u001b[39m,\n",
      "  `2018` = \u001b[32mcol_double()\u001b[39m,\n",
      "  `2019` = \u001b[32mcol_double()\u001b[39m,\n",
      "  `2020` = \u001b[32mcol_double()\u001b[39m,\n",
      "  `2021` = \u001b[32mcol_double()\u001b[39m\n",
      ")\n",
      "\n",
      "\n"
     ]
    }
   ],
   "source": [
    "suburbs <- read_csv(file = \"suburbs.csv\")"
   ]
  },
  {
   "cell_type": "markdown",
   "metadata": {},
   "source": [
    "Look at first few rows of the suburbs tibble."
   ]
  },
  {
   "cell_type": "code",
   "execution_count": 12,
   "metadata": {},
   "outputs": [
    {
     "data": {
      "text/html": [
       "<table class=\"dataframe\">\n",
       "<caption>A tibble: 6 × 5</caption>\n",
       "<thead>\n",
       "\t<tr><th scope=col>Suburb</th><th scope=col>2018</th><th scope=col>2019</th><th scope=col>2020</th><th scope=col>2021</th></tr>\n",
       "\t<tr><th scope=col>&lt;chr&gt;</th><th scope=col>&lt;dbl&gt;</th><th scope=col>&lt;dbl&gt;</th><th scope=col>&lt;dbl&gt;</th><th scope=col>&lt;dbl&gt;</th></tr>\n",
       "</thead>\n",
       "<tbody>\n",
       "\t<tr><td>Kaikoura Ranges</td><td>1750</td><td>1770</td><td>1810</td><td>1840</td></tr>\n",
       "\t<tr><td>Kaikoura       </td><td>2300</td><td>2340</td><td>2410</td><td>2420</td></tr>\n",
       "\t<tr><td>Hanmer Range   </td><td> 280</td><td> 280</td><td> 280</td><td> 280</td></tr>\n",
       "\t<tr><td>Amuri          </td><td>2310</td><td>2320</td><td>2440</td><td>2450</td></tr>\n",
       "\t<tr><td>Hanmer Springs </td><td>1030</td><td>1070</td><td>1100</td><td>1120</td></tr>\n",
       "\t<tr><td>Upper Hurunui  </td><td>1510</td><td>1520</td><td>1530</td><td>1530</td></tr>\n",
       "</tbody>\n",
       "</table>\n"
      ],
      "text/latex": [
       "A tibble: 6 × 5\n",
       "\\begin{tabular}{lllll}\n",
       " Suburb & 2018 & 2019 & 2020 & 2021\\\\\n",
       " <chr> & <dbl> & <dbl> & <dbl> & <dbl>\\\\\n",
       "\\hline\n",
       "\t Kaikoura Ranges & 1750 & 1770 & 1810 & 1840\\\\\n",
       "\t Kaikoura        & 2300 & 2340 & 2410 & 2420\\\\\n",
       "\t Hanmer Range    &  280 &  280 &  280 &  280\\\\\n",
       "\t Amuri           & 2310 & 2320 & 2440 & 2450\\\\\n",
       "\t Hanmer Springs  & 1030 & 1070 & 1100 & 1120\\\\\n",
       "\t Upper Hurunui   & 1510 & 1520 & 1530 & 1530\\\\\n",
       "\\end{tabular}\n"
      ],
      "text/markdown": [
       "\n",
       "A tibble: 6 × 5\n",
       "\n",
       "| Suburb &lt;chr&gt; | 2018 &lt;dbl&gt; | 2019 &lt;dbl&gt; | 2020 &lt;dbl&gt; | 2021 &lt;dbl&gt; |\n",
       "|---|---|---|---|---|\n",
       "| Kaikoura Ranges | 1750 | 1770 | 1810 | 1840 |\n",
       "| Kaikoura        | 2300 | 2340 | 2410 | 2420 |\n",
       "| Hanmer Range    |  280 |  280 |  280 |  280 |\n",
       "| Amuri           | 2310 | 2320 | 2440 | 2450 |\n",
       "| Hanmer Springs  | 1030 | 1070 | 1100 | 1120 |\n",
       "| Upper Hurunui   | 1510 | 1520 | 1530 | 1530 |\n",
       "\n"
      ],
      "text/plain": [
       "  Suburb          2018 2019 2020 2021\n",
       "1 Kaikoura Ranges 1750 1770 1810 1840\n",
       "2 Kaikoura        2300 2340 2410 2420\n",
       "3 Hanmer Range     280  280  280  280\n",
       "4 Amuri           2310 2320 2440 2450\n",
       "5 Hanmer Springs  1030 1070 1100 1120\n",
       "6 Upper Hurunui   1510 1520 1530 1530"
      ]
     },
     "metadata": {},
     "output_type": "display_data"
    }
   ],
   "source": [
    "head(suburbs)"
   ]
  },
  {
   "cell_type": "markdown",
   "metadata": {},
   "source": [
    "Left join the victim_timeplace_groupby tibble onto the suburbs tibble. This creates a new dataframe called \"crimes_population\""
   ]
  },
  {
   "cell_type": "code",
   "execution_count": 13,
   "metadata": {},
   "outputs": [],
   "source": [
    "crimes_population <- merge(x = suburbs, y = victim_timeplace_groupby, by = \"Suburb\", all.x = TRUE)"
   ]
  },
  {
   "cell_type": "markdown",
   "metadata": {},
   "source": [
    "Look at first few rows of the crimes_population tibble."
   ]
  },
  {
   "cell_type": "code",
   "execution_count": 14,
   "metadata": {},
   "outputs": [
    {
     "data": {
      "text/html": [
       "<table class=\"dataframe\">\n",
       "<caption>A data.frame: 6 × 8</caption>\n",
       "<thead>\n",
       "\t<tr><th></th><th scope=col>Suburb</th><th scope=col>2018</th><th scope=col>2019</th><th scope=col>2020</th><th scope=col>2021</th><th scope=col>Number_of_Crime_Records</th><th scope=col>Number_of_Victims</th><th scope=col>Number_of_Crime_Types</th></tr>\n",
       "\t<tr><th></th><th scope=col>&lt;chr&gt;</th><th scope=col>&lt;dbl&gt;</th><th scope=col>&lt;dbl&gt;</th><th scope=col>&lt;dbl&gt;</th><th scope=col>&lt;dbl&gt;</th><th scope=col>&lt;dbl&gt;</th><th scope=col>&lt;dbl&gt;</th><th scope=col>&lt;int&gt;</th></tr>\n",
       "</thead>\n",
       "<tbody>\n",
       "\t<tr><th scope=row>1</th><td>Addington East </td><td>3060</td><td>3110</td><td>3190</td><td>3130</td><td> NA</td><td> NA</td><td>NA</td></tr>\n",
       "\t<tr><th scope=row>2</th><td>Addington North</td><td>  10</td><td>  10</td><td>  10</td><td>  10</td><td> NA</td><td> NA</td><td>NA</td></tr>\n",
       "\t<tr><th scope=row>3</th><td>Addington West </td><td>2540</td><td>2560</td><td>2600</td><td>2700</td><td> NA</td><td> NA</td><td>NA</td></tr>\n",
       "\t<tr><th scope=row>4</th><td>Aidanfield     </td><td>4050</td><td>4090</td><td>4090</td><td>4110</td><td>283</td><td>303</td><td> 4</td></tr>\n",
       "\t<tr><th scope=row>5</th><td>Akaroa         </td><td> 770</td><td> 790</td><td> 800</td><td> 790</td><td>132</td><td>141</td><td> 4</td></tr>\n",
       "\t<tr><th scope=row>6</th><td>Akaroa Harbour </td><td> 740</td><td> 730</td><td> 730</td><td> 740</td><td> 87</td><td> 91</td><td> 4</td></tr>\n",
       "</tbody>\n",
       "</table>\n"
      ],
      "text/latex": [
       "A data.frame: 6 × 8\n",
       "\\begin{tabular}{r|llllllll}\n",
       "  & Suburb & 2018 & 2019 & 2020 & 2021 & Number\\_of\\_Crime\\_Records & Number\\_of\\_Victims & Number\\_of\\_Crime\\_Types\\\\\n",
       "  & <chr> & <dbl> & <dbl> & <dbl> & <dbl> & <dbl> & <dbl> & <int>\\\\\n",
       "\\hline\n",
       "\t1 & Addington East  & 3060 & 3110 & 3190 & 3130 &  NA &  NA & NA\\\\\n",
       "\t2 & Addington North &   10 &   10 &   10 &   10 &  NA &  NA & NA\\\\\n",
       "\t3 & Addington West  & 2540 & 2560 & 2600 & 2700 &  NA &  NA & NA\\\\\n",
       "\t4 & Aidanfield      & 4050 & 4090 & 4090 & 4110 & 283 & 303 &  4\\\\\n",
       "\t5 & Akaroa          &  770 &  790 &  800 &  790 & 132 & 141 &  4\\\\\n",
       "\t6 & Akaroa Harbour  &  740 &  730 &  730 &  740 &  87 &  91 &  4\\\\\n",
       "\\end{tabular}\n"
      ],
      "text/markdown": [
       "\n",
       "A data.frame: 6 × 8\n",
       "\n",
       "| <!--/--> | Suburb &lt;chr&gt; | 2018 &lt;dbl&gt; | 2019 &lt;dbl&gt; | 2020 &lt;dbl&gt; | 2021 &lt;dbl&gt; | Number_of_Crime_Records &lt;dbl&gt; | Number_of_Victims &lt;dbl&gt; | Number_of_Crime_Types &lt;int&gt; |\n",
       "|---|---|---|---|---|---|---|---|---|\n",
       "| 1 | Addington East  | 3060 | 3110 | 3190 | 3130 |  NA |  NA | NA |\n",
       "| 2 | Addington North |   10 |   10 |   10 |   10 |  NA |  NA | NA |\n",
       "| 3 | Addington West  | 2540 | 2560 | 2600 | 2700 |  NA |  NA | NA |\n",
       "| 4 | Aidanfield      | 4050 | 4090 | 4090 | 4110 | 283 | 303 |  4 |\n",
       "| 5 | Akaroa          |  770 |  790 |  800 |  790 | 132 | 141 |  4 |\n",
       "| 6 | Akaroa Harbour  |  740 |  730 |  730 |  740 |  87 |  91 |  4 |\n",
       "\n"
      ],
      "text/plain": [
       "  Suburb          2018 2019 2020 2021 Number_of_Crime_Records Number_of_Victims\n",
       "1 Addington East  3060 3110 3190 3130  NA                      NA              \n",
       "2 Addington North   10   10   10   10  NA                      NA              \n",
       "3 Addington West  2540 2560 2600 2700  NA                      NA              \n",
       "4 Aidanfield      4050 4090 4090 4110 283                     303              \n",
       "5 Akaroa           770  790  800  790 132                     141              \n",
       "6 Akaroa Harbour   740  730  730  740  87                      91              \n",
       "  Number_of_Crime_Types\n",
       "1 NA                   \n",
       "2 NA                   \n",
       "3 NA                   \n",
       "4  4                   \n",
       "5  4                   \n",
       "6  4                   "
      ]
     },
     "metadata": {},
     "output_type": "display_data"
    }
   ],
   "source": [
    "head(crimes_population)"
   ]
  },
  {
   "cell_type": "markdown",
   "metadata": {},
   "source": [
    "Counts number of rows in the victim_timeplace_groupby tibble and crimes_population dataframe. (This was to check how many rows will have additional NA values in their rows due to the left joining processing to create the crimes_population, which is 315-266=49)."
   ]
  },
  {
   "cell_type": "code",
   "execution_count": 15,
   "metadata": {},
   "outputs": [
    {
     "data": {
      "text/html": [
       "266"
      ],
      "text/latex": [
       "266"
      ],
      "text/markdown": [
       "266"
      ],
      "text/plain": [
       "[1] 266"
      ]
     },
     "metadata": {},
     "output_type": "display_data"
    },
    {
     "data": {
      "text/html": [
       "315"
      ],
      "text/latex": [
       "315"
      ],
      "text/markdown": [
       "315"
      ],
      "text/plain": [
       "[1] 315"
      ]
     },
     "metadata": {},
     "output_type": "display_data"
    }
   ],
   "source": [
    "nrow(victim_timeplace_groupby)\n",
    "nrow(crimes_population)"
   ]
  },
  {
   "cell_type": "markdown",
   "metadata": {},
   "source": [
    "These add new columns in the crimes_population dataframe normalising the number of crime records and number of victims columns by per 1000 people (The year 2020 Suburb population data was used to normalise the data)."
   ]
  },
  {
   "cell_type": "code",
   "execution_count": 16,
   "metadata": {},
   "outputs": [],
   "source": [
    "crimes_population <- transform(crimes_population, Num_of_Crimes_per_1000_People = Number_of_Crime_Records/`2020`*1000)"
   ]
  },
  {
   "cell_type": "code",
   "execution_count": 17,
   "metadata": {},
   "outputs": [],
   "source": [
    "crimes_population <- transform(crimes_population, Num_of_Crime_Victims_per_1000_People = Number_of_Victims/X2020*1000)"
   ]
  },
  {
   "cell_type": "markdown",
   "metadata": {},
   "source": [
    "Looks at first few rows of crimes_population dataframe."
   ]
  },
  {
   "cell_type": "code",
   "execution_count": 18,
   "metadata": {},
   "outputs": [
    {
     "data": {
      "text/html": [
       "<table class=\"dataframe\">\n",
       "<caption>A data.frame: 6 × 10</caption>\n",
       "<thead>\n",
       "\t<tr><th></th><th scope=col>Suburb</th><th scope=col>X2018</th><th scope=col>X2019</th><th scope=col>X2020</th><th scope=col>X2021</th><th scope=col>Number_of_Crime_Records</th><th scope=col>Number_of_Victims</th><th scope=col>Number_of_Crime_Types</th><th scope=col>Num_of_Crimes_per_1000_People</th><th scope=col>Num_of_Crime_Victims_per_1000_People</th></tr>\n",
       "\t<tr><th></th><th scope=col>&lt;chr&gt;</th><th scope=col>&lt;dbl&gt;</th><th scope=col>&lt;dbl&gt;</th><th scope=col>&lt;dbl&gt;</th><th scope=col>&lt;dbl&gt;</th><th scope=col>&lt;dbl&gt;</th><th scope=col>&lt;dbl&gt;</th><th scope=col>&lt;int&gt;</th><th scope=col>&lt;dbl&gt;</th><th scope=col>&lt;dbl&gt;</th></tr>\n",
       "</thead>\n",
       "<tbody>\n",
       "\t<tr><th scope=row>1</th><td>Addington East </td><td>3060</td><td>3110</td><td>3190</td><td>3130</td><td> NA</td><td> NA</td><td>NA</td><td>       NA</td><td>       NA</td></tr>\n",
       "\t<tr><th scope=row>2</th><td>Addington North</td><td>  10</td><td>  10</td><td>  10</td><td>  10</td><td> NA</td><td> NA</td><td>NA</td><td>       NA</td><td>       NA</td></tr>\n",
       "\t<tr><th scope=row>3</th><td>Addington West </td><td>2540</td><td>2560</td><td>2600</td><td>2700</td><td> NA</td><td> NA</td><td>NA</td><td>       NA</td><td>       NA</td></tr>\n",
       "\t<tr><th scope=row>4</th><td>Aidanfield     </td><td>4050</td><td>4090</td><td>4090</td><td>4110</td><td>283</td><td>303</td><td> 4</td><td> 69.19315</td><td> 74.08313</td></tr>\n",
       "\t<tr><th scope=row>5</th><td>Akaroa         </td><td> 770</td><td> 790</td><td> 800</td><td> 790</td><td>132</td><td>141</td><td> 4</td><td>165.00000</td><td>176.25000</td></tr>\n",
       "\t<tr><th scope=row>6</th><td>Akaroa Harbour </td><td> 740</td><td> 730</td><td> 730</td><td> 740</td><td> 87</td><td> 91</td><td> 4</td><td>119.17808</td><td>124.65753</td></tr>\n",
       "</tbody>\n",
       "</table>\n"
      ],
      "text/latex": [
       "A data.frame: 6 × 10\n",
       "\\begin{tabular}{r|llllllllll}\n",
       "  & Suburb & X2018 & X2019 & X2020 & X2021 & Number\\_of\\_Crime\\_Records & Number\\_of\\_Victims & Number\\_of\\_Crime\\_Types & Num\\_of\\_Crimes\\_per\\_1000\\_People & Num\\_of\\_Crime\\_Victims\\_per\\_1000\\_People\\\\\n",
       "  & <chr> & <dbl> & <dbl> & <dbl> & <dbl> & <dbl> & <dbl> & <int> & <dbl> & <dbl>\\\\\n",
       "\\hline\n",
       "\t1 & Addington East  & 3060 & 3110 & 3190 & 3130 &  NA &  NA & NA &        NA &        NA\\\\\n",
       "\t2 & Addington North &   10 &   10 &   10 &   10 &  NA &  NA & NA &        NA &        NA\\\\\n",
       "\t3 & Addington West  & 2540 & 2560 & 2600 & 2700 &  NA &  NA & NA &        NA &        NA\\\\\n",
       "\t4 & Aidanfield      & 4050 & 4090 & 4090 & 4110 & 283 & 303 &  4 &  69.19315 &  74.08313\\\\\n",
       "\t5 & Akaroa          &  770 &  790 &  800 &  790 & 132 & 141 &  4 & 165.00000 & 176.25000\\\\\n",
       "\t6 & Akaroa Harbour  &  740 &  730 &  730 &  740 &  87 &  91 &  4 & 119.17808 & 124.65753\\\\\n",
       "\\end{tabular}\n"
      ],
      "text/markdown": [
       "\n",
       "A data.frame: 6 × 10\n",
       "\n",
       "| <!--/--> | Suburb &lt;chr&gt; | X2018 &lt;dbl&gt; | X2019 &lt;dbl&gt; | X2020 &lt;dbl&gt; | X2021 &lt;dbl&gt; | Number_of_Crime_Records &lt;dbl&gt; | Number_of_Victims &lt;dbl&gt; | Number_of_Crime_Types &lt;int&gt; | Num_of_Crimes_per_1000_People &lt;dbl&gt; | Num_of_Crime_Victims_per_1000_People &lt;dbl&gt; |\n",
       "|---|---|---|---|---|---|---|---|---|---|---|\n",
       "| 1 | Addington East  | 3060 | 3110 | 3190 | 3130 |  NA |  NA | NA |        NA |        NA |\n",
       "| 2 | Addington North |   10 |   10 |   10 |   10 |  NA |  NA | NA |        NA |        NA |\n",
       "| 3 | Addington West  | 2540 | 2560 | 2600 | 2700 |  NA |  NA | NA |        NA |        NA |\n",
       "| 4 | Aidanfield      | 4050 | 4090 | 4090 | 4110 | 283 | 303 |  4 |  69.19315 |  74.08313 |\n",
       "| 5 | Akaroa          |  770 |  790 |  800 |  790 | 132 | 141 |  4 | 165.00000 | 176.25000 |\n",
       "| 6 | Akaroa Harbour  |  740 |  730 |  730 |  740 |  87 |  91 |  4 | 119.17808 | 124.65753 |\n",
       "\n"
      ],
      "text/plain": [
       "  Suburb          X2018 X2019 X2020 X2021 Number_of_Crime_Records\n",
       "1 Addington East  3060  3110  3190  3130   NA                    \n",
       "2 Addington North   10    10    10    10   NA                    \n",
       "3 Addington West  2540  2560  2600  2700   NA                    \n",
       "4 Aidanfield      4050  4090  4090  4110  283                    \n",
       "5 Akaroa           770   790   800   790  132                    \n",
       "6 Akaroa Harbour   740   730   730   740   87                    \n",
       "  Number_of_Victims Number_of_Crime_Types Num_of_Crimes_per_1000_People\n",
       "1  NA               NA                           NA                    \n",
       "2  NA               NA                           NA                    \n",
       "3  NA               NA                           NA                    \n",
       "4 303                4                     69.19315                    \n",
       "5 141                4                    165.00000                    \n",
       "6  91                4                    119.17808                    \n",
       "  Num_of_Crime_Victims_per_1000_People\n",
       "1        NA                           \n",
       "2        NA                           \n",
       "3        NA                           \n",
       "4  74.08313                           \n",
       "5 176.25000                           \n",
       "6 124.65753                           "
      ]
     },
     "metadata": {},
     "output_type": "display_data"
    }
   ],
   "source": [
    "head(crimes_population)"
   ]
  },
  {
   "cell_type": "markdown",
   "metadata": {},
   "source": [
    "In the crimes_population dataframe, renames all columns to \"Number_of_Crime_Records_Sep2016_to_Aug2021\", \"Number_of_Victims_Sep2016_to_Aug2021\", \"Number_of_Crime_Types_Sep2016_to_Aug2021\", \"2018_Suburb_Population\", \"2019_Suburb_Population\", \"2020_Suburb_Population\", \"2021_Suburb_Population\". The \"Suburb\" column name remains the same."
   ]
  },
  {
   "cell_type": "code",
   "execution_count": 19,
   "metadata": {},
   "outputs": [
    {
     "data": {
      "text/html": [
       "<table class=\"dataframe\">\n",
       "<caption>A data.frame: 6 × 10</caption>\n",
       "<thead>\n",
       "\t<tr><th></th><th scope=col>Suburb</th><th scope=col>2018_Suburb_Population</th><th scope=col>2019_Suburb_Population</th><th scope=col>2020_Suburb_Population</th><th scope=col>2021_Suburb_Population</th><th scope=col>Number_of_Crime_Records_Sep2016_to_Aug2021</th><th scope=col>Number_of_Victims_Sep2016_to_Aug2021</th><th scope=col>Number_of_Crime_Types_Sep2016_to_Aug2021</th><th scope=col>Num_of_Crimes_per_1000_People</th><th scope=col>Num_of_Crime_Victims_per_1000_People</th></tr>\n",
       "\t<tr><th></th><th scope=col>&lt;chr&gt;</th><th scope=col>&lt;dbl&gt;</th><th scope=col>&lt;dbl&gt;</th><th scope=col>&lt;dbl&gt;</th><th scope=col>&lt;dbl&gt;</th><th scope=col>&lt;dbl&gt;</th><th scope=col>&lt;dbl&gt;</th><th scope=col>&lt;int&gt;</th><th scope=col>&lt;dbl&gt;</th><th scope=col>&lt;dbl&gt;</th></tr>\n",
       "</thead>\n",
       "<tbody>\n",
       "\t<tr><th scope=row>1</th><td>Addington East </td><td>3060</td><td>3110</td><td>3190</td><td>3130</td><td> NA</td><td> NA</td><td>NA</td><td>       NA</td><td>       NA</td></tr>\n",
       "\t<tr><th scope=row>2</th><td>Addington North</td><td>  10</td><td>  10</td><td>  10</td><td>  10</td><td> NA</td><td> NA</td><td>NA</td><td>       NA</td><td>       NA</td></tr>\n",
       "\t<tr><th scope=row>3</th><td>Addington West </td><td>2540</td><td>2560</td><td>2600</td><td>2700</td><td> NA</td><td> NA</td><td>NA</td><td>       NA</td><td>       NA</td></tr>\n",
       "\t<tr><th scope=row>4</th><td>Aidanfield     </td><td>4050</td><td>4090</td><td>4090</td><td>4110</td><td>283</td><td>303</td><td> 4</td><td> 69.19315</td><td> 74.08313</td></tr>\n",
       "\t<tr><th scope=row>5</th><td>Akaroa         </td><td> 770</td><td> 790</td><td> 800</td><td> 790</td><td>132</td><td>141</td><td> 4</td><td>165.00000</td><td>176.25000</td></tr>\n",
       "\t<tr><th scope=row>6</th><td>Akaroa Harbour </td><td> 740</td><td> 730</td><td> 730</td><td> 740</td><td> 87</td><td> 91</td><td> 4</td><td>119.17808</td><td>124.65753</td></tr>\n",
       "</tbody>\n",
       "</table>\n"
      ],
      "text/latex": [
       "A data.frame: 6 × 10\n",
       "\\begin{tabular}{r|llllllllll}\n",
       "  & Suburb & 2018\\_Suburb\\_Population & 2019\\_Suburb\\_Population & 2020\\_Suburb\\_Population & 2021\\_Suburb\\_Population & Number\\_of\\_Crime\\_Records\\_Sep2016\\_to\\_Aug2021 & Number\\_of\\_Victims\\_Sep2016\\_to\\_Aug2021 & Number\\_of\\_Crime\\_Types\\_Sep2016\\_to\\_Aug2021 & Num\\_of\\_Crimes\\_per\\_1000\\_People & Num\\_of\\_Crime\\_Victims\\_per\\_1000\\_People\\\\\n",
       "  & <chr> & <dbl> & <dbl> & <dbl> & <dbl> & <dbl> & <dbl> & <int> & <dbl> & <dbl>\\\\\n",
       "\\hline\n",
       "\t1 & Addington East  & 3060 & 3110 & 3190 & 3130 &  NA &  NA & NA &        NA &        NA\\\\\n",
       "\t2 & Addington North &   10 &   10 &   10 &   10 &  NA &  NA & NA &        NA &        NA\\\\\n",
       "\t3 & Addington West  & 2540 & 2560 & 2600 & 2700 &  NA &  NA & NA &        NA &        NA\\\\\n",
       "\t4 & Aidanfield      & 4050 & 4090 & 4090 & 4110 & 283 & 303 &  4 &  69.19315 &  74.08313\\\\\n",
       "\t5 & Akaroa          &  770 &  790 &  800 &  790 & 132 & 141 &  4 & 165.00000 & 176.25000\\\\\n",
       "\t6 & Akaroa Harbour  &  740 &  730 &  730 &  740 &  87 &  91 &  4 & 119.17808 & 124.65753\\\\\n",
       "\\end{tabular}\n"
      ],
      "text/markdown": [
       "\n",
       "A data.frame: 6 × 10\n",
       "\n",
       "| <!--/--> | Suburb &lt;chr&gt; | 2018_Suburb_Population &lt;dbl&gt; | 2019_Suburb_Population &lt;dbl&gt; | 2020_Suburb_Population &lt;dbl&gt; | 2021_Suburb_Population &lt;dbl&gt; | Number_of_Crime_Records_Sep2016_to_Aug2021 &lt;dbl&gt; | Number_of_Victims_Sep2016_to_Aug2021 &lt;dbl&gt; | Number_of_Crime_Types_Sep2016_to_Aug2021 &lt;int&gt; | Num_of_Crimes_per_1000_People &lt;dbl&gt; | Num_of_Crime_Victims_per_1000_People &lt;dbl&gt; |\n",
       "|---|---|---|---|---|---|---|---|---|---|---|\n",
       "| 1 | Addington East  | 3060 | 3110 | 3190 | 3130 |  NA |  NA | NA |        NA |        NA |\n",
       "| 2 | Addington North |   10 |   10 |   10 |   10 |  NA |  NA | NA |        NA |        NA |\n",
       "| 3 | Addington West  | 2540 | 2560 | 2600 | 2700 |  NA |  NA | NA |        NA |        NA |\n",
       "| 4 | Aidanfield      | 4050 | 4090 | 4090 | 4110 | 283 | 303 |  4 |  69.19315 |  74.08313 |\n",
       "| 5 | Akaroa          |  770 |  790 |  800 |  790 | 132 | 141 |  4 | 165.00000 | 176.25000 |\n",
       "| 6 | Akaroa Harbour  |  740 |  730 |  730 |  740 |  87 |  91 |  4 | 119.17808 | 124.65753 |\n",
       "\n"
      ],
      "text/plain": [
       "  Suburb          2018_Suburb_Population 2019_Suburb_Population\n",
       "1 Addington East  3060                   3110                  \n",
       "2 Addington North   10                     10                  \n",
       "3 Addington West  2540                   2560                  \n",
       "4 Aidanfield      4050                   4090                  \n",
       "5 Akaroa           770                    790                  \n",
       "6 Akaroa Harbour   740                    730                  \n",
       "  2020_Suburb_Population 2021_Suburb_Population\n",
       "1 3190                   3130                  \n",
       "2   10                     10                  \n",
       "3 2600                   2700                  \n",
       "4 4090                   4110                  \n",
       "5  800                    790                  \n",
       "6  730                    740                  \n",
       "  Number_of_Crime_Records_Sep2016_to_Aug2021\n",
       "1  NA                                       \n",
       "2  NA                                       \n",
       "3  NA                                       \n",
       "4 283                                       \n",
       "5 132                                       \n",
       "6  87                                       \n",
       "  Number_of_Victims_Sep2016_to_Aug2021 Number_of_Crime_Types_Sep2016_to_Aug2021\n",
       "1  NA                                  NA                                      \n",
       "2  NA                                  NA                                      \n",
       "3  NA                                  NA                                      \n",
       "4 303                                   4                                      \n",
       "5 141                                   4                                      \n",
       "6  91                                   4                                      \n",
       "  Num_of_Crimes_per_1000_People Num_of_Crime_Victims_per_1000_People\n",
       "1        NA                            NA                           \n",
       "2        NA                            NA                           \n",
       "3        NA                            NA                           \n",
       "4  69.19315                      74.08313                           \n",
       "5 165.00000                     176.25000                           \n",
       "6 119.17808                     124.65753                           "
      ]
     },
     "metadata": {},
     "output_type": "display_data"
    }
   ],
   "source": [
    "crimes_population <-crimes_population %>% rename(Number_of_Crime_Records_Sep2016_to_Aug2021 = Number_of_Crime_Records,\n",
    "                                                               Number_of_Victims_Sep2016_to_Aug2021 = Number_of_Victims,\n",
    "                                                               Number_of_Crime_Types_Sep2016_to_Aug2021 = Number_of_Crime_Types,\n",
    "                                                               `2018_Suburb_Population` = X2018, `2019_Suburb_Population` = X2019,\n",
    "                                                               `2020_Suburb_Population` = X2020, `2021_Suburb_Population` = X2021)\n",
    "\n",
    "head(crimes_population)"
   ]
  },
  {
   "cell_type": "markdown",
   "metadata": {},
   "source": [
    "Saves the crimes_population dataframe to local directory and call the csv \"crimes_population_data.csv\"."
   ]
  },
  {
   "cell_type": "code",
   "execution_count": 20,
   "metadata": {},
   "outputs": [],
   "source": [
    "#write.csv(crimes_population, file = \"C:\\\\Users\\\\Allan\\\\Desktop\\\\Allan\\\\UC 2021\\\\DATA422\\\\Big assignment\\\\crimes_population_data.csv\", row.names = FALSE)"
   ]
  },
  {
   "cell_type": "markdown",
   "metadata": {},
   "source": [
    "Counts number of suburbs in the Num_of_Crimes_per_1000_People column (number of crimes per suburb divided by 2020 suburb population) is NA. Also counts number of suburbs in the Num_of_Crimes_per_1000_People that is NA or over 1000 (Therefore number of suburbs with a crime rate of over 1000 is 5)."
   ]
  },
  {
   "cell_type": "code",
   "execution_count": 21,
   "metadata": {},
   "outputs": [
    {
     "data": {
      "text/html": [
       "185"
      ],
      "text/latex": [
       "185"
      ],
      "text/markdown": [
       "185"
      ],
      "text/plain": [
       "[1] 185"
      ]
     },
     "metadata": {},
     "output_type": "display_data"
    },
    {
     "data": {
      "text/html": [
       "190"
      ],
      "text/latex": [
       "190"
      ],
      "text/markdown": [
       "190"
      ],
      "text/plain": [
       "[1] 190"
      ]
     },
     "metadata": {},
     "output_type": "display_data"
    }
   ],
   "source": [
    "nrow(crimes_population[crimes_population$Num_of_Crimes_per_1000_People == 'NA',])\n",
    "nrow(crimes_population[crimes_population$Num_of_Crimes_per_1000_People > 1000,])"
   ]
  },
  {
   "cell_type": "markdown",
   "metadata": {},
   "source": [
    "Views suburbs where the number of crimes per 1000 people is over 1000."
   ]
  },
  {
   "cell_type": "code",
   "execution_count": 22,
   "metadata": {},
   "outputs": [
    {
     "data": {
      "text/html": [
       "<table class=\"dataframe\">\n",
       "<caption>A data.frame: 5 × 10</caption>\n",
       "<thead>\n",
       "\t<tr><th scope=col>Suburb</th><th scope=col>2018_Suburb_Population</th><th scope=col>2019_Suburb_Population</th><th scope=col>2020_Suburb_Population</th><th scope=col>2021_Suburb_Population</th><th scope=col>Number_of_Crime_Records_Sep2016_to_Aug2021</th><th scope=col>Number_of_Victims_Sep2016_to_Aug2021</th><th scope=col>Number_of_Crime_Types_Sep2016_to_Aug2021</th><th scope=col>Num_of_Crimes_per_1000_People</th><th scope=col>Num_of_Crime_Victims_per_1000_People</th></tr>\n",
       "\t<tr><th scope=col>&lt;chr&gt;</th><th scope=col>&lt;dbl&gt;</th><th scope=col>&lt;dbl&gt;</th><th scope=col>&lt;dbl&gt;</th><th scope=col>&lt;dbl&gt;</th><th scope=col>&lt;dbl&gt;</th><th scope=col>&lt;dbl&gt;</th><th scope=col>&lt;int&gt;</th><th scope=col>&lt;dbl&gt;</th><th scope=col>&lt;dbl&gt;</th></tr>\n",
       "</thead>\n",
       "<tbody>\n",
       "\t<tr><td>Hagley Park     </td><td>  50</td><td>  40</td><td>  40</td><td>  40</td><td>2404</td><td>2630</td><td>6</td><td>60100.000</td><td>65750.000</td></tr>\n",
       "\t<tr><td>Linwood East    </td><td>2210</td><td>2230</td><td>2260</td><td>2230</td><td>2519</td><td>2916</td><td>5</td><td> 1114.602</td><td> 1290.265</td></tr>\n",
       "\t<tr><td>Middleton       </td><td> 200</td><td> 200</td><td> 200</td><td> 210</td><td>1737</td><td>1851</td><td>5</td><td> 8685.000</td><td> 9255.000</td></tr>\n",
       "\t<tr><td>Rangiora Central</td><td>  40</td><td>  40</td><td>  50</td><td>  50</td><td> 256</td><td> 267</td><td>5</td><td> 5120.000</td><td> 5340.000</td></tr>\n",
       "\t<tr><td>Woolston South  </td><td> 530</td><td> 520</td><td> 520</td><td> 510</td><td> 753</td><td> 787</td><td>6</td><td> 1448.077</td><td> 1513.462</td></tr>\n",
       "</tbody>\n",
       "</table>\n"
      ],
      "text/latex": [
       "A data.frame: 5 × 10\n",
       "\\begin{tabular}{llllllllll}\n",
       " Suburb & 2018\\_Suburb\\_Population & 2019\\_Suburb\\_Population & 2020\\_Suburb\\_Population & 2021\\_Suburb\\_Population & Number\\_of\\_Crime\\_Records\\_Sep2016\\_to\\_Aug2021 & Number\\_of\\_Victims\\_Sep2016\\_to\\_Aug2021 & Number\\_of\\_Crime\\_Types\\_Sep2016\\_to\\_Aug2021 & Num\\_of\\_Crimes\\_per\\_1000\\_People & Num\\_of\\_Crime\\_Victims\\_per\\_1000\\_People\\\\\n",
       " <chr> & <dbl> & <dbl> & <dbl> & <dbl> & <dbl> & <dbl> & <int> & <dbl> & <dbl>\\\\\n",
       "\\hline\n",
       "\t Hagley Park      &   50 &   40 &   40 &   40 & 2404 & 2630 & 6 & 60100.000 & 65750.000\\\\\n",
       "\t Linwood East     & 2210 & 2230 & 2260 & 2230 & 2519 & 2916 & 5 &  1114.602 &  1290.265\\\\\n",
       "\t Middleton        &  200 &  200 &  200 &  210 & 1737 & 1851 & 5 &  8685.000 &  9255.000\\\\\n",
       "\t Rangiora Central &   40 &   40 &   50 &   50 &  256 &  267 & 5 &  5120.000 &  5340.000\\\\\n",
       "\t Woolston South   &  530 &  520 &  520 &  510 &  753 &  787 & 6 &  1448.077 &  1513.462\\\\\n",
       "\\end{tabular}\n"
      ],
      "text/markdown": [
       "\n",
       "A data.frame: 5 × 10\n",
       "\n",
       "| Suburb &lt;chr&gt; | 2018_Suburb_Population &lt;dbl&gt; | 2019_Suburb_Population &lt;dbl&gt; | 2020_Suburb_Population &lt;dbl&gt; | 2021_Suburb_Population &lt;dbl&gt; | Number_of_Crime_Records_Sep2016_to_Aug2021 &lt;dbl&gt; | Number_of_Victims_Sep2016_to_Aug2021 &lt;dbl&gt; | Number_of_Crime_Types_Sep2016_to_Aug2021 &lt;int&gt; | Num_of_Crimes_per_1000_People &lt;dbl&gt; | Num_of_Crime_Victims_per_1000_People &lt;dbl&gt; |\n",
       "|---|---|---|---|---|---|---|---|---|---|\n",
       "| Hagley Park      |   50 |   40 |   40 |   40 | 2404 | 2630 | 6 | 60100.000 | 65750.000 |\n",
       "| Linwood East     | 2210 | 2230 | 2260 | 2230 | 2519 | 2916 | 5 |  1114.602 |  1290.265 |\n",
       "| Middleton        |  200 |  200 |  200 |  210 | 1737 | 1851 | 5 |  8685.000 |  9255.000 |\n",
       "| Rangiora Central |   40 |   40 |   50 |   50 |  256 |  267 | 5 |  5120.000 |  5340.000 |\n",
       "| Woolston South   |  530 |  520 |  520 |  510 |  753 |  787 | 6 |  1448.077 |  1513.462 |\n",
       "\n"
      ],
      "text/plain": [
       "  Suburb           2018_Suburb_Population 2019_Suburb_Population\n",
       "1 Hagley Park        50                     40                  \n",
       "2 Linwood East     2210                   2230                  \n",
       "3 Middleton         200                    200                  \n",
       "4 Rangiora Central   40                     40                  \n",
       "5 Woolston South    530                    520                  \n",
       "  2020_Suburb_Population 2021_Suburb_Population\n",
       "1   40                     40                  \n",
       "2 2260                   2230                  \n",
       "3  200                    210                  \n",
       "4   50                     50                  \n",
       "5  520                    510                  \n",
       "  Number_of_Crime_Records_Sep2016_to_Aug2021\n",
       "1 2404                                      \n",
       "2 2519                                      \n",
       "3 1737                                      \n",
       "4  256                                      \n",
       "5  753                                      \n",
       "  Number_of_Victims_Sep2016_to_Aug2021 Number_of_Crime_Types_Sep2016_to_Aug2021\n",
       "1 2630                                 6                                       \n",
       "2 2916                                 5                                       \n",
       "3 1851                                 5                                       \n",
       "4  267                                 5                                       \n",
       "5  787                                 6                                       \n",
       "  Num_of_Crimes_per_1000_People Num_of_Crime_Victims_per_1000_People\n",
       "1 60100.000                     65750.000                           \n",
       "2  1114.602                      1290.265                           \n",
       "3  8685.000                      9255.000                           \n",
       "4  5120.000                      5340.000                           \n",
       "5  1448.077                      1513.462                           "
      ]
     },
     "metadata": {},
     "output_type": "display_data"
    }
   ],
   "source": [
    "crimes_population %>%\n",
    "    filter(Num_of_Crimes_per_1000_People != 'NA') %>% \n",
    "    filter(Num_of_Crimes_per_1000_People > 1000) %>%\n",
    "    View()"
   ]
  },
  {
   "cell_type": "markdown",
   "metadata": {},
   "source": [
    "Creates a histogram of Canterbury Number of crime records per 1000 people between Sep 2016-Aug 2021."
   ]
  },
  {
   "cell_type": "code",
   "execution_count": 23,
   "metadata": {},
   "outputs": [
    {
     "data": {
      "image/png": "[encoded data removed]",
      "text/plain": [
       "plot without title"
      ]
     },
     "metadata": {
      "image/png": {
       "height": 420,
       "width": 420
      }
     },
     "output_type": "display_data"
    }
   ],
   "source": [
    "crimes_population %>% \n",
    "    filter(Num_of_Crimes_per_1000_People != 'NA') %>% \n",
    "    filter(Num_of_Crimes_per_1000_People < 1000) %>% \n",
    "    ggplot(aes(x=Num_of_Crimes_per_1000_People)) + geom_histogram(color = \"darkgrey\", fill = \"white\", \n",
    "                                                 binwidth = 50) +\n",
    "    labs(x = \"Number of crimes\", y = \"Number of suburbs\", title = \"Canterbury Number of crime records per 1000 people between Sep2016-Aug2021\",\n",
    "        caption = \"Excludes 5 suburbs num of crime records per 1000 people >1000 + 185 suburbs unknown num of crime records\")  +\n",
    " geom_vline(aes(xintercept = median(Num_of_Crimes_per_1000_People, na.rm = TRUE), color = ''), show.legend = TRUE, size = 1) +\n",
    "  guides(color=guide_legend(\"Median\"))"
   ]
  },
  {
   "cell_type": "markdown",
   "metadata": {},
   "source": [
    "Calculate median number of crimes per 1000 people in Canterbury per suburb (removing missing values)."
   ]
  },
  {
   "cell_type": "code",
   "execution_count": 24,
   "metadata": {},
   "outputs": [
    {
     "data": {
      "text/html": [
       "156.461095929814"
      ],
      "text/latex": [
       "156.461095929814"
      ],
      "text/markdown": [
       "156.461095929814"
      ],
      "text/plain": [
       "[1] 156.4611"
      ]
     },
     "metadata": {},
     "output_type": "display_data"
    }
   ],
   "source": [
    "median(crimes_population$Num_of_Crimes_per_1000_People, na.rm = TRUE)"
   ]
  }
 ],
 "metadata": {
  "kernelspec": {
   "display_name": "R",
   "language": "R",
   "name": "ir"
  },
  "language_info": {
   "codemirror_mode": "r",
   "file_extension": ".r",
   "mimetype": "text/x-r-source",
   "name": "R",
   "pygments_lexer": "r",
   "version": "4.0.4"
  }
 },
 "nbformat": 4,
 "nbformat_minor": 4
}

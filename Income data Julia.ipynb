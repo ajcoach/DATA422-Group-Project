{
 "cells": [
  {
   "cell_type": "markdown",
   "metadata": {},
   "source": [
    "This notebook includes the process of extracting Canterbury regions, and income brackets and median personal income for Canterbury regions. The code should be followed in the exact order in which it occurs in this notebook."
   ]
  },
  {
   "cell_type": "markdown",
   "metadata": {},
   "source": [
    "Load required packages"
   ]
  },
  {
   "cell_type": "code",
   "execution_count": 11,
   "metadata": {},
   "outputs": [],
   "source": [
    "using Pkg, Queryverse, VegaDatasets, VegaLite"
   ]
  },
  {
   "cell_type": "code",
   "execution_count": 12,
   "metadata": {},
   "outputs": [
    {
     "name": "stderr",
     "output_type": "stream",
     "text": [
      "\u001b[32m\u001b[1m    Updating\u001b[22m\u001b[39m registry at `C:\\Users\\danie\\.julia\\registries\\General`\n",
      "\u001b[32m\u001b[1m    Updating\u001b[22m\u001b[39m git-repo `https://github.com/JuliaRegistries/General.git`\n",
      "\u001b[32m\u001b[1m   Resolving\u001b[22m\u001b[39m package versions...\n",
      "\u001b[32m\u001b[1m   Installed\u001b[22m\u001b[39m XLSX ─ v0.7.8\n",
      "\u001b[32m\u001b[1m    Updating\u001b[22m\u001b[39m `C:\\Users\\danie\\.julia\\environments\\v1.6\\Project.toml`\n",
      " \u001b[90m [fdbf4ff8] \u001b[39m\u001b[92m+ XLSX v0.7.8\u001b[39m\n",
      "\u001b[32m\u001b[1m    Updating\u001b[22m\u001b[39m `C:\\Users\\danie\\.julia\\environments\\v1.6\\Manifest.toml`\n",
      " \u001b[90m [fdbf4ff8] \u001b[39m\u001b[93m↑ XLSX v0.7.6 ⇒ v0.7.8\u001b[39m\n",
      "\u001b[32m\u001b[1mPrecompiling\u001b[22m\u001b[39m project...\n",
      "\u001b[33m  ✓ \u001b[39mXLSX\n",
      "\u001b[33m  ✓ \u001b[39mExcelFiles\n",
      "\u001b[33m  ✓ \u001b[39mQueryverse\n",
      "  3 dependencies successfully precompiled in 42 seconds (115 already precompiled, 2 skipped during auto due to previous errors)\n",
      "  \u001b[33m3\u001b[39m dependencies precompiled but different versions are currently loaded. Restart julia to access the new versions\n"
     ]
    }
   ],
   "source": [
    "Pkg.add(\"XLSX\")"
   ]
  },
  {
   "cell_type": "markdown",
   "metadata": {},
   "source": [
    "Load file containing suburb personal income information"
   ]
  },
  {
   "cell_type": "code",
   "execution_count": 13,
   "metadata": {},
   "outputs": [
    {
     "data": {
      "text/plain": [
       "XLSXFile(\"Region_data_income.xlsx\") containing 9 Worksheets\n",
       "            sheetname size          range        \n",
       "-------------------------------------------------\n",
       "             Contents 145x5         A1:E145      \n",
       "       Geographic key 3929x11       A1:K3929     \n",
       "Footnotes and symbol… 55x6          A1:F55       \n",
       "                  SA1 3867x348      A1:MJ3867    \n",
       "                  SA2 325x349       A1:MK325     \n",
       "                 Ward 55x349        A1:MK55      \n",
       "Territorial authorit… 22x349        A1:MK22      \n",
       "District health boar… 15x349        A1:MK15      \n",
       "     Regional council 12x349        A1:MK12      \n"
      ]
     },
     "execution_count": 13,
     "metadata": {},
     "output_type": "execute_result"
    }
   ],
   "source": [
    "import XLSX\n",
    "\n",
    "region_income_data = XLSX.readxlsx(\"Region_data_income.xlsx\")"
   ]
  },
  {
   "cell_type": "markdown",
   "metadata": {},
   "source": [
    "Extract required columns for regions and territories in Canterbury"
   ]
  },
  {
   "cell_type": "code",
   "execution_count": 14,
   "metadata": {},
   "outputs": [
    {
     "data": {
      "text/html": [
       "<div class=\"data-frame\"><p>3,929 rows × 3 columns</p><table class=\"data-frame\"><thead><tr><th></th><th>x1</th><th>x2</th><th>x3</th></tr><tr><th></th><th title=\"Any\">Any</th><th title=\"Any\">Any</th><th title=\"Any\">Any</th></tr></thead><tbody><tr><th>1</th><td><em>missing</em></td><td><em>missing</em></td><td><em>missing</em></td></tr><tr><th>2</th><td><em>missing</em></td><td><em>missing</em></td><td><em>missing</em></td></tr><tr><th>3</th><td>Statistical area 2 description</td><td>Territorial authority code (2018 areas) </td><td>Territorial authority description</td></tr><tr><th>4</th><td>Kaikoura Ranges</td><td>054</td><td>Kaikoura District</td></tr><tr><th>5</th><td>Kaikoura Ranges</td><td>054</td><td>Kaikoura District</td></tr><tr><th>6</th><td>Kaikoura Ranges</td><td>054</td><td>Kaikoura District</td></tr><tr><th>7</th><td>Kaikoura Ranges</td><td>054</td><td>Kaikoura District</td></tr><tr><th>8</th><td>Kaikoura Ranges</td><td>054</td><td>Kaikoura District</td></tr><tr><th>9</th><td>Kaikoura Ranges</td><td>054</td><td>Kaikoura District</td></tr><tr><th>10</th><td>Kaikoura Ranges</td><td>054</td><td>Kaikoura District</td></tr><tr><th>11</th><td>Kaikoura Ranges</td><td>054</td><td>Kaikoura District</td></tr><tr><th>12</th><td>Kaikoura Ranges</td><td>054</td><td>Kaikoura District</td></tr><tr><th>13</th><td>Kaikoura Ranges</td><td>054</td><td>Kaikoura District</td></tr><tr><th>14</th><td>Kaikoura Ranges</td><td>054</td><td>Kaikoura District</td></tr><tr><th>15</th><td>Kaikoura Ranges</td><td>054</td><td>Kaikoura District</td></tr><tr><th>16</th><td>Kaikoura Ranges</td><td>054</td><td>Kaikoura District</td></tr><tr><th>17</th><td>Kaikoura</td><td>054</td><td>Kaikoura District</td></tr><tr><th>18</th><td>Kaikoura</td><td>054</td><td>Kaikoura District</td></tr><tr><th>19</th><td>Kaikoura</td><td>054</td><td>Kaikoura District</td></tr><tr><th>20</th><td>Kaikoura</td><td>054</td><td>Kaikoura District</td></tr><tr><th>21</th><td>Kaikoura</td><td>054</td><td>Kaikoura District</td></tr><tr><th>22</th><td>Kaikoura</td><td>054</td><td>Kaikoura District</td></tr><tr><th>23</th><td>Kaikoura</td><td>054</td><td>Kaikoura District</td></tr><tr><th>24</th><td>Kaikoura</td><td>054</td><td>Kaikoura District</td></tr><tr><th>25</th><td>Kaikoura</td><td>054</td><td>Kaikoura District</td></tr><tr><th>26</th><td>Kaikoura</td><td>054</td><td>Kaikoura District</td></tr><tr><th>27</th><td>Kaikoura</td><td>054</td><td>Kaikoura District</td></tr><tr><th>28</th><td>Kaikoura</td><td>054</td><td>Kaikoura District</td></tr><tr><th>29</th><td>Kaikoura</td><td>054</td><td>Kaikoura District</td></tr><tr><th>30</th><td>Kaikoura</td><td>054</td><td>Kaikoura District</td></tr><tr><th>&vellip;</th><td>&vellip;</td><td>&vellip;</td><td>&vellip;</td></tr></tbody></table></div>"
      ],
      "text/latex": [
       "\\begin{tabular}{r|ccc}\n",
       "\t& x1 & x2 & x3\\\\\n",
       "\t\\hline\n",
       "\t& Any & Any & Any\\\\\n",
       "\t\\hline\n",
       "\t1 & \\emph{missing} & \\emph{missing} & \\emph{missing} \\\\\n",
       "\t2 & \\emph{missing} & \\emph{missing} & \\emph{missing} \\\\\n",
       "\t3 & Statistical area 2 description & Territorial authority code (2018 areas)  & Territorial authority description \\\\\n",
       "\t4 & Kaikoura Ranges & 054 & Kaikoura District \\\\\n",
       "\t5 & Kaikoura Ranges & 054 & Kaikoura District \\\\\n",
       "\t6 & Kaikoura Ranges & 054 & Kaikoura District \\\\\n",
       "\t7 & Kaikoura Ranges & 054 & Kaikoura District \\\\\n",
       "\t8 & Kaikoura Ranges & 054 & Kaikoura District \\\\\n",
       "\t9 & Kaikoura Ranges & 054 & Kaikoura District \\\\\n",
       "\t10 & Kaikoura Ranges & 054 & Kaikoura District \\\\\n",
       "\t11 & Kaikoura Ranges & 054 & Kaikoura District \\\\\n",
       "\t12 & Kaikoura Ranges & 054 & Kaikoura District \\\\\n",
       "\t13 & Kaikoura Ranges & 054 & Kaikoura District \\\\\n",
       "\t14 & Kaikoura Ranges & 054 & Kaikoura District \\\\\n",
       "\t15 & Kaikoura Ranges & 054 & Kaikoura District \\\\\n",
       "\t16 & Kaikoura Ranges & 054 & Kaikoura District \\\\\n",
       "\t17 & Kaikoura & 054 & Kaikoura District \\\\\n",
       "\t18 & Kaikoura & 054 & Kaikoura District \\\\\n",
       "\t19 & Kaikoura & 054 & Kaikoura District \\\\\n",
       "\t20 & Kaikoura & 054 & Kaikoura District \\\\\n",
       "\t21 & Kaikoura & 054 & Kaikoura District \\\\\n",
       "\t22 & Kaikoura & 054 & Kaikoura District \\\\\n",
       "\t23 & Kaikoura & 054 & Kaikoura District \\\\\n",
       "\t24 & Kaikoura & 054 & Kaikoura District \\\\\n",
       "\t25 & Kaikoura & 054 & Kaikoura District \\\\\n",
       "\t26 & Kaikoura & 054 & Kaikoura District \\\\\n",
       "\t27 & Kaikoura & 054 & Kaikoura District \\\\\n",
       "\t28 & Kaikoura & 054 & Kaikoura District \\\\\n",
       "\t29 & Kaikoura & 054 & Kaikoura District \\\\\n",
       "\t30 & Kaikoura & 054 & Kaikoura District \\\\\n",
       "\t$\\dots$ & $\\dots$ & $\\dots$ & $\\dots$ \\\\\n",
       "\\end{tabular}\n"
      ],
      "text/plain": [
       "\u001b[1m3929×3 DataFrame\u001b[0m\n",
       "\u001b[1m  Row \u001b[0m│\u001b[1m x1                             \u001b[0m\u001b[1m x2                                \u001b[0m\u001b[1m x3 \u001b[0m ⋯\n",
       "\u001b[1m      \u001b[0m│\u001b[90m Any                            \u001b[0m\u001b[90m Any                               \u001b[0m\u001b[90m Any\u001b[0m ⋯\n",
       "──────┼─────────────────────────────────────────────────────────────────────────\n",
       "    1 │\u001b[90m missing                        \u001b[0m\u001b[90m missing                           \u001b[0m\u001b[90m mis\u001b[0m ⋯\n",
       "    2 │\u001b[90m missing                        \u001b[0m\u001b[90m missing                           \u001b[0m\u001b[90m mis\u001b[0m\n",
       "    3 │ Statistical area 2 description  Territorial authority code (2018…  Ter\n",
       "    4 │ Kaikoura Ranges                 054                                Kai\n",
       "    5 │ Kaikoura Ranges                 054                                Kai ⋯\n",
       "    6 │ Kaikoura Ranges                 054                                Kai\n",
       "    7 │ Kaikoura Ranges                 054                                Kai\n",
       "    8 │ Kaikoura Ranges                 054                                Kai\n",
       "    9 │ Kaikoura Ranges                 054                                Kai ⋯\n",
       "   10 │ Kaikoura Ranges                 054                                Kai\n",
       "   11 │ Kaikoura Ranges                 054                                Kai\n",
       "  ⋮   │               ⋮                                 ⋮                      ⋱\n",
       " 3920 │ Danseys Pass                    068                                Wai\n",
       " 3921 │ Danseys Pass                    068                                Wai ⋯\n",
       " 3922 │ Danseys Pass                    068                                Wai\n",
       " 3923 │ Danseys Pass                    068                                Wai\n",
       " 3924 │ Danseys Pass                    068                                Wai\n",
       " 3925 │ Danseys Pass                    068                                Wai ⋯\n",
       " 3926 │ Oceanic Canterbury Region       999                                Are\n",
       " 3927 │ Oceanic Canterbury Region       999                                Are\n",
       " 3928 │ Oceanic Canterbury Region       999                                Are\n",
       " 3929 │\u001b[90m missing                        \u001b[0m\u001b[90m missing                           \u001b[0m\u001b[90m mis\u001b[0m ⋯\n",
       "\u001b[36m                                                  1 column and 3908 rows omitted\u001b[0m"
      ]
     },
     "execution_count": 14,
     "metadata": {},
     "output_type": "execute_result"
    }
   ],
   "source": [
    "using DataFrames\n",
    "\n",
    "region = DataFrame(region_income_data[\"Geographic key!C:E\"], :auto)"
   ]
  },
  {
   "cell_type": "code",
   "execution_count": 15,
   "metadata": {},
   "outputs": [
    {
     "data": {
      "text/html": [
       "<div class=\"data-frame\"><p>3,926 rows × 2 columns</p><table class=\"data-frame\"><thead><tr><th></th><th>Suburb</th><th>Territory</th></tr><tr><th></th><th title=\"Any\">Any</th><th title=\"Any\">Any</th></tr></thead><tbody><tr><th>1</th><td>Kaikoura Ranges</td><td>Kaikoura District</td></tr><tr><th>2</th><td>Kaikoura Ranges</td><td>Kaikoura District</td></tr><tr><th>3</th><td>Kaikoura Ranges</td><td>Kaikoura District</td></tr><tr><th>4</th><td>Kaikoura Ranges</td><td>Kaikoura District</td></tr><tr><th>5</th><td>Kaikoura Ranges</td><td>Kaikoura District</td></tr><tr><th>6</th><td>Kaikoura Ranges</td><td>Kaikoura District</td></tr><tr><th>7</th><td>Kaikoura Ranges</td><td>Kaikoura District</td></tr><tr><th>8</th><td>Kaikoura Ranges</td><td>Kaikoura District</td></tr><tr><th>9</th><td>Kaikoura Ranges</td><td>Kaikoura District</td></tr><tr><th>10</th><td>Kaikoura Ranges</td><td>Kaikoura District</td></tr><tr><th>11</th><td>Kaikoura Ranges</td><td>Kaikoura District</td></tr><tr><th>12</th><td>Kaikoura Ranges</td><td>Kaikoura District</td></tr><tr><th>13</th><td>Kaikoura Ranges</td><td>Kaikoura District</td></tr><tr><th>14</th><td>Kaikoura</td><td>Kaikoura District</td></tr><tr><th>15</th><td>Kaikoura</td><td>Kaikoura District</td></tr><tr><th>16</th><td>Kaikoura</td><td>Kaikoura District</td></tr><tr><th>17</th><td>Kaikoura</td><td>Kaikoura District</td></tr><tr><th>18</th><td>Kaikoura</td><td>Kaikoura District</td></tr><tr><th>19</th><td>Kaikoura</td><td>Kaikoura District</td></tr><tr><th>20</th><td>Kaikoura</td><td>Kaikoura District</td></tr><tr><th>21</th><td>Kaikoura</td><td>Kaikoura District</td></tr><tr><th>22</th><td>Kaikoura</td><td>Kaikoura District</td></tr><tr><th>23</th><td>Kaikoura</td><td>Kaikoura District</td></tr><tr><th>24</th><td>Kaikoura</td><td>Kaikoura District</td></tr><tr><th>25</th><td>Kaikoura</td><td>Kaikoura District</td></tr><tr><th>26</th><td>Kaikoura</td><td>Kaikoura District</td></tr><tr><th>27</th><td>Kaikoura</td><td>Kaikoura District</td></tr><tr><th>28</th><td>Kaikoura</td><td>Kaikoura District</td></tr><tr><th>29</th><td>Kaikoura</td><td>Kaikoura District</td></tr><tr><th>30</th><td>Kaikoura</td><td>Kaikoura District</td></tr><tr><th>&vellip;</th><td>&vellip;</td><td>&vellip;</td></tr></tbody></table></div>"
      ],
      "text/latex": [
       "\\begin{tabular}{r|cc}\n",
       "\t& Suburb & Territory\\\\\n",
       "\t\\hline\n",
       "\t& Any & Any\\\\\n",
       "\t\\hline\n",
       "\t1 & Kaikoura Ranges & Kaikoura District \\\\\n",
       "\t2 & Kaikoura Ranges & Kaikoura District \\\\\n",
       "\t3 & Kaikoura Ranges & Kaikoura District \\\\\n",
       "\t4 & Kaikoura Ranges & Kaikoura District \\\\\n",
       "\t5 & Kaikoura Ranges & Kaikoura District \\\\\n",
       "\t6 & Kaikoura Ranges & Kaikoura District \\\\\n",
       "\t7 & Kaikoura Ranges & Kaikoura District \\\\\n",
       "\t8 & Kaikoura Ranges & Kaikoura District \\\\\n",
       "\t9 & Kaikoura Ranges & Kaikoura District \\\\\n",
       "\t10 & Kaikoura Ranges & Kaikoura District \\\\\n",
       "\t11 & Kaikoura Ranges & Kaikoura District \\\\\n",
       "\t12 & Kaikoura Ranges & Kaikoura District \\\\\n",
       "\t13 & Kaikoura Ranges & Kaikoura District \\\\\n",
       "\t14 & Kaikoura & Kaikoura District \\\\\n",
       "\t15 & Kaikoura & Kaikoura District \\\\\n",
       "\t16 & Kaikoura & Kaikoura District \\\\\n",
       "\t17 & Kaikoura & Kaikoura District \\\\\n",
       "\t18 & Kaikoura & Kaikoura District \\\\\n",
       "\t19 & Kaikoura & Kaikoura District \\\\\n",
       "\t20 & Kaikoura & Kaikoura District \\\\\n",
       "\t21 & Kaikoura & Kaikoura District \\\\\n",
       "\t22 & Kaikoura & Kaikoura District \\\\\n",
       "\t23 & Kaikoura & Kaikoura District \\\\\n",
       "\t24 & Kaikoura & Kaikoura District \\\\\n",
       "\t25 & Kaikoura & Kaikoura District \\\\\n",
       "\t26 & Kaikoura & Kaikoura District \\\\\n",
       "\t27 & Kaikoura & Kaikoura District \\\\\n",
       "\t28 & Kaikoura & Kaikoura District \\\\\n",
       "\t29 & Kaikoura & Kaikoura District \\\\\n",
       "\t30 & Kaikoura & Kaikoura District \\\\\n",
       "\t$\\dots$ & $\\dots$ & $\\dots$ \\\\\n",
       "\\end{tabular}\n"
      ],
      "text/plain": [
       "\u001b[1m3926×2 DataFrame\u001b[0m\n",
       "\u001b[1m  Row \u001b[0m│\u001b[1m Suburb                    \u001b[0m\u001b[1m Territory                         \u001b[0m\n",
       "\u001b[1m      \u001b[0m│\u001b[90m Any                       \u001b[0m\u001b[90m Any                               \u001b[0m\n",
       "──────┼──────────────────────────────────────────────────────────────\n",
       "    1 │ Kaikoura Ranges            Kaikoura District\n",
       "    2 │ Kaikoura Ranges            Kaikoura District\n",
       "    3 │ Kaikoura Ranges            Kaikoura District\n",
       "    4 │ Kaikoura Ranges            Kaikoura District\n",
       "    5 │ Kaikoura Ranges            Kaikoura District\n",
       "    6 │ Kaikoura Ranges            Kaikoura District\n",
       "    7 │ Kaikoura Ranges            Kaikoura District\n",
       "    8 │ Kaikoura Ranges            Kaikoura District\n",
       "    9 │ Kaikoura Ranges            Kaikoura District\n",
       "   10 │ Kaikoura Ranges            Kaikoura District\n",
       "   11 │ Kaikoura Ranges            Kaikoura District\n",
       "  ⋮   │             ⋮                              ⋮\n",
       " 3917 │ Danseys Pass               Waitaki District\n",
       " 3918 │ Danseys Pass               Waitaki District\n",
       " 3919 │ Danseys Pass               Waitaki District\n",
       " 3920 │ Danseys Pass               Waitaki District\n",
       " 3921 │ Danseys Pass               Waitaki District\n",
       " 3922 │ Danseys Pass               Waitaki District\n",
       " 3923 │ Oceanic Canterbury Region  Area Outside Territorial Authori…\n",
       " 3924 │ Oceanic Canterbury Region  Area Outside Territorial Authori…\n",
       " 3925 │ Oceanic Canterbury Region  Area Outside Territorial Authori…\n",
       " 3926 │\u001b[90m missing                   \u001b[0m\u001b[90m missing                           \u001b[0m\n",
       "\u001b[36m                                                    3905 rows omitted\u001b[0m"
      ]
     },
     "execution_count": 15,
     "metadata": {},
     "output_type": "execute_result"
    }
   ],
   "source": [
    "region = region[4:end,[1,3]]\n",
    "rename!(region, [:Suburb, :Territory])"
   ]
  },
  {
   "cell_type": "markdown",
   "metadata": {},
   "source": [
    "Extract only unique suburb names from file so we have all regions in Canterbury"
   ]
  },
  {
   "cell_type": "code",
   "execution_count": 16,
   "metadata": {},
   "outputs": [
    {
     "data": {
      "text/html": [
       "<div class=\"data-frame\"><p>314 rows × 2 columns</p><table class=\"data-frame\"><thead><tr><th></th><th>Suburb</th><th>Territory</th></tr><tr><th></th><th title=\"Any\">Any</th><th title=\"Any\">Any</th></tr></thead><tbody><tr><th>1</th><td>Kaikoura Ranges</td><td>Kaikoura District</td></tr><tr><th>2</th><td>Kaikoura</td><td>Kaikoura District</td></tr><tr><th>3</th><td>Hanmer Range</td><td>Hurunui District</td></tr><tr><th>4</th><td>Amuri</td><td>Hurunui District</td></tr><tr><th>5</th><td>Hanmer Springs</td><td>Hurunui District</td></tr><tr><th>6</th><td>Parnassus</td><td>Hurunui District</td></tr><tr><th>7</th><td>Upper Hurunui</td><td>Hurunui District</td></tr><tr><th>8</th><td>Omihi</td><td>Hurunui District</td></tr><tr><th>9</th><td>Ashley Forest</td><td>Hurunui District</td></tr><tr><th>10</th><td>Balcairn</td><td>Hurunui District</td></tr><tr><th>11</th><td>Amberley</td><td>Hurunui District</td></tr><tr><th>12</th><td>Okuku</td><td>Waimakariri District</td></tr><tr><th>13</th><td>Ashley Gorge</td><td>Waimakariri District</td></tr><tr><th>14</th><td>Loburn</td><td>Waimakariri District</td></tr><tr><th>15</th><td>Ashley-Sefton</td><td>Waimakariri District</td></tr><tr><th>16</th><td>Oxford</td><td>Waimakariri District</td></tr><tr><th>17</th><td>West Eyreton</td><td>Waimakariri District</td></tr><tr><th>18</th><td>Starvation Hill-Cust</td><td>Waimakariri District</td></tr><tr><th>19</th><td>Fernside</td><td>Waimakariri District</td></tr><tr><th>20</th><td>Rangiora North West</td><td>Waimakariri District</td></tr><tr><th>21</th><td>Kingsbury</td><td>Waimakariri District</td></tr><tr><th>22</th><td>Ashgrove</td><td>Waimakariri District</td></tr><tr><th>23</th><td>Rangiora North East</td><td>Waimakariri District</td></tr><tr><th>24</th><td>Rangiora Central</td><td>Waimakariri District</td></tr><tr><th>25</th><td>Rangiora South East</td><td>Waimakariri District</td></tr><tr><th>26</th><td>Tuahiwi</td><td>Waimakariri District</td></tr><tr><th>27</th><td>Waikuku</td><td>Waimakariri District</td></tr><tr><th>28</th><td>Pegasus</td><td>Waimakariri District</td></tr><tr><th>29</th><td>Eyrewell</td><td>Waimakariri District</td></tr><tr><th>30</th><td>Swannanoa-Eyreton</td><td>Waimakariri District</td></tr><tr><th>&vellip;</th><td>&vellip;</td><td>&vellip;</td></tr></tbody></table></div>"
      ],
      "text/latex": [
       "\\begin{tabular}{r|cc}\n",
       "\t& Suburb & Territory\\\\\n",
       "\t\\hline\n",
       "\t& Any & Any\\\\\n",
       "\t\\hline\n",
       "\t1 & Kaikoura Ranges & Kaikoura District \\\\\n",
       "\t2 & Kaikoura & Kaikoura District \\\\\n",
       "\t3 & Hanmer Range & Hurunui District \\\\\n",
       "\t4 & Amuri & Hurunui District \\\\\n",
       "\t5 & Hanmer Springs & Hurunui District \\\\\n",
       "\t6 & Parnassus & Hurunui District \\\\\n",
       "\t7 & Upper Hurunui & Hurunui District \\\\\n",
       "\t8 & Omihi & Hurunui District \\\\\n",
       "\t9 & Ashley Forest & Hurunui District \\\\\n",
       "\t10 & Balcairn & Hurunui District \\\\\n",
       "\t11 & Amberley & Hurunui District \\\\\n",
       "\t12 & Okuku & Waimakariri District \\\\\n",
       "\t13 & Ashley Gorge & Waimakariri District \\\\\n",
       "\t14 & Loburn & Waimakariri District \\\\\n",
       "\t15 & Ashley-Sefton & Waimakariri District \\\\\n",
       "\t16 & Oxford & Waimakariri District \\\\\n",
       "\t17 & West Eyreton & Waimakariri District \\\\\n",
       "\t18 & Starvation Hill-Cust & Waimakariri District \\\\\n",
       "\t19 & Fernside & Waimakariri District \\\\\n",
       "\t20 & Rangiora North West & Waimakariri District \\\\\n",
       "\t21 & Kingsbury & Waimakariri District \\\\\n",
       "\t22 & Ashgrove & Waimakariri District \\\\\n",
       "\t23 & Rangiora North East & Waimakariri District \\\\\n",
       "\t24 & Rangiora Central & Waimakariri District \\\\\n",
       "\t25 & Rangiora South East & Waimakariri District \\\\\n",
       "\t26 & Tuahiwi & Waimakariri District \\\\\n",
       "\t27 & Waikuku & Waimakariri District \\\\\n",
       "\t28 & Pegasus & Waimakariri District \\\\\n",
       "\t29 & Eyrewell & Waimakariri District \\\\\n",
       "\t30 & Swannanoa-Eyreton & Waimakariri District \\\\\n",
       "\t$\\dots$ & $\\dots$ & $\\dots$ \\\\\n",
       "\\end{tabular}\n"
      ],
      "text/plain": [
       "\u001b[1m314×2 DataFrame\u001b[0m\n",
       "\u001b[1m Row \u001b[0m│\u001b[1m Suburb                    \u001b[0m\u001b[1m Territory                         \u001b[0m\n",
       "\u001b[1m     \u001b[0m│\u001b[90m Any                       \u001b[0m\u001b[90m Any                               \u001b[0m\n",
       "─────┼──────────────────────────────────────────────────────────────\n",
       "   1 │ Kaikoura Ranges            Kaikoura District\n",
       "   2 │ Kaikoura                   Kaikoura District\n",
       "   3 │ Hanmer Range               Hurunui District\n",
       "   4 │ Amuri                      Hurunui District\n",
       "   5 │ Hanmer Springs             Hurunui District\n",
       "   6 │ Parnassus                  Hurunui District\n",
       "   7 │ Upper Hurunui              Hurunui District\n",
       "   8 │ Omihi                      Hurunui District\n",
       "   9 │ Ashley Forest              Hurunui District\n",
       "  10 │ Balcairn                   Hurunui District\n",
       "  11 │ Amberley                   Hurunui District\n",
       "  ⋮  │             ⋮                              ⋮\n",
       " 305 │ Lyalldale                  Waimate District\n",
       " 306 │ Makikihi-Willowbridge      Waimate District\n",
       " 307 │ Waimate North              Waimate District\n",
       " 308 │ Waimate West               Waimate District\n",
       " 309 │ Waimate East               Waimate District\n",
       " 310 │ Morven-Glenavy-Ikawai      Waimate District\n",
       " 311 │ Aviemore                   Waitaki District\n",
       " 312 │ Inland water Lake Ohau     Waitaki District\n",
       " 313 │ Danseys Pass               Waitaki District\n",
       " 314 │ Oceanic Canterbury Region  Area Outside Territorial Authori…\n",
       "\u001b[36m                                                    293 rows omitted\u001b[0m"
      ]
     },
     "execution_count": 16,
     "metadata": {},
     "output_type": "execute_result"
    }
   ],
   "source": [
    "region = unique(region, :Suburb)\n",
    "region = region[completecases(region), :]"
   ]
  },
  {
   "cell_type": "code",
   "execution_count": 17,
   "metadata": {},
   "outputs": [
    {
     "data": {
      "text/html": [
       "<div class=\"data-frame\"><p>172 rows × 2 columns</p><table class=\"data-frame\"><thead><tr><th></th><th>Suburb</th><th>Territory</th></tr><tr><th></th><th title=\"Any\">Any</th><th title=\"Any\">Any</th></tr></thead><tbody><tr><th>1</th><td>Styx</td><td>Christchurch City</td></tr><tr><th>2</th><td>Brooklands-Spencerville</td><td>Christchurch City</td></tr><tr><th>3</th><td>Inlets other Christchurch City</td><td>Christchurch City</td></tr><tr><th>4</th><td>McLeans Island</td><td>Christchurch City</td></tr><tr><th>5</th><td>Christchurch Airport</td><td>Christchurch City</td></tr><tr><th>6</th><td>Harewood</td><td>Christchurch City</td></tr><tr><th>7</th><td>Bishopdale North</td><td>Christchurch City</td></tr><tr><th>8</th><td>Clearwater</td><td>Christchurch City</td></tr><tr><th>9</th><td>Casebrook</td><td>Christchurch City</td></tr><tr><th>10</th><td>Northwood</td><td>Christchurch City</td></tr><tr><th>11</th><td>Regents Park</td><td>Christchurch City</td></tr><tr><th>12</th><td>Redwood West</td><td>Christchurch City</td></tr><tr><th>13</th><td>Belfast West</td><td>Christchurch City</td></tr><tr><th>14</th><td>Redwood North</td><td>Christchurch City</td></tr><tr><th>15</th><td>Redwood East</td><td>Christchurch City</td></tr><tr><th>16</th><td>Belfast East</td><td>Christchurch City</td></tr><tr><th>17</th><td>Marshland</td><td>Christchurch City</td></tr><tr><th>18</th><td>Prestons</td><td>Christchurch City</td></tr><tr><th>19</th><td>Waitikiri</td><td>Christchurch City</td></tr><tr><th>20</th><td>Travis Wetlands</td><td>Christchurch City</td></tr><tr><th>21</th><td>Queenspark</td><td>Christchurch City</td></tr><tr><th>22</th><td>Parklands</td><td>Christchurch City</td></tr><tr><th>23</th><td>Waimairi Beach</td><td>Christchurch City</td></tr><tr><th>24</th><td>Paparua</td><td>Christchurch City</td></tr><tr><th>25</th><td>Yaldhurst</td><td>Christchurch City</td></tr><tr><th>26</th><td>Templeton</td><td>Christchurch City</td></tr><tr><th>27</th><td>Islington-Hornby Industrial</td><td>Christchurch City</td></tr><tr><th>28</th><td>Islington</td><td>Christchurch City</td></tr><tr><th>29</th><td>Hornby West</td><td>Christchurch City</td></tr><tr><th>30</th><td>Hei Hei</td><td>Christchurch City</td></tr><tr><th>&vellip;</th><td>&vellip;</td><td>&vellip;</td></tr></tbody></table></div>"
      ],
      "text/latex": [
       "\\begin{tabular}{r|cc}\n",
       "\t& Suburb & Territory\\\\\n",
       "\t\\hline\n",
       "\t& Any & Any\\\\\n",
       "\t\\hline\n",
       "\t1 & Styx & Christchurch City \\\\\n",
       "\t2 & Brooklands-Spencerville & Christchurch City \\\\\n",
       "\t3 & Inlets other Christchurch City & Christchurch City \\\\\n",
       "\t4 & McLeans Island & Christchurch City \\\\\n",
       "\t5 & Christchurch Airport & Christchurch City \\\\\n",
       "\t6 & Harewood & Christchurch City \\\\\n",
       "\t7 & Bishopdale North & Christchurch City \\\\\n",
       "\t8 & Clearwater & Christchurch City \\\\\n",
       "\t9 & Casebrook & Christchurch City \\\\\n",
       "\t10 & Northwood & Christchurch City \\\\\n",
       "\t11 & Regents Park & Christchurch City \\\\\n",
       "\t12 & Redwood West & Christchurch City \\\\\n",
       "\t13 & Belfast West & Christchurch City \\\\\n",
       "\t14 & Redwood North & Christchurch City \\\\\n",
       "\t15 & Redwood East & Christchurch City \\\\\n",
       "\t16 & Belfast East & Christchurch City \\\\\n",
       "\t17 & Marshland & Christchurch City \\\\\n",
       "\t18 & Prestons & Christchurch City \\\\\n",
       "\t19 & Waitikiri & Christchurch City \\\\\n",
       "\t20 & Travis Wetlands & Christchurch City \\\\\n",
       "\t21 & Queenspark & Christchurch City \\\\\n",
       "\t22 & Parklands & Christchurch City \\\\\n",
       "\t23 & Waimairi Beach & Christchurch City \\\\\n",
       "\t24 & Paparua & Christchurch City \\\\\n",
       "\t25 & Yaldhurst & Christchurch City \\\\\n",
       "\t26 & Templeton & Christchurch City \\\\\n",
       "\t27 & Islington-Hornby Industrial & Christchurch City \\\\\n",
       "\t28 & Islington & Christchurch City \\\\\n",
       "\t29 & Hornby West & Christchurch City \\\\\n",
       "\t30 & Hei Hei & Christchurch City \\\\\n",
       "\t$\\dots$ & $\\dots$ & $\\dots$ \\\\\n",
       "\\end{tabular}\n"
      ],
      "text/plain": [
       "\u001b[1m172×2 DataFrame\u001b[0m\n",
       "\u001b[1m Row \u001b[0m│\u001b[1m Suburb                            \u001b[0m\u001b[1m Territory         \u001b[0m\n",
       "\u001b[1m     \u001b[0m│\u001b[90m Any                               \u001b[0m\u001b[90m Any               \u001b[0m\n",
       "─────┼──────────────────────────────────────────────────────\n",
       "   1 │ Styx                               Christchurch City\n",
       "   2 │ Brooklands-Spencerville            Christchurch City\n",
       "   3 │ Inlets other Christchurch City     Christchurch City\n",
       "   4 │ McLeans Island                     Christchurch City\n",
       "   5 │ Christchurch Airport               Christchurch City\n",
       "   6 │ Harewood                           Christchurch City\n",
       "   7 │ Bishopdale North                   Christchurch City\n",
       "   8 │ Clearwater                         Christchurch City\n",
       "   9 │ Casebrook                          Christchurch City\n",
       "  10 │ Northwood                          Christchurch City\n",
       "  11 │ Regents Park                       Christchurch City\n",
       "  ⋮  │                 ⋮                          ⋮\n",
       " 163 │ Teddington                         Christchurch City\n",
       " 164 │ Lyttelton                          Christchurch City\n",
       " 165 │ Diamond Harbour                    Christchurch City\n",
       " 166 │ Inlet Port Lyttelton               Christchurch City\n",
       " 167 │ Eastern Bays-Banks Peninsula       Christchurch City\n",
       " 168 │ Inland water Lake Ellesmere/Te W…  Christchurch City\n",
       " 169 │ Banks Peninsula South              Christchurch City\n",
       " 170 │ Akaroa Harbour                     Christchurch City\n",
       " 171 │ Inlet Akaroa Harbour               Christchurch City\n",
       " 172 │ Akaroa                             Christchurch City\n",
       "\u001b[36m                                            151 rows omitted\u001b[0m"
      ]
     },
     "execution_count": 17,
     "metadata": {},
     "output_type": "execute_result"
    }
   ],
   "source": [
    "region[region[!, :Territory] .== \"Christchurch City\", :]"
   ]
  },
  {
   "cell_type": "markdown",
   "metadata": {},
   "source": [
    "Extract columns from dataset that contain information relating to income brackets and mean personal income for each suburb"
   ]
  },
  {
   "cell_type": "code",
   "execution_count": 18,
   "metadata": {},
   "outputs": [
    {
     "data": {
      "text/html": [
       "<div class=\"data-frame\"><p>314 rows × 11 columns (omitted printing of 6 columns)</p><table class=\"data-frame\"><thead><tr><th></th><th>$5,000 or less</th><th>$5,001 – $10,000</th><th>$10,001 – $20,000</th><th>$20,001 – $30,000</th><th>$30,001 – $50,000</th></tr><tr><th></th><th title=\"Any\">Any</th><th title=\"Any\">Any</th><th title=\"Any\">Any</th><th title=\"Any\">Any</th><th title=\"Any\">Any</th></tr></thead><tbody><tr><th>1</th><td>105</td><td>57</td><td>219</td><td>201</td><td>354</td></tr><tr><th>2</th><td>108</td><td>69</td><td>357</td><td>414</td><td>492</td></tr><tr><th>3</th><td>21</td><td>6</td><td>30</td><td>21</td><td>63</td></tr><tr><th>4</th><td>174</td><td>57</td><td>267</td><td>207</td><td>402</td></tr><tr><th>5</th><td>51</td><td>39</td><td>114</td><td>132</td><td>255</td></tr><tr><th>6</th><td>114</td><td>57</td><td>258</td><td>189</td><td>237</td></tr><tr><th>7</th><td>108</td><td>45</td><td>225</td><td>189</td><td>240</td></tr><tr><th>8</th><td>72</td><td>18</td><td>75</td><td>60</td><td>117</td></tr><tr><th>9</th><td>117</td><td>42</td><td>189</td><td>147</td><td>219</td></tr><tr><th>10</th><td>201</td><td>84</td><td>357</td><td>303</td><td>387</td></tr><tr><th>11</th><td>141</td><td>63</td><td>408</td><td>312</td><td>324</td></tr><tr><th>12</th><td>72</td><td>21</td><td>72</td><td>75</td><td>96</td></tr><tr><th>13</th><td>126</td><td>39</td><td>144</td><td>114</td><td>180</td></tr><tr><th>14</th><td>207</td><td>69</td><td>390</td><td>285</td><td>333</td></tr><tr><th>15</th><td>210</td><td>60</td><td>273</td><td>228</td><td>327</td></tr><tr><th>16</th><td>231</td><td>69</td><td>252</td><td>201</td><td>333</td></tr><tr><th>17</th><td>174</td><td>48</td><td>162</td><td>138</td><td>282</td></tr><tr><th>18</th><td>150</td><td>51</td><td>147</td><td>126</td><td>225</td></tr><tr><th>19</th><td>210</td><td>60</td><td>261</td><td>222</td><td>324</td></tr><tr><th>20</th><td>120</td><td>57</td><td>150</td><td>135</td><td>207</td></tr><tr><th>21</th><td>162</td><td>48</td><td>360</td><td>387</td><td>327</td></tr><tr><th>22</th><td>243</td><td>81</td><td>441</td><td>417</td><td>429</td></tr><tr><th>23</th><td>135</td><td>57</td><td>195</td><td>174</td><td>273</td></tr><tr><th>24</th><td>165</td><td>60</td><td>363</td><td>282</td><td>330</td></tr><tr><th>25</th><td>108</td><td>33</td><td>165</td><td>141</td><td>192</td></tr><tr><th>26</th><td>3</td><td>3</td><td>3</td><td>3</td><td>9</td></tr><tr><th>27</th><td>225</td><td>78</td><td>327</td><td>273</td><td>393</td></tr><tr><th>28</th><td>246</td><td>126</td><td>507</td><td>426</td><td>525</td></tr><tr><th>29</th><td>135</td><td>57</td><td>189</td><td>165</td><td>291</td></tr><tr><th>30</th><td>285</td><td>102</td><td>291</td><td>270</td><td>387</td></tr><tr><th>&vellip;</th><td>&vellip;</td><td>&vellip;</td><td>&vellip;</td><td>&vellip;</td><td>&vellip;</td></tr></tbody></table></div>"
      ],
      "text/latex": [
       "\\begin{tabular}{r|cccccc}\n",
       "\t& \\$5,000 or less & \\$5,001 – \\$10,000 & \\$10,001 – \\$20,000 & \\$20,001 – \\$30,000 & \\$30,001 – \\$50,000 & \\\\\n",
       "\t\\hline\n",
       "\t& Any & Any & Any & Any & Any & \\\\\n",
       "\t\\hline\n",
       "\t1 & 105 & 57 & 219 & 201 & 354 & $\\dots$ \\\\\n",
       "\t2 & 108 & 69 & 357 & 414 & 492 & $\\dots$ \\\\\n",
       "\t3 & 21 & 6 & 30 & 21 & 63 & $\\dots$ \\\\\n",
       "\t4 & 174 & 57 & 267 & 207 & 402 & $\\dots$ \\\\\n",
       "\t5 & 51 & 39 & 114 & 132 & 255 & $\\dots$ \\\\\n",
       "\t6 & 114 & 57 & 258 & 189 & 237 & $\\dots$ \\\\\n",
       "\t7 & 108 & 45 & 225 & 189 & 240 & $\\dots$ \\\\\n",
       "\t8 & 72 & 18 & 75 & 60 & 117 & $\\dots$ \\\\\n",
       "\t9 & 117 & 42 & 189 & 147 & 219 & $\\dots$ \\\\\n",
       "\t10 & 201 & 84 & 357 & 303 & 387 & $\\dots$ \\\\\n",
       "\t11 & 141 & 63 & 408 & 312 & 324 & $\\dots$ \\\\\n",
       "\t12 & 72 & 21 & 72 & 75 & 96 & $\\dots$ \\\\\n",
       "\t13 & 126 & 39 & 144 & 114 & 180 & $\\dots$ \\\\\n",
       "\t14 & 207 & 69 & 390 & 285 & 333 & $\\dots$ \\\\\n",
       "\t15 & 210 & 60 & 273 & 228 & 327 & $\\dots$ \\\\\n",
       "\t16 & 231 & 69 & 252 & 201 & 333 & $\\dots$ \\\\\n",
       "\t17 & 174 & 48 & 162 & 138 & 282 & $\\dots$ \\\\\n",
       "\t18 & 150 & 51 & 147 & 126 & 225 & $\\dots$ \\\\\n",
       "\t19 & 210 & 60 & 261 & 222 & 324 & $\\dots$ \\\\\n",
       "\t20 & 120 & 57 & 150 & 135 & 207 & $\\dots$ \\\\\n",
       "\t21 & 162 & 48 & 360 & 387 & 327 & $\\dots$ \\\\\n",
       "\t22 & 243 & 81 & 441 & 417 & 429 & $\\dots$ \\\\\n",
       "\t23 & 135 & 57 & 195 & 174 & 273 & $\\dots$ \\\\\n",
       "\t24 & 165 & 60 & 363 & 282 & 330 & $\\dots$ \\\\\n",
       "\t25 & 108 & 33 & 165 & 141 & 192 & $\\dots$ \\\\\n",
       "\t26 & 3 & 3 & 3 & 3 & 9 & $\\dots$ \\\\\n",
       "\t27 & 225 & 78 & 327 & 273 & 393 & $\\dots$ \\\\\n",
       "\t28 & 246 & 126 & 507 & 426 & 525 & $\\dots$ \\\\\n",
       "\t29 & 135 & 57 & 189 & 165 & 291 & $\\dots$ \\\\\n",
       "\t30 & 285 & 102 & 291 & 270 & 387 & $\\dots$ \\\\\n",
       "\t$\\dots$ & $\\dots$ & $\\dots$ & $\\dots$ & $\\dots$ & $\\dots$ &  \\\\\n",
       "\\end{tabular}\n"
      ],
      "text/plain": [
       "\u001b[1m314×11 DataFrame\u001b[0m\n",
       "\u001b[1m Row \u001b[0m│\u001b[1m $5,000 or less \u001b[0m\u001b[1m $5,001 – $10,000 \u001b[0m\u001b[1m $10,001 – $20,000 \u001b[0m\u001b[1m $20,001 – $30,000 \u001b[0m\u001b[1m\u001b[0m ⋯\n",
       "\u001b[1m     \u001b[0m│\u001b[90m Any            \u001b[0m\u001b[90m Any              \u001b[0m\u001b[90m Any               \u001b[0m\u001b[90m Any               \u001b[0m\u001b[90m\u001b[0m ⋯\n",
       "─────┼──────────────────────────────────────────────────────────────────────────\n",
       "   1 │ 105             57                219                201                ⋯\n",
       "   2 │ 108             69                357                414\n",
       "   3 │ 21              6                 30                 21\n",
       "   4 │ 174             57                267                207\n",
       "   5 │ 51              39                114                132                ⋯\n",
       "   6 │ 114             57                258                189\n",
       "   7 │ 108             45                225                189\n",
       "   8 │ 72              18                75                 60\n",
       "   9 │ 117             42                189                147                ⋯\n",
       "  10 │ 201             84                357                303\n",
       "  11 │ 141             63                408                312\n",
       "  ⋮  │       ⋮                ⋮                  ⋮                  ⋮          ⋱\n",
       " 305 │ 60              30                90                 78\n",
       " 306 │ 90              33                171                108                ⋯\n",
       " 307 │ 51              24                120                75\n",
       " 308 │ 96              33                135                90\n",
       " 309 │ 105             60                324                228\n",
       " 310 │ 126             42                405                366                ⋯\n",
       " 311 │ 36              30                120                105\n",
       " 312 │ C               C                 C                  C\n",
       " 313 │ 78              33                168                123\n",
       " 314 │ C               C                 C                  C                  ⋯\n",
       "\u001b[36m                                                  7 columns and 293 rows omitted\u001b[0m"
      ]
     },
     "execution_count": 18,
     "metadata": {},
     "output_type": "execute_result"
    }
   ],
   "source": [
    "income_data = DataFrame(region_income_data[\"SA2!JE10:JO324\"], :auto)\n",
    "rename!(income_data, Symbol.(Vector(income_data[1,:])))[2:end,:]"
   ]
  }
 ],
 "metadata": {
  "kernelspec": {
   "display_name": "Julia 1.6.2",
   "language": "julia",
   "name": "julia-1.6"
  },
  "language_info": {
   "file_extension": ".jl",
   "mimetype": "application/julia",
   "name": "julia",
   "version": "1.6.2"
  }
 },
 "nbformat": 4,
 "nbformat_minor": 4
}
